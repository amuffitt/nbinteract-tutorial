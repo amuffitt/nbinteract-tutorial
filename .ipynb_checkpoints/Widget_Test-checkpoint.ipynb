{
 "cells": [
  {
   "cell_type": "markdown",
   "metadata": {},
   "source": [
    "# Compare Sports Team Win/Loss Records Over Time\n",
    "<img src=\"sportslogo.jpg\" align='left' width=\"300\" length=\"230\" />"
   ]
  },
  {
   "cell_type": "markdown",
   "metadata": {},
   "source": [
    "<img src=\"NBA Western Winner 2000s.JPG\" align='left' width=\"700\" length=\"700\" />"
   ]
  },
  {
   "cell_type": "code",
   "execution_count": 10,
   "metadata": {},
   "outputs": [],
   "source": [
    "#import libraries\n",
    "%matplotlib widget\n",
    "import pandas as pd\n",
    "import numpy as np\n",
    "import matplotlib as mpl\n",
    "import matplotlib.pyplot as plt\n",
    "import matplotlib.animation as animation\n",
    "from IPython.display import HTML\n",
    "from collections import defaultdict\n",
    "import matplotlib.colors as mc\n",
    "import re\n",
    "#%matplotlib inline\n"
   ]
  },
  {
   "cell_type": "code",
   "execution_count": 11,
   "metadata": {},
   "outputs": [],
   "source": [
    "#import the file into Python \n",
    "records=pd.read_excel('Sports Records by Year.xlsx')"
   ]
  },
  {
   "cell_type": "code",
   "execution_count": 12,
   "metadata": {},
   "outputs": [
    {
     "data": {
      "text/html": [
       "<div>\n",
       "<style scoped>\n",
       "    .dataframe tbody tr th:only-of-type {\n",
       "        vertical-align: middle;\n",
       "    }\n",
       "\n",
       "    .dataframe tbody tr th {\n",
       "        vertical-align: top;\n",
       "    }\n",
       "\n",
       "    .dataframe thead th {\n",
       "        text-align: right;\n",
       "    }\n",
       "</style>\n",
       "<table border=\"1\" class=\"dataframe\">\n",
       "  <thead>\n",
       "    <tr style=\"text-align: right;\">\n",
       "      <th></th>\n",
       "      <th>Year</th>\n",
       "      <th>Team</th>\n",
       "      <th>Wins</th>\n",
       "      <th>Losses</th>\n",
       "      <th>Ties</th>\n",
       "      <th>Sport</th>\n",
       "      <th>Conf</th>\n",
       "    </tr>\n",
       "  </thead>\n",
       "  <tbody>\n",
       "    <tr>\n",
       "      <th>0</th>\n",
       "      <td>1960</td>\n",
       "      <td>Air Force Falcons</td>\n",
       "      <td>4.0</td>\n",
       "      <td>6.0</td>\n",
       "      <td>0.0</td>\n",
       "      <td>NCAA Football</td>\n",
       "      <td>NCAAF Indep</td>\n",
       "    </tr>\n",
       "    <tr>\n",
       "      <th>1</th>\n",
       "      <td>1961</td>\n",
       "      <td>Air Force Falcons</td>\n",
       "      <td>3.0</td>\n",
       "      <td>7.0</td>\n",
       "      <td>0.0</td>\n",
       "      <td>NCAA Football</td>\n",
       "      <td>NCAAF Indep</td>\n",
       "    </tr>\n",
       "    <tr>\n",
       "      <th>2</th>\n",
       "      <td>1962</td>\n",
       "      <td>Air Force Falcons</td>\n",
       "      <td>5.0</td>\n",
       "      <td>5.0</td>\n",
       "      <td>0.0</td>\n",
       "      <td>NCAA Football</td>\n",
       "      <td>NCAAF Indep</td>\n",
       "    </tr>\n",
       "    <tr>\n",
       "      <th>3</th>\n",
       "      <td>1963</td>\n",
       "      <td>Air Force Falcons</td>\n",
       "      <td>7.0</td>\n",
       "      <td>4.0</td>\n",
       "      <td>0.0</td>\n",
       "      <td>NCAA Football</td>\n",
       "      <td>NCAAF Indep</td>\n",
       "    </tr>\n",
       "    <tr>\n",
       "      <th>4</th>\n",
       "      <td>1964</td>\n",
       "      <td>Air Force Falcons</td>\n",
       "      <td>4.0</td>\n",
       "      <td>5.0</td>\n",
       "      <td>1.0</td>\n",
       "      <td>NCAA Football</td>\n",
       "      <td>NCAAF Indep</td>\n",
       "    </tr>\n",
       "    <tr>\n",
       "      <th>...</th>\n",
       "      <td>...</td>\n",
       "      <td>...</td>\n",
       "      <td>...</td>\n",
       "      <td>...</td>\n",
       "      <td>...</td>\n",
       "      <td>...</td>\n",
       "      <td>...</td>\n",
       "    </tr>\n",
       "    <tr>\n",
       "      <th>10519</th>\n",
       "      <td>2015</td>\n",
       "      <td>Wyoming Cowboys</td>\n",
       "      <td>2.0</td>\n",
       "      <td>10.0</td>\n",
       "      <td>0.0</td>\n",
       "      <td>NCAA Football</td>\n",
       "      <td>NCAAF MWC</td>\n",
       "    </tr>\n",
       "    <tr>\n",
       "      <th>10520</th>\n",
       "      <td>2016</td>\n",
       "      <td>Wyoming Cowboys</td>\n",
       "      <td>8.0</td>\n",
       "      <td>6.0</td>\n",
       "      <td>0.0</td>\n",
       "      <td>NCAA Football</td>\n",
       "      <td>NCAAF MWC</td>\n",
       "    </tr>\n",
       "    <tr>\n",
       "      <th>10521</th>\n",
       "      <td>2017</td>\n",
       "      <td>Wyoming Cowboys</td>\n",
       "      <td>8.0</td>\n",
       "      <td>5.0</td>\n",
       "      <td>0.0</td>\n",
       "      <td>NCAA Football</td>\n",
       "      <td>NCAAF MWC</td>\n",
       "    </tr>\n",
       "    <tr>\n",
       "      <th>10522</th>\n",
       "      <td>2018</td>\n",
       "      <td>Wyoming Cowboys</td>\n",
       "      <td>6.0</td>\n",
       "      <td>6.0</td>\n",
       "      <td>0.0</td>\n",
       "      <td>NCAA Football</td>\n",
       "      <td>NCAAF MWC</td>\n",
       "    </tr>\n",
       "    <tr>\n",
       "      <th>10523</th>\n",
       "      <td>2019</td>\n",
       "      <td>Wyoming Cowboys</td>\n",
       "      <td>8.0</td>\n",
       "      <td>5.0</td>\n",
       "      <td>0.0</td>\n",
       "      <td>NCAA Football</td>\n",
       "      <td>NCAAF MWC</td>\n",
       "    </tr>\n",
       "  </tbody>\n",
       "</table>\n",
       "<p>10524 rows × 7 columns</p>\n",
       "</div>"
      ],
      "text/plain": [
       "       Year               Team  Wins  Losses  Ties          Sport         Conf\n",
       "0      1960  Air Force Falcons   4.0     6.0   0.0  NCAA Football  NCAAF Indep\n",
       "1      1961  Air Force Falcons   3.0     7.0   0.0  NCAA Football  NCAAF Indep\n",
       "2      1962  Air Force Falcons   5.0     5.0   0.0  NCAA Football  NCAAF Indep\n",
       "3      1963  Air Force Falcons   7.0     4.0   0.0  NCAA Football  NCAAF Indep\n",
       "4      1964  Air Force Falcons   4.0     5.0   1.0  NCAA Football  NCAAF Indep\n",
       "...     ...                ...   ...     ...   ...            ...          ...\n",
       "10519  2015    Wyoming Cowboys   2.0    10.0   0.0  NCAA Football    NCAAF MWC\n",
       "10520  2016    Wyoming Cowboys   8.0     6.0   0.0  NCAA Football    NCAAF MWC\n",
       "10521  2017    Wyoming Cowboys   8.0     5.0   0.0  NCAA Football    NCAAF MWC\n",
       "10522  2018    Wyoming Cowboys   6.0     6.0   0.0  NCAA Football    NCAAF MWC\n",
       "10523  2019    Wyoming Cowboys   8.0     5.0   0.0  NCAA Football    NCAAF MWC\n",
       "\n",
       "[10524 rows x 7 columns]"
      ]
     },
     "execution_count": 12,
     "metadata": {},
     "output_type": "execute_result"
    }
   ],
   "source": [
    "records"
   ]
  },
  {
   "cell_type": "code",
   "execution_count": 13,
   "metadata": {},
   "outputs": [
    {
     "name": "stdout",
     "output_type": "stream",
     "text": [
      "<class 'pandas.core.frame.DataFrame'>\n",
      "RangeIndex: 10524 entries, 0 to 10523\n",
      "Data columns (total 7 columns):\n",
      " #   Column  Non-Null Count  Dtype  \n",
      "---  ------  --------------  -----  \n",
      " 0   Year    10524 non-null  int64  \n",
      " 1   Team    10524 non-null  object \n",
      " 2   Wins    10522 non-null  float64\n",
      " 3   Losses  10522 non-null  float64\n",
      " 4   Ties    7458 non-null   float64\n",
      " 5   Sport   10524 non-null  object \n",
      " 6   Conf    10524 non-null  object \n",
      "dtypes: float64(3), int64(1), object(3)\n",
      "memory usage: 575.7+ KB\n"
     ]
    }
   ],
   "source": [
    "records.info()"
   ]
  },
  {
   "cell_type": "code",
   "execution_count": 14,
   "metadata": {},
   "outputs": [],
   "source": [
    "records= records.astype({'Wins': 'Int32', 'Losses': 'Int32', 'Ties': 'Int32' })"
   ]
  },
  {
   "cell_type": "code",
   "execution_count": 15,
   "metadata": {},
   "outputs": [],
   "source": [
    "#assigning a related bar color for each team\n",
    "colorarray={'Arizona Cardinals': '#97233F','Atlanta Falcons':'Black','Baltimore Colts': '#002C5F','Baltimore Ravens':'Rebeccapurple','Boston Patriots':'#002244','Buffalo Bills':'Royalblue','Carolina Panthers':'#0085CA','Cincinnati Bengals':'#fb4f14','Chicago Bears':'#0B162A','Cleveland Browns':'Sienna','Dallas Cowboys':'Silver','Denver Broncos':'#002244','Detroit Lions':'#B0B7BC','Green Bay Packers': '#203731','Houston Oilers':'lightblue','Houston Texans':'#A71930','Indianapolis Colts':'#002C5F','Jacksonville Jaguars':'#006778','Kansas City Chiefs':'#E31837','Los Angeles Chargers':'#0080C6','Los Angeles Raiders':'#000000','Los Angeles Rams':'#866D4B','Miami Dolphins':'#008E97','Minnesota Vikings': '#4F2683','New England Patriots':'#002244','New Orleans Saints':'#D3BC8D','New York Giants':'#0B2265','New York Jets':'#125740','Oakland Raiders':'#000000', 'Philadelphia Eagles':'#004C54','Phoenix Cardinals':'#97233F','Pittsburgh Steelers':'#FFB612','San Diego Chargers':'#0080C6','San Francisco 49ers':'#AA0000','Seattle Seahawks': '#69BE28','St. Louis Rams': '#866D4B','Tampa Bay Buccaneers':'orangered','Tennessee Oilers':'lightblue','Tennessee Titans':'#4B92DB','Washington Redskins':'#773141','Atlanta Hawks': '#E03A3E','Baltimore Bullets': 'orange','Boston Celtics': '#007A33','Brooklyn Nets': '#000000','Buffalo Braves': 'orange','Charlotte Bobcats': 'lightblue','Charlotte Hornets': '#00788C','Chicago Bulls': '#CE1141','Cincinnati Royals': 'royalblue','Cleveland Cavaliers': '#FDBB30','Dallas Mavericks': '#00538C','Denver Nuggets': '#0E2240','Detroit Pistons': '#1D42BA','Golden State Warriors': '#FFC72C','Houston Rockets': '#CE1141','Indiana Pacers': '#FDBB30','Kansas City Kings':'blue','Los Angeles Clippers': '#1D428A','Los Angeles Lakers': '#552583','Memphis Grizzlies': '#5D76A9','Miami Heat': '#000000','Milwaukee Bucks': '#00471B','Minneapolis Lakers': '#FFC72C','Minnesota Timberwolves': '#78BE20','New Jersey Nets': '#C8102E','New Orleans Hornets': '#00788C','New Orleans Pelicans': '#0C2340','New Orleans Jazz': '#1D1160','New York Knicks': '#006BB6','Oklahoma City Thunder': '#EF3B24','Orlando Magic': '#0077C0','Philadelphia 76ers': '#006BB6','Phoenix Suns': '#1D1160','Portland Trail Blazers': '#000000','Sacramento Kings': '#5A2D81','San Antonio Spurs': '#C4CED4','San Diego Rockets':'Green','San Francisco Warriors': '#FFC72C','Seattle SuperSonics': '#00653A','Toronto Raptors': '#CE1141','Utah Jazz': '#002B5C','Vancouver Grizzlies': '#00788C','Washington Bullets': '#E31837','Washington Wizards': '#E31837','Arizona Diamondbacks': '#A71930','Atlanta Braves': '#13274F','Baltimore Orioles': '#DF4601','Boston Red Sox': '#BD3039','Boston Red Sox': '#BD3039','California Angels':'#BA0021','Chicago Cubs': '#0E3386','Chicago White Sox': '#27251F','Cincinnati Reds': '#C6011F','Cleveland Indians': '#E31937','Colorado Rockies': '#33006F','Detroit Tigers': '#0C2340','Detroit Tigers': '#0C2340','Houston Astros': '#EB6E1F','Florida Marlins':'Teal','Kansas City Royals': '#004687','Los Angeles Angels': '#BA0021','Los Angeles Dodgers': '#005A9C','Miami Marlins': '#00A3E0','Milwaukee Brewers': '#0A2351','Minnesota Twins': '#002B5C','Montreal Expos': '#003087','New York Mets': '#002D72','New York Yankees': '#0C2340','Oakland Athletics': '#003831','Philadelphia Phillies': '#E81828','Pittsburgh Pirates': '#FDB827','St. Louis Cardinals': '#C41E3A','San Diego Padres': '#2F241D','San Francisco Giants': '#FD5A1E','Seattle Mariners': '#005C5C','Tampa Bay Rays': '#8FBCE6','Texas Rangers': '#003278','Toronto Blue Jays': '#134A8E','Washington Nationals': '#AB0003','Air Force Falcons': '#003087','Alabama Crimson Tide': '#9E1B32','Arizona State Sun Devils': '#8C1D40','Arizona Wildcats': '#CC0033','Arkansas Razorbacks': '#9D2235','Army Black Knights': '#97233F','Auburn Tigers': '#0C2340','Baylor Bears': '#003015','Boise State Broncos': '#0033A0','Boston College Eagles': '#98002E','B Y U Cougars': '#002E5D','California Golden Bears': '#FDB515','Central Florida Knights': '#BA9B37','Cincinnati Bearkats': '#E00122','Clemson Tigers': '#F56600','Colorado Buffaloes': '#000000','Colorado State Rams': '#1E4D2B','Connecticut Huskies': '#002E5D','Duke Blue Devils': '#003087','East Carolina Pirates': '#592A8A','Florida Gators': '#0021A5','Florida State Seminoles': '#782F40','Fresno State Bulldogs': '#DB0032','Georgia Bulldogs': '#BA0C2F','Georgia Tech Yellow Jackets': '#B3A369','Hawaii Rainbow Warriors': '#024731','Houston Cougars': '#C8102E','Illinois Fighing Illini': '#E84A27','Indiana Hoosiers': '#990000','Iowa Hawkeyes': '#FFCD00','Iowa State Cyclones': '#C8102E','Kansas Jayhawks': '#0051BA','Kansas State Wildcats': '#512888','Kentucky Wildcats': '#0033A0','Louisville Cardinals': '#AD0000','LSU Tigers': '#461D7C','Maryland Terrapins': '#E03A3E','Memphis Tigers': '#003087','Miami Hurricanes': '#F47321','Michigan State Spartans': '#18453B','Michigan Wolverines': '#FFCB05','Minnesota Golden Gophers': '#7A0019','Mississippi State Bulldogs': '#660000','Missouri Tigers': '#F1B82D','Navy Midshipmen': '#00205B','NC State Wolfpack': '#CC0000','Nebraska Cornhuskers': '#E41C38','Nevada Wolf Pack': '#003366','New Mexico Lobos': '#BA0C2F','New Mexico State Aggies': '#861F41','North Carolina Tarheels': '#7BAFD4','Northwestern Wildcats': '#4E2A84','Notre Dame Fighting Irish': '#0C2340','Ohio State Buckeyes': '#BB0000','Oklahoma Sooners': '#841617','Oklahoma State Cowboys': '#FF7300','Ole Miss Rebels': '#CE1126','Oregon Ducks': '#154733','Oregon State Beavers': '#DC4405','Penn State Nittany Lions': '#041E42','Pittsburgh Panthers': '#FFB81C','Purdue Boilermakers': '#CEB888','Rutgers Scarlet Knights': '#CC0033','San Diego State Aztecs': '#000000','San Jose State Spartans': '#0055A2','SMU Mustangs': '#0033A0','South Carolina Gamecocks': '#73000A','South Florida Bulls': '#006747','Stanford Cardinal': '#8C1515','Syracuse Orange': '#D44500','TCU Horned Frogs': '#4D1979','Temple Owls': '#9D2235','Tennessee Volunteers': '#FF8200','Texas A&M Aggies': '#500000','Texas Longhorns': '#BF5700','Texas Tech Red Raiders': '#CC0000','Tulane Green Wave': '#006747','Tulsa Golden Hurricane': '#002D72','UCLA Bruins': '#2D68C4','UNLV Rebels': '#CF0A2C','USC Trojans': '#990000','Utah State Aggies': '#0F2439','Utah Utes': '#CC0000','Vanderbilt Commodores': '#866D4B','Virginia Cavaliers': '#F84C1E','Virginia Tech Hokies': '#630031','Wake Forest Demon Deacons': '#9E7E38','Washington Huskies': '#4B2E83','Washington State Cougars': '#981E32','West Virginia Mountaineers': '#EAAA00','Wisconsin Badgers': '#C5050C','Wyoming Cowboys': '#492F24'}"
   ]
  },
  {
   "cell_type": "code",
   "execution_count": 16,
   "metadata": {},
   "outputs": [],
   "source": [
    "#assigning a default color for any team not in the main color assignment dictionary\n",
    "#colorarray = defaultdict(lambda: 'lightblue', colorarray)"
   ]
  },
  {
   "cell_type": "code",
   "execution_count": 17,
   "metadata": {},
   "outputs": [],
   "source": [
    "#Create figure and call the draw_barchart function\n",
    "\n",
    "#Commenting out initial variables unless testing without widget selectors in next cell\n",
    "\n",
    "#fig, ax = plt.subplots(figsize=(40, 20))\n",
    "#yearstart=2017\n",
    "#yearshow=2017\n",
    "#yearstop=2018\n",
    "#conf='NBA Eastern'\n",
    "\n",
    "#useconf=False\n",
    "\n",
    "#team_list=['Green Bay Packers','Minnesota Vikings','Detroit Lions','Chicago Bears','Seattle Seahawks','Arizona Cardinals','Buffalo Bills','Cincinnati Bengals']\n",
    "#team_list=['Green Bay Packers']\n",
    "\n",
    "#creating a function to produce the chart for a specified year\n",
    "\n",
    "\n",
    "\n",
    "def draw_barchart(yearshow):\n",
    "    \n",
    "    \n",
    "    if((useconf==True) & ((conf!='All NFL') & (conf!='All NBA')  & (conf!='All MLB'))):\n",
    "        records_selected=records[(records['Year']>=yearstart) & (records['Conf'] == conf)]\n",
    "    elif((useconf==True) & (conf=='All NFL')):\n",
    "        records_selected=records[(records['Year']>=yearstart) & (records['Sport'] == 'Football')]\n",
    "    elif((useconf==True) & (conf=='All NBA')):\n",
    "        records_selected=records[(records['Year']>=yearstart) & (records['Sport'] == 'Basketball')]\n",
    "    elif((useconf==True) & (conf=='All MLB')):\n",
    "        records_selected=records[(records['Year']>=yearstart) & (records['Sport'] == 'Baseball')]\n",
    "    else:\n",
    "        records_selected=records[(records['Year']>=yearstart) & (records['Team'].isin(team_list))]\n",
    "    #print(records_selected)\n",
    "    records_selected.index = range(len(records_selected))\n",
    "    runningsum=records_selected.groupby(['Team','Year']).sum().groupby(['Team']).transform('cumsum').reset_index()\n",
    "    runningsum = runningsum.rename(columns={'Wins': 'TotalWins', 'Losses': 'TotalLosses', 'Ties': 'TotalTies'})\n",
    "    runningsum=runningsum.drop(['Team','Year'],axis=1)\n",
    "    records_selected=records_selected.join(runningsum)\n",
    "    records_selected= records_selected.astype({'TotalWins': 'Int32', 'TotalLosses': 'Int32', 'TotalTies': 'Int32' })\n",
    "\n",
    "    \n",
    "    records_currentyear=records_selected[records_selected['Year'].eq(yearshow)].sort_values(by=['TotalWins'], ascending=False)\n",
    "\n",
    "    #show leading bars top to bottom\n",
    "    records_currentyear = records_currentyear[::-1]\n",
    "    ax.clear()\n",
    "                       \n",
    "    ax.barh(records_currentyear['Team'], records_currentyear['TotalWins'], color = [colorarray[i] for i in records_currentyear['Team']])\n",
    "\n",
    "    #loop to put text of team after bar and win loss record/season record inside bar\n",
    "    for i, (totalwins,Team,totallosses, totalties,win,loss,tie,sport) in enumerate(zip(records_currentyear['TotalWins'], records_currentyear['Team'], records_currentyear['TotalLosses'], records_currentyear['TotalTies'], records_currentyear['Wins'],records_currentyear['Losses'],records_currentyear['Ties'],records_currentyear['Sport'])):\n",
    "        if(sport=='Football' or sport=='NCAA Football'): \n",
    "             if(len(records_currentyear['Team'])<9):\n",
    "\n",
    "                 ax.text(totalwins, i,   str(totalwins) + ' - ' + str(totallosses) + ' - ' + str(totalties), ha='right', color = 'white', weight=600, size = 12, va='center')\n",
    "                 ax.text(totalwins, i,   '(' + str(yearshow) +': '+ str(win) + ' - ' + str(loss) + ' - ' + str(tie) + ')', ha='left', color = 'red', size = 9, va='top')   \n",
    "                 ax.text(totalwins, i,   Team, ha='left', color = 'black', size = 6, weight=600, va='bottom')\n",
    "             elif(9<=len(records_currentyear['Team'])<18):\n",
    "\n",
    "                 ax.text(totalwins, i,   str(totalwins) + ' - ' + str(totallosses) + ' - ' + str(totalties), ha='right', color = 'white', weight=600, size = 10, va='center')\n",
    "                 ax.text(totalwins, i,   '(' + str(yearshow) +': '+ str(win) + ' - ' + str(loss) + ' - ' + str(tie) + ')', ha='left', color = 'red', size = 7, va='top')   \n",
    "                 ax.text(totalwins, i,   Team, ha='left', color = 'black', size = 5, weight=600, va='bottom')\n",
    "             else:\n",
    "                 ax.text(totalwins, i,   str(totalwins) + ' - ' + str(totallosses) + ' - ' + str(totalties), ha='right', color = 'white', weight=600, size = 8, va='center')\n",
    "                 ax.text(totalwins, i,   '(' + str(yearshow) +': '+ str(win) + ' - ' + str(loss) + ' - ' + str(tie) + ')', ha='left', color = 'red', size = 5, va='top')    \n",
    "                 ax.text(totalwins, i,   Team, ha='left', color = 'black', size = 4, weight=600, va='bottom')\n",
    "        else:\n",
    "            if(len(records_currentyear['Team'])<9):\n",
    "                    \n",
    "                 \n",
    "                 ax.text(totalwins, i,   str(totalwins) + ' - ' + str(totallosses), ha='right', color = 'white', weight=600, size = 50, va='center')\n",
    "                 ax.text(totalwins, i,   '(' + str(yearshow) +': '+ str(win) + ' - ' + str(loss) + ')', ha='left', color = 'red', size = 33, va='top')   \n",
    "                 ax.text(totalwins, i,   Team, ha='left', color = 'black', size = 33, weight=600, va='bottom')\n",
    "            elif(9<=len(records_currentyear['Team'])<18):\n",
    "                 \n",
    "                 ax.text(totalwins, i,   str(totalwins) + ' - ' + str(totallosses), ha='right', color = 'white', weight=600, size = 40, va='center')\n",
    "                 ax.text(totalwins, i,   '(' + str(yearshow) +': '+ str(win) + ' - ' + str(loss) + ')', ha='left', color = 'red', size = 31, va='top')  \n",
    "                 ax.text(totalwins, i,   Team, ha='left', color = 'black', size = 31, weight=600, va='bottom')\n",
    "            \n",
    "            else:\n",
    "                 \n",
    "                 ax.text(totalwins, i,   str(totalwins) + ' - ' + str(totallosses), ha='right', color = 'white', weight=600, size = 30, va='center')\n",
    "                 ax.text(totalwins, i,   '(' + str(yearshow) +': '+ str(win) + ' - ' + str(loss) + ')', ha='left', color = 'red', size = 23, va='top')  \n",
    "                 ax.text(totalwins, i,   Team, ha='left', color = 'black', size = 28, weight=600, va='bottom')\n",
    "            \n",
    "    #Putting a bigger year label on the right of graph to make it more obvious what year the data is showing\n",
    "    ax.text(1.1, 0.3, yearshow, transform=ax.transAxes, size=25, weight=600, ha='right', color='Red')\n",
    "    \n",
    "    ax.xaxis.set_ticks_position('top')\n",
    "    \n",
    "    plt.tick_params(labelsize = 8)\n",
    "    if(yearshow==yearstop):\n",
    "        if (records_currentyear['TotalWins'].iloc[-1] != records_currentyear['TotalWins'].iloc[-2]): \n",
    "            ax.set_title(str(yearstart) + ' - ' + str(yearstop) + ' ' + 'WINNER' + ' : ' +  records_currentyear['Team'].iloc[-1].upper(),color = 'Red',size = 15, weight=600)\n",
    "        else: ax.set_title('TIE:' + ' ' +  records_currentyear['Team'].iloc[-1].upper() + ' AND ' + records_currentyear['Team'].iloc[-2].upper(),color = 'Red',size = 12, weight=600)\n",
    "    else:\n",
    "        ax.set_title('Total Wins and Losses ' + ' ' + str(yearstart) + ' - ' + str(yearstop) + '   ' +'('+ str(yearshow) + ')', size =8, weight=600)    \n",
    "    \n",
    "    ax.set_yticklabels([])\n",
    "    plt.box(False)\n",
    "    ax.grid(which='major', axis='x', linestyle='-')\n",
    "    ax.text(0, 1.06, 'Total Wins Since ' +  str(yearstart) +  ' (Reg Season)', transform=ax.transAxes, size=6, color='red')\n",
    "    \n",
    "    fig.canvas.toolbar_visible=False\n",
    "    fig.canvas.header_visible=False\n",
    "         \n",
    "#draw_barchart(yearstart)   "
   ]
  },
  {
   "cell_type": "code",
   "execution_count": 19,
   "metadata": {},
   "outputs": [
    {
     "data": {
      "application/vnd.jupyter.widget-view+json": {
       "model_id": "5a658df994504c79bf7823649ad1bdab",
       "version_major": 2,
       "version_minor": 0
      },
      "text/plain": [
       "HTML(value='<h4><center><b><u>Submit Input Values to Generate Team Win/Loss Records Over Time</u></b></center>…"
      ]
     },
     "metadata": {},
     "output_type": "display_data"
    },
    {
     "data": {
      "application/vnd.jupyter.widget-view+json": {
       "model_id": "b96a725fbd43470e93f67387c7e013de",
       "version_major": 2,
       "version_minor": 0
      },
      "text/plain": [
       "HBox(children=(Dropdown(description='Start Year:', options=('Choose', 1960, 1961, 1962, 1963, 1964, 1965, 1966…"
      ]
     },
     "metadata": {},
     "output_type": "display_data"
    },
    {
     "data": {
      "application/vnd.jupyter.widget-view+json": {
       "model_id": "ede7350707d243979b3d87ab5e95420c",
       "version_major": 2,
       "version_minor": 0
      },
      "text/plain": [
       "HTML(value=\"<b><u>Choose desired teams to compare in NFL, NFL, MLB, or NCAA Football (only select values in on…"
      ]
     },
     "metadata": {},
     "output_type": "display_data"
    },
    {
     "data": {
      "application/vnd.jupyter.widget-view+json": {
       "model_id": "9d6535bdc6f14b46a89e9ba8d325165f",
       "version_major": 2,
       "version_minor": 0
      },
      "text/plain": [
       "HBox(children=(SelectMultiple(description='NFL', layout=Layout(height='100px', width='350px'), options=('Arizo…"
      ]
     },
     "metadata": {},
     "output_type": "display_data"
    },
    {
     "data": {
      "application/vnd.jupyter.widget-view+json": {
       "model_id": "9bea3b20a159458fba10d1c1213d175c",
       "version_major": 2,
       "version_minor": 0
      },
      "text/plain": [
       "HBox(children=(SelectMultiple(description='MLB', layout=Layout(height='100px', width='350px'), options=('Anahe…"
      ]
     },
     "metadata": {},
     "output_type": "display_data"
    },
    {
     "data": {
      "application/vnd.jupyter.widget-view+json": {
       "model_id": "715c95e474784ec8ae93891b81345886",
       "version_major": 2,
       "version_minor": 0
      },
      "text/plain": [
       "HBox(children=(Dropdown(description='League/Conf', layout=Layout(width='220px'), options=('None', 'All NFL', '…"
      ]
     },
     "metadata": {},
     "output_type": "display_data"
    },
    {
     "data": {
      "application/vnd.jupyter.widget-view+json": {
       "model_id": "5a70a419e68f4a0ba0d70162ff4e6c1c",
       "version_major": 2,
       "version_minor": 0
      },
      "text/plain": [
       "HTML(value=\"<b><u>Select animation speed to control how fast the year frames advance in the animation.</u></b>…"
      ]
     },
     "metadata": {},
     "output_type": "display_data"
    },
    {
     "data": {
      "application/vnd.jupyter.widget-view+json": {
       "model_id": "0703687314394d8091be42a82680ad71",
       "version_major": 2,
       "version_minor": 0
      },
      "text/plain": [
       "HBox(children=(RadioButtons(description='AnimSpeed:', index=1, options=(('Slow', 5000), ('Medium', 3000), ('Fa…"
      ]
     },
     "metadata": {},
     "output_type": "display_data"
    },
    {
     "data": {
      "application/vnd.jupyter.widget-view+json": {
       "model_id": "8c523ae9fabb444689cb783fa13dd7e7",
       "version_major": 2,
       "version_minor": 0
      },
      "text/plain": [
       "HTML(value=\"<b><u>Click 'Run Chart' button to display result!</u></b><ul><li>Animation will play in the <b>nex…"
      ]
     },
     "metadata": {},
     "output_type": "display_data"
    },
    {
     "data": {
      "application/vnd.jupyter.widget-view+json": {
       "model_id": "74c0eedbc1af408a87e949a864bdd0e8",
       "version_major": 2,
       "version_minor": 0
      },
      "text/plain": [
       "interactive(children=(Checkbox(value=False, description='Show Result', indent=False, layout=Layout(height='30p…"
      ]
     },
     "metadata": {},
     "output_type": "display_data"
    },
    {
     "data": {
      "text/plain": [
       "<function __main__.run_all(e)>"
      ]
     },
     "execution_count": 19,
     "metadata": {},
     "output_type": "execute_result"
    }
   ],
   "source": [
    "#use ipywidgets to select and submit info\n",
    "import ipywidgets as wg\n",
    "from ipywidgets import Text, HBox, VBox, Box, Layout\n",
    "from IPython.display import display\n",
    "#mpl.rcParams['animation.embed_limit'] = 2**128\n",
    "#mpl.rcParams['animation.html'] = 'jshtml'\n",
    "\n",
    "#Set initial variables\n",
    "#Signals when conference is selected rather than individual teams\n",
    "useconf=False\n",
    "\n",
    "#animation speed variables\n",
    "slow=5000\n",
    "medium=3000\n",
    "fast=1500\n",
    "reallyfast=800\n",
    "\n",
    "#default to medium\n",
    "speed=medium\n",
    "\n",
    "#Default to no conferene/leagues being selected\n",
    "conf='None'  \n",
    "\n",
    "team_list=[]\n",
    "\n",
    "\n",
    "#Display title and instructions on selecting date range\n",
    "instructions=wg.HTML(\n",
    "    value=\"<h4><center><b><u>Submit Input Values to Generate Team Win/Loss Records Over Time</u></b></center></h4><b><u>Select date range for results</u></b><br><ul><li>Select <b>Start Year</b> for the year data is to start. Select <b>End Year</b> for the year data is to end</li></ul>\",\n",
    "    placeholder='',\n",
    "    description='',\n",
    ")\n",
    "\n",
    "display(instructions)\n",
    "\n",
    "#Start date widget dropdown from 1970 to last year (Initial 'Choose' forces user to select date)\n",
    "startdateselect=wg.Dropdown(\n",
    "    options=['Choose',1960, 1961, 1962,1963,1964,1965,1966,1967,1968,1969,1970, 1971, 1972,1973,1974,1975,1976,1977,1978,1979,1980,1981,1982,1983,1984,1985,1986,1987,1988,1989,1990,1991,1992,1993,1994,1995,1996,1997,1998,1999,2000,2001,2002,2003,2004,2005,2006,2007,2008,2009,2010,2011,2012,2013,2014,2015,2016,2017,2018,2019],\n",
    "    #value='',\n",
    "    description='Start Year:',\n",
    "    disabled=False,\n",
    ")\n",
    "\n",
    "#function to set year start variable\n",
    "def createyearstart(y):\n",
    "    global yearstart\n",
    "    yearstart=y\n",
    "\n",
    "#pass dropdown value to set variable    \n",
    "\n",
    "wg.interactive(createyearstart,y=startdateselect)\n",
    "\n",
    "#End date widget dropdown from 1970 to last year\n",
    "enddateselect=wg.Dropdown(\n",
    "    options=['Choose',1960, 1961, 1962,1963,1964,1965,1966,1967,1968,1969,1970, 1971, 1972,1973,1974,1975,1976,1977,1978,1979,1980,1981,1982,1983,1984,1985,1986,1987,1988,1989,1990,1991,1992,1993,1994,1995,1996,1997,1998,1999,2000,2001,2002,2003,2004,2005,2006,2007,2008,2009,2010,2011,2012,2013,2014,2015,2016,2017,2018,2019],\n",
    "    #value='',\n",
    "    description='End Year:',\n",
    "    disabled=False,\n",
    ")\n",
    "\n",
    "#function to set year start variable\n",
    "def createyearstop(z):\n",
    "    global yearstop\n",
    "    yearstop=z\n",
    "\n",
    "#pass dropdown value to set variable        \n",
    "wg.interactive(createyearstop,z=enddateselect)\n",
    "\n",
    "#Align date dropdown boxes in horizontal row\n",
    "display(HBox([startdateselect, enddateselect]))\n",
    "\n",
    "#Display instructions on selecting teams/conferences\n",
    "instructions2=wg.HTML(\n",
    "    value=\"<b><u>Choose desired teams to compare in NFL, NFL, MLB, or NCAA Football (only select values in one sport)</u></b><br><ul><li>For comparing specific individual teams, select at least 2 teams (hold down Control to select/deselect)</li><li>To run for a conference (or league) instead of specific individual teams, select a single value in the League/conf list</li><li><b>Note: </b>The 'League/conf' list overrides selected values in the team lists. To run for individual teams, ensure 'None' is selected in 'League/conf' list</li></ul>\",\n",
    "    placeholder='',\n",
    "    description='',\n",
    ")\n",
    "\n",
    "display(instructions2)\n",
    "\n",
    "\n",
    "#create select multiple dropdown for NFL team list\n",
    "football=wg.SelectMultiple(\n",
    "    options=['Arizona Cardinals',\n",
    " 'Atlanta Falcons',\n",
    " 'Baltimore Colts',\n",
    " 'Baltimore Ravens',\n",
    " 'Boston Patriots',\n",
    " 'Buffalo Bills',\n",
    " 'Carolina Panthers',\n",
    " 'Chicago Bears',\n",
    " 'Cincinnati Bengals',\n",
    " 'Cleveland Browns',\n",
    " 'Dallas Cowboys',\n",
    " 'Detroit Lions',\n",
    " 'Green Bay Packers',\n",
    " 'Houston Oilers',\n",
    " 'Houston Texans',\n",
    " 'Indianapolis Colts',\n",
    " 'Jacksonville Jaguars',\n",
    " 'Kansas City Chiefs',\n",
    " 'Los Angeles Chargers',\n",
    " 'Los Angeles Raiders',\n",
    " 'Los Angeles Rams',\n",
    " 'Miami Dolphins',\n",
    " 'Minnesota Vikings',\n",
    " 'New England Patriots',\n",
    " 'New Orleans Saints',\n",
    " 'New York Giants',\n",
    " 'New York Jets',\n",
    " 'Oakland Raiders',\n",
    " 'Philadelphia Eagles',\n",
    " 'Phoenix Cardinals',\n",
    " 'Pittsburgh Steelers',\n",
    " 'San Diego Chargers',\n",
    " 'San Francisco 49ers',\n",
    " 'Seattle Seahawks',\n",
    " 'St. Louis Cardinals',\n",
    " 'St. Louis Rams',\n",
    " 'Tampa Bay Buccaneers',\n",
    " 'Tennessee Oilers',\n",
    " 'Tennessee Titans',\n",
    " 'Washington Redskins'],\n",
    "    value=[],\n",
    "    #rows=10,\n",
    "    description='NFL',\n",
    "    disabled=False,\n",
    "    layout=Layout(width='350px',height='100px')\n",
    ")\n",
    "\n",
    "#function to create team_list variable\n",
    "def createteamlist(a):\n",
    "    global team_list\n",
    "    team_list=a\n",
    "    \n",
    "#pass dropdown value to set variable\n",
    "wg.interactive(createteamlist,a=football)\n",
    "\n",
    "#create select multiple dropdown for NBA team list\n",
    "basket=wg.SelectMultiple(\n",
    "    options=['Atlanta Hawks',\n",
    " 'Boston Celtics',\n",
    " 'Brooklyn Nets',\n",
    " 'Charlotte Bobcats',\n",
    " 'Charlotte Hornets',\n",
    " 'Chicago Bulls',\n",
    " 'Cleveland Cavaliers',\n",
    " 'Dallas Mavericks',\n",
    " 'Denver Nuggets',\n",
    " 'Detroit Pistons',\n",
    " 'Golden State Warriors',\n",
    " 'Houston Rockets',\n",
    " 'Indiana Pacers',\n",
    " 'Los Angeles Clippers',\n",
    " 'Los Angeles Lakers',\n",
    " 'Memphis Grizzlies',\n",
    " 'Miami Heat',\n",
    " 'Milwaukee Bucks',\n",
    " 'Minnesota Timberwolves',\n",
    " 'New Jersey Nets',\n",
    " 'New Orleans Hornets',\n",
    " 'New Orleans Jazz',\n",
    " 'New Orleans Pelicans',\n",
    " 'New Orleans/Oklahoma City Hornets',\n",
    " 'New York Knicks',\n",
    " 'New York Nets',\n",
    " 'Oklahoma City Thunder',\n",
    " 'Orlando Magic',\n",
    " 'Philadelphia 76ers',\n",
    " 'Phoenix Suns',\n",
    " 'Portland Trail Blazers',\n",
    " 'Sacramento Kings',\n",
    " 'San Antonio Spurs',\n",
    " 'Seattle SuperSonics',\n",
    " 'Toronto Raptors',\n",
    " 'Utah Jazz',\n",
    " 'Vancouver Grizzlies',\n",
    " 'Washington Bullets',\n",
    " 'Washington Wizards'],\n",
    "    value=[],\n",
    "    #rows=10,\n",
    "    description='NBA',\n",
    "    disabled=False,\n",
    "    layout=Layout(width='350px',height='100px')\n",
    ")\n",
    "\n",
    "\n",
    "#pass dropdown value to set variable    \n",
    "wg.interactive(createteamlist,a=basket)\n",
    "\n",
    "\n",
    "base=wg.SelectMultiple(\n",
    "    options=['Anaheim Angels',\n",
    " 'Arizona Diamondbacks',\n",
    " 'Atlanta Braves',\n",
    " 'Baltimore Orioles',\n",
    " 'Boston Red Sox',\n",
    " 'California Angels',\n",
    " 'Chicago Cubs',\n",
    " 'Chicago White Sox',\n",
    " 'Cincinnati Reds',\n",
    " 'Cleveland Indians',\n",
    " 'Colorado Rockies',\n",
    " 'Detroit Tigers',\n",
    " 'Florida Marlins',\n",
    " 'Houston Astros',\n",
    " 'Kansas City Royals',\n",
    " 'Los Angeles Angels',\n",
    " 'Los Angeles Dodgers',\n",
    " 'Miami Marlins',\n",
    " 'Milwaukee Brewers',\n",
    " 'Minnesota Twins',\n",
    " 'Montreal Expos',\n",
    " 'New York Mets',\n",
    " 'New York Yankees',\n",
    " 'Oakland Athletics',\n",
    " 'Philadelphia Phillies',\n",
    " 'Pittsburgh Pirates',\n",
    " 'San Diego Padres',\n",
    " 'San Francisco Giants',\n",
    " 'Seattle Mariners',\n",
    " 'St. Louis Cardinals',\n",
    " 'Tampa Bay Rays',\n",
    " 'Texas Rangers',\n",
    " 'Toronto Blue Jays',\n",
    " 'Washington Nationals',\n",
    " 'Washington Senators'],\n",
    "    value=[],\n",
    "    #rows=10,\n",
    "    description='MLB',\n",
    "    disabled=False,\n",
    "    layout=Layout(width='350px',height='100px')\n",
    ")\n",
    "\n",
    "#pass dropdown value to set variable    \n",
    "\n",
    "wg.interactive(createteamlist,a=base)\n",
    "\n",
    "\n",
    "\n",
    "conference=wg.Dropdown(\n",
    "    options=['None','All NFL','NFL NFC','NFL AFC','All NBA','NBA Eastern','NBA Western','All MLB','MLB American','MLB National'],\n",
    "    value='None',\n",
    "    description='League/Conf',\n",
    "    disabled=False,\n",
    "    layout=Layout(width='220px')\n",
    ")\n",
    "\n",
    "def createconferencelist(d):\n",
    "    global conf\n",
    "    conf=d\n",
    "    \n",
    "#pass dropdown value to set variable    \n",
    "\n",
    "wg.interactive(createconferencelist,d=conference)\n",
    "\n",
    "\n",
    "ncaaf=wg.SelectMultiple(\n",
    "    options=['Air Force Falcons',\n",
    "'Alabama Crimson Tide',\n",
    "'Arizona State Sun Devils',\n",
    "'Arizona Wildcats',\n",
    "'Arkansas Razorbacks',\n",
    "'Army Black Knights',\n",
    "'Auburn Tigers',\n",
    "'Baylor Bears',\n",
    "'Boise State Broncos',\n",
    "'Boston College Eagles',\n",
    "'B Y U Cougars',\n",
    "'California Golden Bears',\n",
    "'Central Florida Knights',\n",
    "'Cincinnati Bearkats',\n",
    "'Clemson Tigers',\n",
    "'Colorado Buffaloes',\n",
    "'Colorado State Rams',\n",
    "'Connecticut Huskies',\n",
    "'Duke Blue Devils',\n",
    "'East Carolina',\n",
    "'Florida Gators',\n",
    "'Florida State Seminoles',\n",
    "'Fresno State Bulldogs',\n",
    "'Georgia Bulldogs',\n",
    "'Georgia Tech Yellow Jackets',\n",
    "'Hawaii Rainbow Warriors',\n",
    "'Houston Cougars',\n",
    "'Illinois Fighing Illini',\n",
    "'Indiana Hoosiers',\n",
    "'Iowa Hawkeyes',\n",
    "'Iowa State Cyclones',\n",
    "'Kansas Jayhawks',\n",
    "'Kansas State Wildcats',\n",
    "'Kentucky Wildcats',\n",
    "'Louisville Cardinals',\n",
    "'LSU Tigers',\n",
    "'Maryland Terrapins',\n",
    "'Memphis Tigers',\n",
    "'Miami Hurricanes',\n",
    "'Michigan State Spartans',\n",
    "'Michigan Wolverines',\n",
    "'Minnesota Golden Gophers',\n",
    "'Mississippi State Bulldogs',\n",
    "'Missouri Tigers',\n",
    "'Navy Midshipmen',\n",
    "'NC State',\n",
    "'Nebraska Cornhuskers',\n",
    "'Nevada Wolf Pack',\n",
    "'New Mexico Lobos',\n",
    "'New Mexico State Aggies',\n",
    "'North Carolina Tarheels',\n",
    "'Northwestern Wildcats',\n",
    "'Notre Dame Fighting Irish',\n",
    "'Ohio State Buckeyes',\n",
    "'Oklahoma Sooners',\n",
    "'Oklahoma State Cowboys',\n",
    "'Ole Miss Rebels',\n",
    "'Oregon Ducks',\n",
    "'Oregon State Beavers',\n",
    "'Penn State Nittany Lions',\n",
    "'Pittsburgh Panthers',\n",
    "'Purdue Boilermakers',\n",
    "'Rutgers Scarlet Knights',\n",
    "'San Diego State Aztecs',\n",
    "'San Jose State Spartans',\n",
    "'SMU Mustangs',\n",
    "'South Carolina Gamecocks',\n",
    "'South Florida Bulls',\n",
    "'Stanford Cardinal',\n",
    "'Syracuse Orange',\n",
    "'TCU Horned Frogs',\n",
    "'Temple Owls',\n",
    "'Tennessee Volunteers',\n",
    "'Texas A&M Aggies',\n",
    "'Texas Longhorns',\n",
    "'Texas Tech Red Raiders',\n",
    "'Tulane Green Wave',\n",
    "'Tulsa Golden Hurricane',\n",
    "'UCLA Bruins',\n",
    "'UNLV Rebels',\n",
    "'USC Trojans',\n",
    "'Utah State Aggies',\n",
    "'Utah Utes',\n",
    "'Vanderbilt Commodores',\n",
    "'Virginia Cavaliers',\n",
    "'Virginia Tech Hokies',\n",
    "'Wake Forest Demon Deacons',\n",
    "'Washington Huskies',\n",
    "'Washington State Cougars',\n",
    "'West Virginia Mountaineers',\n",
    "'Wisconsin Badgers',\n",
    "'Wyoming Cowboys'],\n",
    "    value=[],\n",
    "    #rows=10,\n",
    "    description='NCAAF',\n",
    "    disabled=False,\n",
    "    layout=Layout(width='350px',height='100px')\n",
    ")\n",
    "\n",
    "#pass dropdown value to set variable    \n",
    "\n",
    "wg.interactive(createteamlist,a=ncaaf)\n",
    "\n",
    "#Display team lists in a horizontal row\n",
    "#display(HBox([football, basket, base, ncaaf]))\n",
    "display(HBox([football, basket]))\n",
    "display(HBox([base, ncaaf]))\n",
    "\n",
    "display(HBox([conference]))\n",
    "\n",
    "#Display instructions on selecting speed/animation settings\n",
    "instructions3=wg.HTML(\n",
    "    value=\"<b><u>Select animation speed to control how fast the year frames advance in the animation.</u></b> (To see just the final result chart without seeing the year by year animation, check the 'No animation' box.)\",\n",
    "    placeholder='',\n",
    "    description='',\n",
    ")\n",
    "\n",
    "display(instructions3)\n",
    "\n",
    "\n",
    "#Radio button selection to select animation speed\n",
    "speedcheck=wg.RadioButtons(\n",
    "    options=[('Slow', slow), ('Medium', medium), ('Fast', fast), ('Very Fast',reallyfast)],\n",
    "    value=medium,\n",
    "    description='AnimSpeed:',\n",
    "    disabled=False\n",
    ")\n",
    "\n",
    "#function to create speed variable\n",
    "def selectspeed(d):\n",
    "    global speed\n",
    "    speed=d\n",
    "    \n",
    "#pass dropdown value to set variable    \n",
    "\n",
    "wg.interactive(selectspeed,d=speedcheck)\n",
    "\n",
    "\n",
    "#Checkbox for option not to show animation and just final result\n",
    "animcheck=wg.Checkbox(\n",
    "    value=False,\n",
    "    layout=Layout(height='30px',width='500px'),\n",
    "    description='No animation (show only final result)',\n",
    "    disabled=False,\n",
    "    indent=True\n",
    ")\n",
    "\n",
    "#function to create noanimate variable\n",
    "def animateflag(f):\n",
    "    global noanimate\n",
    "    noanimate=f\n",
    "    \n",
    "#Default to show animation\n",
    "animateflag(False)\n",
    "\n",
    "    \n",
    "#pass dropdown value to set variable      \n",
    "wg.interactive(animateflag,f=animcheck)\n",
    "\n",
    "#function to display final result chart instead of showing animation\n",
    "def noanimation():\n",
    "        \n",
    "    global fig\n",
    "    global ax\n",
    "    if((len(team_list)<7) & (useconf==False)):\n",
    "        fig, ax = plt.subplots(figsize=(8, 4)) \n",
    "    elif((9<=len(team_list)<17) & (useconf==False)):\n",
    "        fig, ax = plt.subplots(figsize=(8, 6))\n",
    "    elif((useconf==True) & ((conf!='All NFL') & (conf!='All NBA')  & (conf!='All MLB'))):\n",
    "        fig, ax = plt.subplots(figsize=(8, 6)) \n",
    "    else:\n",
    "        fig, ax = plt.subplots(figsize=(9, 9))\n",
    "            \n",
    "    draw_barchart(yearstop)\n",
    "\n",
    "global anim    \n",
    "    \n",
    "def return_anim():\n",
    "  \n",
    "    global animator\n",
    "    animator = animation.FuncAnimation(fig, draw_barchart, frames=range(yearstart, yearstop+1), interval = speed, repeat = False)\n",
    "    print('huh')\n",
    "    return animator\n",
    "\n",
    "def use_anim():\n",
    "    global anim\n",
    "    anim=return_anim()\n",
    "\n",
    "def showanim():\n",
    "    \n",
    "   \n",
    "\n",
    "\n",
    "    #Code to run for animation launch and control - Replacing with a recorded animated gif for ease of visualizing in notebook\n",
    "\n",
    "    #adjusting figure size based on # of teams to show in chart\n",
    "    global fig\n",
    "    global ax\n",
    "    if((len(team_list)<7) & (useconf==False)):\n",
    "        fig, ax = plt.subplots(figsize=(8, 4)) \n",
    "    elif((9<=len(team_list)<17) & ((useconf==False))):\n",
    "        fig, ax = plt.subplots(figsize=(8, 6))\n",
    "    elif((useconf==True) & ((conf!='All NFL') & (conf!='All NBA')  & (conf!='All MLB'))):\n",
    "        fig, ax = plt.subplots(figsize=(8, 6)) \n",
    "    else:\n",
    "        fig, ax = plt.subplots(figsize=(9, 9))    \n",
    "    \n",
    "    #Define funcanimation with appropriate variable inputs\n",
    "    \n",
    "    #Call funcanimation with default 'jshtml' format which should launch a player in browser\n",
    "    #animator = animation.FuncAnimation(fig, draw_barchart, frames=range(yearstart, yearstop+1), interval = speed, repeat = False,blit=True)\n",
    "    #animator\n",
    "   # return animator\n",
    "    use_anim()\n",
    "    print(\"bbb\")\n",
    "    #display(HTML(animator.to_jshtml()))\n",
    "    #plt.show()\n",
    "    #display(animator)\n",
    "    fig.show()\n",
    "    \n",
    "        \n",
    "#btn2=wg.Button(\n",
    " #  description='Clear',\n",
    "  # disabled=False,\n",
    "   #button_style='', # 'success', 'info', 'warning', 'danger' or ''\n",
    "   #tooltip='Click me',\n",
    "   #icon='check' # (FontAwesome names without the `fa-` prefix)#\n",
    "#)  \n",
    "\n",
    "\n",
    "    \n",
    "#display(btn2)\n",
    "\n",
    "#btn2.on_click(clr)\n",
    "\n",
    "#Display speed and animation selections in a horizontal row\n",
    "display(HBox([speedcheck,animcheck]))\n",
    "\n",
    "#Display instructions on selecting speed/animation settings\n",
    "instructions4=wg.HTML(\n",
    "    value=\"<b><u>Click 'Run Chart' button to display result!</u></b><ul><li>Animation will play in the <b>next</b> cell. (Hit 'Play' button to start after first frame loads)</li><li>If no animation was chosen, static chart will show in this cell.</li></ul>\",\n",
    "    placeholder='',\n",
    "    description='',\n",
    ")\n",
    "\n",
    "display(instructions4)\n",
    "\n",
    "\n",
    "#button widget to submit inputs to run chart\n",
    "#btn=wg.Button(\n",
    "#   description='Run Chart',\n",
    "#   disabled=False,\n",
    "#   button_style='', # 'success', 'info', 'warning', 'danger' or ''\n",
    "#   tooltip='Click to Run Chart',\n",
    "#   icon='check', # (FontAwesome names without the `fa-` prefix),\n",
    "#   layout=Layout(margin='20px')\n",
    "#)\n",
    "\n",
    "#display(btn)\n",
    "\n",
    "resultcheck=wg.Checkbox(\n",
    "    value=False,\n",
    "    layout=Layout(height='30px',width='500px'),\n",
    "    description='Show Result',\n",
    "    disabled=False,\n",
    "    indent=False\n",
    ")\n",
    "\n",
    "#function to create noanimate variable\n",
    "#def resultflag(e):\n",
    "#    global showresult\n",
    "#    showresult=e\n",
    "    \n",
    "global showresult\n",
    "showresult=False\n",
    "    \n",
    "#function for submit button to run - Sends to next cell to run animation or runs final chart result in current cell    \n",
    "def run_all(e):\n",
    "    global showresult\n",
    "    showresult=e\n",
    "    if(showresult==True):\n",
    "        print('hola')\n",
    "        if(conf != 'None'):\n",
    "            global useconf\n",
    "            useconf=True\n",
    "        else:\n",
    "            useconf=False\n",
    "            \n",
    "        if 'yearstart' not in globals():\n",
    "            print('Enter Start/Stop Years')\n",
    "        elif 'yearstop' not in globals():\n",
    "            print('Enter Start/Stop Years')\n",
    "        elif ((yearstart=='Choose' or yearstop=='Choose')):\n",
    "            print ('Enter Start/Stop Years')\n",
    "        elif(yearstart>yearstop):\n",
    "            print('End Year Cant Be Greater Than Start Year' )\n",
    "        elif(len(team_list) <=1 and useconf==False):\n",
    "            print('Select at least 2 teams of same sport(or de-select and re-select teams)')\n",
    "        elif(noanimate==False):\n",
    "            showanim()\n",
    "        else:\n",
    "            noanimation()\n",
    "        \n",
    "#Default to not show result\n",
    "#run_all(False)\n",
    "    \n",
    "#pass dropdown value to set variable      \n",
    "wg.interact(run_all,e=resultcheck)\n",
    "\n",
    "#display(HBox([resultcheck]))\n",
    "\n",
    "\n",
    "#btn.on_click(run_all)\n",
    "\n",
    "\n",
    "\n"
   ]
  },
  {
   "cell_type": "code",
   "execution_count": null,
   "metadata": {},
   "outputs": [],
   "source": []
  }
 ],
 "metadata": {
  "kernelspec": {
   "display_name": "Python 3",
   "language": "python",
   "name": "python3"
  },
  "language_info": {
   "codemirror_mode": {
    "name": "ipython",
    "version": 3
   },
   "file_extension": ".py",
   "mimetype": "text/x-python",
   "name": "python",
   "nbconvert_exporter": "python",
   "pygments_lexer": "ipython3",
   "version": "3.7.6"
  },
  "widgets": {
   "application/vnd.jupyter.widget-state+json": {
    "state": {
     "001593496db44d25a18cb3a9e5080efb": {
      "model_module": "@jupyter-widgets/controls",
      "model_module_version": "1.5.0",
      "model_name": "RadioButtonsModel",
      "state": {
       "_options_labels": [
        "Slow",
        "Medium",
        "Fast",
        "Very Fast"
       ],
       "description": "AnimSpeed:",
       "index": 1,
       "layout": "IPY_MODEL_e58b61ffbebf48b7b70f9777647c0016",
       "style": "IPY_MODEL_fef90e19f3fb41189f087b583520b75d"
      }
     },
     "021dbfec8ff24c6a8c3270e8ba6545b1": {
      "model_module": "@jupyter-widgets/base",
      "model_module_version": "1.2.0",
      "model_name": "LayoutModel",
      "state": {
       "height": "100px",
       "width": "350px"
      }
     },
     "02bb24e0ae97458ba8c3470114e2aa79": {
      "model_module": "@jupyter-widgets/controls",
      "model_module_version": "1.5.0",
      "model_name": "VBoxModel",
      "state": {
       "_dom_classes": [
        "widget-interact"
       ],
       "children": [
        "IPY_MODEL_de1194a5b3974ff2ad8d314a893582d4",
        "IPY_MODEL_3f599fe901154025a173c9623ddec097"
       ],
       "layout": "IPY_MODEL_60760f38ec904668a188d9b3caa52c77"
      }
     },
     "02ff34ff1cba492abf0576a1b95318d1": {
      "model_module": "@jupyter-widgets/output",
      "model_module_version": "1.0.0",
      "model_name": "OutputModel",
      "state": {
       "layout": "IPY_MODEL_13f04f46859c40758302f43e05bf4147"
      }
     },
     "038ad756d34c467c8088e4a2f47d12b1": {
      "model_module": "@jupyter-widgets/output",
      "model_module_version": "1.0.0",
      "model_name": "OutputModel",
      "state": {
       "layout": "IPY_MODEL_f770505e49f54782aabf5fc449f306f5"
      }
     },
     "049cbdf779004bf7ac4485fb8cf4ce28": {
      "model_module": "@jupyter-widgets/base",
      "model_module_version": "1.2.0",
      "model_name": "LayoutModel",
      "state": {
       "height": "100px",
       "width": "350px"
      }
     },
     "04c7f94fa9f94092ab96e6cf7b741acf": {
      "model_module": "@jupyter-widgets/controls",
      "model_module_version": "1.5.0",
      "model_name": "SelectMultipleModel",
      "state": {
       "_options_labels": [
        "Arizona Cardinals",
        "Atlanta Falcons",
        "Baltimore Colts",
        "Baltimore Ravens",
        "Boston Patriots",
        "Buffalo Bills",
        "Carolina Panthers",
        "Chicago Bears",
        "Cincinnati Bengals",
        "Cleveland Browns",
        "Dallas Cowboys",
        "Detroit Lions",
        "Green Bay Packers",
        "Houston Oilers",
        "Houston Texans",
        "Indianapolis Colts",
        "Jacksonville Jaguars",
        "Kansas City Chiefs",
        "Los Angeles Chargers",
        "Los Angeles Raiders",
        "Los Angeles Rams",
        "Miami Dolphins",
        "Minnesota Vikings",
        "New England Patriots",
        "New Orleans Saints",
        "New York Giants",
        "New York Jets",
        "Oakland Raiders",
        "Philadelphia Eagles",
        "Phoenix Cardinals",
        "Pittsburgh Steelers",
        "San Diego Chargers",
        "San Francisco 49ers",
        "Seattle Seahawks",
        "St. Louis Cardinals",
        "St. Louis Rams",
        "Tampa Bay Buccaneers",
        "Tennessee Oilers",
        "Tennessee Titans",
        "Washington Redskins"
       ],
       "description": "NFL",
       "index": [
        1,
        5
       ],
       "layout": "IPY_MODEL_5383489bfdd845df9965cfee727f7c11",
       "rows": 5,
       "style": "IPY_MODEL_ef499f73ac304067b590c8f3c52c1954"
      }
     },
     "051e3d8ef697494686170faffb200615": {
      "model_module": "@jupyter-widgets/output",
      "model_module_version": "1.0.0",
      "model_name": "OutputModel",
      "state": {
       "layout": "IPY_MODEL_ff646abe09e14a208991fed1366180e0",
       "outputs": [
        {
         "name": "stdout",
         "output_type": "stream",
         "text": "hola\n"
        },
        {
         "data": {
          "application/vnd.jupyter.widget-view+json": {
           "model_id": "4c9f49bf441844deb3040216972e2b05",
           "version_major": 2,
           "version_minor": 0
          },
          "text/plain": "Canvas(toolbar=Toolbar(toolitems=[('Home', 'Reset original view', 'home', 'home'), ('Back', 'Back to previous …"
         },
         "metadata": {},
         "output_type": "display_data"
        },
        {
         "name": "stdout",
         "output_type": "stream",
         "text": "huh\nbbb\n"
        }
       ]
      }
     },
     "067a5794852840ada43c00ad34971d68": {
      "model_module": "@jupyter-widgets/base",
      "model_module_version": "1.2.0",
      "model_name": "LayoutModel",
      "state": {}
     },
     "0703687314394d8091be42a82680ad71": {
      "model_module": "@jupyter-widgets/controls",
      "model_module_version": "1.5.0",
      "model_name": "HBoxModel",
      "state": {
       "children": [
        "IPY_MODEL_563b1865d82e489f91113adad0550c09",
        "IPY_MODEL_49a0045d679745e38603598d88baf7c2"
       ],
       "layout": "IPY_MODEL_2fb0a5c61e50488db18d01aa547bc74f"
      }
     },
     "07286cc1c76c428bbb7614a8b04f1e81": {
      "model_module": "@jupyter-widgets/controls",
      "model_module_version": "1.5.0",
      "model_name": "HBoxModel",
      "state": {
       "children": [
        "IPY_MODEL_13e88af6ace1446d914cbc1516f50638"
       ],
       "layout": "IPY_MODEL_f9d8d2af20a746e7b8b2274984943c70"
      }
     },
     "0740ddbf2b404356b3bf256beae20242": {
      "model_module": "@jupyter-widgets/controls",
      "model_module_version": "1.5.0",
      "model_name": "DescriptionStyleModel",
      "state": {
       "description_width": ""
      }
     },
     "08efd71560b54e95a193ec9fd9daad70": {
      "model_module": "@jupyter-widgets/base",
      "model_module_version": "1.2.0",
      "model_name": "LayoutModel",
      "state": {}
     },
     "094d936f705d47bc994d5916fa18de65": {
      "model_module": "@jupyter-widgets/controls",
      "model_module_version": "1.5.0",
      "model_name": "SelectMultipleModel",
      "state": {
       "_options_labels": [
        "Air Force Falcons",
        "Alabama Crimson Tide",
        "Arizona State Sun Devils",
        "Arizona Wildcats",
        "Arkansas Razorbacks",
        "Army Black Knights",
        "Auburn Tigers",
        "Baylor Bears",
        "Boise State Broncos",
        "Boston College Eagles",
        "B Y U Cougars",
        "California Golden Bears",
        "Central Florida Knights",
        "Cincinnati Bearkats",
        "Clemson Tigers",
        "Colorado Buffaloes",
        "Colorado State Rams",
        "Connecticut Huskies",
        "Duke Blue Devils",
        "East Carolina",
        "Florida Gators",
        "Florida State Seminoles",
        "Fresno State Bulldogs",
        "Georgia Bulldogs",
        "Georgia Tech Yellow Jackets",
        "Hawaii Rainbow Warriors",
        "Houston Cougars",
        "Illinois Fighing Illini",
        "Indiana Hoosiers",
        "Iowa Hawkeyes",
        "Iowa State Cyclones",
        "Kansas Jayhawks",
        "Kansas State Wildcats",
        "Kentucky Wildcats",
        "Louisville Cardinals",
        "LSU Tigers",
        "Maryland Terrapins",
        "Memphis Tigers",
        "Miami Hurricanes",
        "Michigan State Spartans",
        "Michigan Wolverines",
        "Minnesota Golden Gophers",
        "Mississippi State Bulldogs",
        "Missouri Tigers",
        "Navy Midshipmen",
        "NC State",
        "Nebraska Cornhuskers",
        "Nevada Wolf Pack",
        "New Mexico Lobos",
        "New Mexico State Aggies",
        "North Carolina Tarheels",
        "Northwestern Wildcats",
        "Notre Dame Fighting Irish",
        "Ohio State Buckeyes",
        "Oklahoma Sooners",
        "Oklahoma State Cowboys",
        "Ole Miss Rebels",
        "Oregon Ducks",
        "Oregon State Beavers",
        "Penn State Nittany Lions",
        "Pittsburgh Panthers",
        "Purdue Boilermakers",
        "Rutgers Scarlet Knights",
        "San Diego State Aztecs",
        "San Jose State Spartans",
        "SMU Mustangs",
        "South Carolina Gamecocks",
        "South Florida Bulls",
        "Stanford Cardinal",
        "Syracuse Orange",
        "TCU Horned Frogs",
        "Temple Owls",
        "Tennessee Volunteers",
        "Texas A&M Aggies",
        "Texas Longhorns",
        "Texas Tech Red Raiders",
        "Tulane Green Wave",
        "Tulsa Golden Hurricane",
        "UCLA Bruins",
        "UNLV Rebels",
        "USC Trojans",
        "Utah State Aggies",
        "Utah Utes",
        "Vanderbilt Commodores",
        "Virginia Cavaliers",
        "Virginia Tech Hokies",
        "Wake Forest Demon Deacons",
        "Washington Huskies",
        "Washington State Cougars",
        "West Virginia Mountaineers",
        "Wisconsin Badgers",
        "Wyoming Cowboys"
       ],
       "description": "NCAAF",
       "index": [],
       "layout": "IPY_MODEL_0fd4dab88ed546559990834b6d152f31",
       "rows": 5,
       "style": "IPY_MODEL_f94ea16ce1b942f28343a8ca244431ad"
      }
     },
     "0a0826f482ce45dc9abadd9934332dc8": {
      "model_module": "@jupyter-widgets/controls",
      "model_module_version": "1.5.0",
      "model_name": "DescriptionStyleModel",
      "state": {
       "description_width": ""
      }
     },
     "0b1be77997c9451899b74a9b18d72d70": {
      "model_module": "@jupyter-widgets/controls",
      "model_module_version": "1.5.0",
      "model_name": "DescriptionStyleModel",
      "state": {
       "description_width": ""
      }
     },
     "0b7404cfdc1446b1b567fce3ad5a89f9": {
      "model_module": "@jupyter-widgets/controls",
      "model_module_version": "1.5.0",
      "model_name": "DescriptionStyleModel",
      "state": {
       "description_width": ""
      }
     },
     "0c9f8a497a4240ae8fde6ba33836143c": {
      "model_module": "@jupyter-widgets/base",
      "model_module_version": "1.2.0",
      "model_name": "LayoutModel",
      "state": {}
     },
     "0d084cb675f348319129a4a91d4339c2": {
      "model_module": "jupyter-matplotlib",
      "model_module_version": "^0.7.2",
      "model_name": "ToolbarModel",
      "state": {
       "layout": "IPY_MODEL_71fcc1dca6d84e27aab7c56deeec229c",
       "toolitems": [
        [
         "Home",
         "Reset original view",
         "home",
         "home"
        ],
        [
         "Back",
         "Back to previous view",
         "arrow-left",
         "back"
        ],
        [
         "Forward",
         "Forward to next view",
         "arrow-right",
         "forward"
        ],
        [
         "Pan",
         "Pan axes with left mouse, zoom with right",
         "arrows",
         "pan"
        ],
        [
         "Zoom",
         "Zoom to rectangle",
         "square-o",
         "zoom"
        ],
        [
         "Download",
         "Download plot",
         "floppy-o",
         "save_figure"
        ]
       ]
      }
     },
     "0fd4dab88ed546559990834b6d152f31": {
      "model_module": "@jupyter-widgets/base",
      "model_module_version": "1.2.0",
      "model_name": "LayoutModel",
      "state": {
       "height": "100px",
       "width": "350px"
      }
     },
     "105095f3cf0b483ab7130bf92f58619f": {
      "model_module": "@jupyter-widgets/output",
      "model_module_version": "1.0.0",
      "model_name": "OutputModel",
      "state": {
       "layout": "IPY_MODEL_a519a9125292439981426b965d5f85ab"
      }
     },
     "10c15cfa8c53412a96b6a6b9d6cf9763": {
      "model_module": "@jupyter-widgets/base",
      "model_module_version": "1.2.0",
      "model_name": "LayoutModel",
      "state": {}
     },
     "10d54f2bba0247b5bb75e46b5772a3ea": {
      "model_module": "@jupyter-widgets/controls",
      "model_module_version": "1.5.0",
      "model_name": "CheckboxModel",
      "state": {
       "description": "Show Result",
       "disabled": false,
       "indent": false,
       "layout": "IPY_MODEL_698fc267941448d1bd5584b50d1c95b3",
       "style": "IPY_MODEL_e05fb8f64b52453fb16223cde754d1cf",
       "value": true
      }
     },
     "110c012297f740c9a27f0dc33b7698ea": {
      "model_module": "@jupyter-widgets/controls",
      "model_module_version": "1.5.0",
      "model_name": "DescriptionStyleModel",
      "state": {
       "description_width": ""
      }
     },
     "117ecca5e5364ba6b2cf6929336f5f80": {
      "model_module": "@jupyter-widgets/base",
      "model_module_version": "1.2.0",
      "model_name": "LayoutModel",
      "state": {}
     },
     "125ae63a434040eaa3e75454b45c81db": {
      "model_module": "@jupyter-widgets/base",
      "model_module_version": "1.2.0",
      "model_name": "LayoutModel",
      "state": {}
     },
     "128be6605b1847fdb72ce17e128c2646": {
      "model_module": "@jupyter-widgets/output",
      "model_module_version": "1.0.0",
      "model_name": "OutputModel",
      "state": {
       "layout": "IPY_MODEL_2e95cbe5d60e44259fe7dde043487d1f"
      }
     },
     "129cb0f4afee4fee8d8e6d6274d4bdf6": {
      "model_module": "@jupyter-widgets/controls",
      "model_module_version": "1.5.0",
      "model_name": "SelectMultipleModel",
      "state": {
       "_options_labels": [
        "Atlanta Hawks",
        "Boston Celtics",
        "Brooklyn Nets",
        "Charlotte Bobcats",
        "Charlotte Hornets",
        "Chicago Bulls",
        "Cleveland Cavaliers",
        "Dallas Mavericks",
        "Denver Nuggets",
        "Detroit Pistons",
        "Golden State Warriors",
        "Houston Rockets",
        "Indiana Pacers",
        "Los Angeles Clippers",
        "Los Angeles Lakers",
        "Memphis Grizzlies",
        "Miami Heat",
        "Milwaukee Bucks",
        "Minnesota Timberwolves",
        "New Jersey Nets",
        "New Orleans Hornets",
        "New Orleans Jazz",
        "New Orleans Pelicans",
        "New Orleans/Oklahoma City Hornets",
        "New York Knicks",
        "New York Nets",
        "Oklahoma City Thunder",
        "Orlando Magic",
        "Philadelphia 76ers",
        "Phoenix Suns",
        "Portland Trail Blazers",
        "Sacramento Kings",
        "San Antonio Spurs",
        "Seattle SuperSonics",
        "Toronto Raptors",
        "Utah Jazz",
        "Vancouver Grizzlies",
        "Washington Bullets",
        "Washington Wizards"
       ],
       "description": "NBA",
       "index": [],
       "layout": "IPY_MODEL_e664cb950ee0493da4c893255bebee40",
       "rows": 5,
       "style": "IPY_MODEL_45974f7046c54d01b2bbbd5d4f285585"
      }
     },
     "1379c44bbec14de7bb3335d44e9e8763": {
      "model_module": "@jupyter-widgets/base",
      "model_module_version": "1.2.0",
      "model_name": "LayoutModel",
      "state": {}
     },
     "13e88af6ace1446d914cbc1516f50638": {
      "model_module": "@jupyter-widgets/controls",
      "model_module_version": "1.5.0",
      "model_name": "DropdownModel",
      "state": {
       "_options_labels": [
        "None",
        "All NFL",
        "NFL NFC",
        "NFL AFC",
        "All NBA",
        "NBA Eastern",
        "NBA Western",
        "All MLB",
        "MLB American",
        "MLB National"
       ],
       "description": "League/Conf",
       "index": 0,
       "layout": "IPY_MODEL_1c0126c70c9247ffad1a34961a5f6e0f",
       "style": "IPY_MODEL_0b7404cfdc1446b1b567fce3ad5a89f9"
      }
     },
     "13f04f46859c40758302f43e05bf4147": {
      "model_module": "@jupyter-widgets/base",
      "model_module_version": "1.2.0",
      "model_name": "LayoutModel",
      "state": {}
     },
     "1438875c0be84282b8bb7cf8bff34d0d": {
      "model_module": "@jupyter-widgets/controls",
      "model_module_version": "1.5.0",
      "model_name": "VBoxModel",
      "state": {
       "_dom_classes": [
        "widget-interact"
       ],
       "children": [
        "IPY_MODEL_d0766df1952f4745bf3f2f5a78c28a4b",
        "IPY_MODEL_ad295525a1bb4210b6336ad678bed7a3"
       ],
       "layout": "IPY_MODEL_0c9f8a497a4240ae8fde6ba33836143c"
      }
     },
     "154bbf03c76d4762acf1fb64c995d546": {
      "model_module": "@jupyter-widgets/base",
      "model_module_version": "1.2.0",
      "model_name": "LayoutModel",
      "state": {}
     },
     "1619a38e9ede4ec288e422c21f74cc73": {
      "model_module": "@jupyter-widgets/base",
      "model_module_version": "1.2.0",
      "model_name": "LayoutModel",
      "state": {}
     },
     "16a4f136a46140f2a86a9e131ed29789": {
      "model_module": "@jupyter-widgets/base",
      "model_module_version": "1.2.0",
      "model_name": "LayoutModel",
      "state": {}
     },
     "1792caabac5e4eeeaddff7a987943df5": {
      "model_module": "@jupyter-widgets/output",
      "model_module_version": "1.0.0",
      "model_name": "OutputModel",
      "state": {
       "layout": "IPY_MODEL_c468cecdaaa04fcf9248871f738f3570"
      }
     },
     "1bba46be05c14778b6c3af30e3d5a32e": {
      "model_module": "@jupyter-widgets/base",
      "model_module_version": "1.2.0",
      "model_name": "LayoutModel",
      "state": {}
     },
     "1c0126c70c9247ffad1a34961a5f6e0f": {
      "model_module": "@jupyter-widgets/base",
      "model_module_version": "1.2.0",
      "model_name": "LayoutModel",
      "state": {
       "width": "220px"
      }
     },
     "1d451a375c6a47efb0c0b8670e7b8910": {
      "model_module": "@jupyter-widgets/base",
      "model_module_version": "1.2.0",
      "model_name": "LayoutModel",
      "state": {}
     },
     "1e07aae4ebf94d888d994da46024b544": {
      "model_module": "@jupyter-widgets/controls",
      "model_module_version": "1.5.0",
      "model_name": "VBoxModel",
      "state": {
       "_dom_classes": [
        "widget-interact"
       ],
       "children": [
        "IPY_MODEL_7ad905e85ab44dcdb569fe4af04ac633",
        "IPY_MODEL_e7c64d3980db42b0a12fe618bbe237f0"
       ],
       "layout": "IPY_MODEL_58389e6ae0724b9da0ea1590e85fe1d6"
      }
     },
     "1f2d48295a604ee08c07e1ca413e3196": {
      "model_module": "@jupyter-widgets/controls",
      "model_module_version": "1.5.0",
      "model_name": "VBoxModel",
      "state": {
       "_dom_classes": [
        "widget-interact"
       ],
       "children": [
        "IPY_MODEL_ff828b63ae0f45c8b8d529b4c0a841e8",
        "IPY_MODEL_02ff34ff1cba492abf0576a1b95318d1"
       ],
       "layout": "IPY_MODEL_f716bf23e789440d863513b2813922cd"
      }
     },
     "1fac98d4629641ac9e85d953383c3839": {
      "model_module": "@jupyter-widgets/base",
      "model_module_version": "1.2.0",
      "model_name": "LayoutModel",
      "state": {}
     },
     "20357d7394004c72b237a6de7965ba50": {
      "model_module": "@jupyter-widgets/base",
      "model_module_version": "1.2.0",
      "model_name": "LayoutModel",
      "state": {}
     },
     "21933833065f487f88ac354cadd7bc51": {
      "model_module": "@jupyter-widgets/base",
      "model_module_version": "1.2.0",
      "model_name": "LayoutModel",
      "state": {
       "height": "30px",
       "width": "500px"
      }
     },
     "21c2d21000f9417994786f4168e4e05f": {
      "model_module": "@jupyter-widgets/base",
      "model_module_version": "1.2.0",
      "model_name": "LayoutModel",
      "state": {}
     },
     "224023c287ad4d35b24dfb5bb7b7d082": {
      "model_module": "@jupyter-widgets/output",
      "model_module_version": "1.0.0",
      "model_name": "OutputModel",
      "state": {
       "layout": "IPY_MODEL_cb16b1b80ac440e4a236a93ae81a7229"
      }
     },
     "234db7a567fd4aa399c463b3986f4fd1": {
      "model_module": "@jupyter-widgets/base",
      "model_module_version": "1.2.0",
      "model_name": "LayoutModel",
      "state": {}
     },
     "24affc700bb74a9bb2d8266f234cc17c": {
      "model_module": "@jupyter-widgets/controls",
      "model_module_version": "1.5.0",
      "model_name": "VBoxModel",
      "state": {
       "_dom_classes": [
        "widget-interact"
       ],
       "children": [
        "IPY_MODEL_9eb25e3651f84d50babc5777cdf24ad7",
        "IPY_MODEL_66a86a82c59b4861bc21375f9ea0737e"
       ],
       "layout": "IPY_MODEL_42889ca6453943edb5a6aff1857e5173"
      }
     },
     "25309d909dd04c049d1289d45e726a63": {
      "model_module": "@jupyter-widgets/controls",
      "model_module_version": "1.5.0",
      "model_name": "DropdownModel",
      "state": {
       "_options_labels": [
        "None",
        "All NFL",
        "NFL NFC",
        "NFL AFC",
        "All NBA",
        "NBA Eastern",
        "NBA Western",
        "All MLB",
        "MLB American",
        "MLB National"
       ],
       "description": "League/Conf",
       "index": 0,
       "layout": "IPY_MODEL_dccd1099cca148bab7eeac1a6e8b3f73",
       "style": "IPY_MODEL_917e8184c85949b49bedfc34d8408265"
      }
     },
     "2555f08aeae3417e93156c5eacd00368": {
      "model_module": "@jupyter-widgets/controls",
      "model_module_version": "1.5.0",
      "model_name": "VBoxModel",
      "state": {
       "_dom_classes": [
        "widget-interact"
       ],
       "children": [
        "IPY_MODEL_04c7f94fa9f94092ab96e6cf7b741acf",
        "IPY_MODEL_a2dcc30c176a44b0b7524cadaf37be09"
       ],
       "layout": "IPY_MODEL_5518e60d4e4040c0a7bd73f8a8aadee3"
      }
     },
     "26261d570b964e45b006f5c287ea6adf": {
      "model_module": "@jupyter-widgets/controls",
      "model_module_version": "1.5.0",
      "model_name": "HBoxModel",
      "state": {
       "children": [
        "IPY_MODEL_001593496db44d25a18cb3a9e5080efb",
        "IPY_MODEL_f888e4a2038e40768aee34cd39506181"
       ],
       "layout": "IPY_MODEL_3a49334fdde2496fa21f63cc47231fc8"
      }
     },
     "26d5fe651b444d2291d1a18e1c47f650": {
      "model_module": "@jupyter-widgets/controls",
      "model_module_version": "1.5.0",
      "model_name": "VBoxModel",
      "state": {
       "_dom_classes": [
        "widget-interact"
       ],
       "children": [
        "IPY_MODEL_b3f49aa0b4b549228e75b5d596aad501",
        "IPY_MODEL_4aa0491863c14a1e9ce557d99913cd4c"
       ],
       "layout": "IPY_MODEL_682a47d1f15f4a0e9c8c55a7517c915c"
      }
     },
     "2710ffa2d08e4e1790138c068a4a9ed1": {
      "model_module": "@jupyter-widgets/controls",
      "model_module_version": "1.5.0",
      "model_name": "SelectMultipleModel",
      "state": {
       "_options_labels": [
        "Atlanta Hawks",
        "Boston Celtics",
        "Brooklyn Nets",
        "Charlotte Bobcats",
        "Charlotte Hornets",
        "Chicago Bulls",
        "Cleveland Cavaliers",
        "Dallas Mavericks",
        "Denver Nuggets",
        "Detroit Pistons",
        "Golden State Warriors",
        "Houston Rockets",
        "Indiana Pacers",
        "Los Angeles Clippers",
        "Los Angeles Lakers",
        "Memphis Grizzlies",
        "Miami Heat",
        "Milwaukee Bucks",
        "Minnesota Timberwolves",
        "New Jersey Nets",
        "New Orleans Hornets",
        "New Orleans Jazz",
        "New Orleans Pelicans",
        "New Orleans/Oklahoma City Hornets",
        "New York Knicks",
        "New York Nets",
        "Oklahoma City Thunder",
        "Orlando Magic",
        "Philadelphia 76ers",
        "Phoenix Suns",
        "Portland Trail Blazers",
        "Sacramento Kings",
        "San Antonio Spurs",
        "Seattle SuperSonics",
        "Toronto Raptors",
        "Utah Jazz",
        "Vancouver Grizzlies",
        "Washington Bullets",
        "Washington Wizards"
       ],
       "description": "NBA",
       "index": [],
       "layout": "IPY_MODEL_2db9c450fa214af78a3555d06790a3f4",
       "rows": 5,
       "style": "IPY_MODEL_110c012297f740c9a27f0dc33b7698ea"
      }
     },
     "2bca689675cf4902ad386d530b5ffd8a": {
      "model_module": "@jupyter-widgets/controls",
      "model_module_version": "1.5.0",
      "model_name": "HTMLModel",
      "state": {
       "layout": "IPY_MODEL_e742aa2dab094915a8bdc611d347820f",
       "placeholder": "",
       "style": "IPY_MODEL_a63c2b048d6d479aba4fc3fb5fc9238f",
       "value": "<b><u>Select animation speed to control how fast the year frames advance in the animation.</u></b> (To see just the final result chart without seeing the year by year animation, check the 'No animation' box.)"
      }
     },
     "2d75f2b7710547e18f1e962d74086438": {
      "model_module": "@jupyter-widgets/output",
      "model_module_version": "1.0.0",
      "model_name": "OutputModel",
      "state": {
       "layout": "IPY_MODEL_21c2d21000f9417994786f4168e4e05f"
      }
     },
     "2db9c450fa214af78a3555d06790a3f4": {
      "model_module": "@jupyter-widgets/base",
      "model_module_version": "1.2.0",
      "model_name": "LayoutModel",
      "state": {
       "height": "100px",
       "width": "350px"
      }
     },
     "2e95cbe5d60e44259fe7dde043487d1f": {
      "model_module": "@jupyter-widgets/base",
      "model_module_version": "1.2.0",
      "model_name": "LayoutModel",
      "state": {}
     },
     "2fb0a5c61e50488db18d01aa547bc74f": {
      "model_module": "@jupyter-widgets/base",
      "model_module_version": "1.2.0",
      "model_name": "LayoutModel",
      "state": {}
     },
     "301da0a087914c049fd499f1f781d38d": {
      "model_module": "@jupyter-widgets/base",
      "model_module_version": "1.2.0",
      "model_name": "LayoutModel",
      "state": {}
     },
     "3239cf51e592434da8fac58ce991f4db": {
      "model_module": "@jupyter-widgets/controls",
      "model_module_version": "1.5.0",
      "model_name": "HBoxModel",
      "state": {
       "children": [
        "IPY_MODEL_d9252dcaf57e412db91274522d135355",
        "IPY_MODEL_e2c24071e3c54b338ea61122ad759015"
       ],
       "layout": "IPY_MODEL_6bacb041b9b04042a090ff51c54d494c"
      }
     },
     "334139c56e8b46ac9437a431301d37ae": {
      "model_module": "@jupyter-widgets/base",
      "model_module_version": "1.2.0",
      "model_name": "LayoutModel",
      "state": {}
     },
     "3483f340d5db4f638f416e5d6d2e1cc9": {
      "model_module": "@jupyter-widgets/controls",
      "model_module_version": "1.5.0",
      "model_name": "DescriptionStyleModel",
      "state": {
       "description_width": ""
      }
     },
     "34b582b2fcc94f94a11ace5c441daa0a": {
      "model_module": "@jupyter-widgets/controls",
      "model_module_version": "1.5.0",
      "model_name": "SelectMultipleModel",
      "state": {
       "_options_labels": [
        "Anaheim Angels",
        "Arizona Diamondbacks",
        "Atlanta Braves",
        "Baltimore Orioles",
        "Boston Red Sox",
        "California Angels",
        "Chicago Cubs",
        "Chicago White Sox",
        "Cincinnati Reds",
        "Cleveland Indians",
        "Colorado Rockies",
        "Detroit Tigers",
        "Florida Marlins",
        "Houston Astros",
        "Kansas City Royals",
        "Los Angeles Angels",
        "Los Angeles Dodgers",
        "Miami Marlins",
        "Milwaukee Brewers",
        "Minnesota Twins",
        "Montreal Expos",
        "New York Mets",
        "New York Yankees",
        "Oakland Athletics",
        "Philadelphia Phillies",
        "Pittsburgh Pirates",
        "San Diego Padres",
        "San Francisco Giants",
        "Seattle Mariners",
        "St. Louis Cardinals",
        "Tampa Bay Rays",
        "Texas Rangers",
        "Toronto Blue Jays",
        "Washington Nationals",
        "Washington Senators"
       ],
       "description": "MLB",
       "index": [],
       "layout": "IPY_MODEL_fae5ae7403c2488baa792464ad2b164d",
       "rows": 5,
       "style": "IPY_MODEL_979a80e10b454c8a99c07d2f3a8a78d5"
      }
     },
     "34f6ea174bf84d6f8ad11cad653ecf06": {
      "model_module": "@jupyter-widgets/base",
      "model_module_version": "1.2.0",
      "model_name": "LayoutModel",
      "state": {}
     },
     "365838b08636448ca7077a20d397ef2e": {
      "model_module": "@jupyter-widgets/controls",
      "model_module_version": "1.5.0",
      "model_name": "DropdownModel",
      "state": {
       "_options_labels": [
        "Choose",
        "1960",
        "1961",
        "1962",
        "1963",
        "1964",
        "1965",
        "1966",
        "1967",
        "1968",
        "1969",
        "1970",
        "1971",
        "1972",
        "1973",
        "1974",
        "1975",
        "1976",
        "1977",
        "1978",
        "1979",
        "1980",
        "1981",
        "1982",
        "1983",
        "1984",
        "1985",
        "1986",
        "1987",
        "1988",
        "1989",
        "1990",
        "1991",
        "1992",
        "1993",
        "1994",
        "1995",
        "1996",
        "1997",
        "1998",
        "1999",
        "2000",
        "2001",
        "2002",
        "2003",
        "2004",
        "2005",
        "2006",
        "2007",
        "2008",
        "2009",
        "2010",
        "2011",
        "2012",
        "2013",
        "2014",
        "2015",
        "2016",
        "2017",
        "2018",
        "2019"
       ],
       "description": "End Year:",
       "index": 47,
       "layout": "IPY_MODEL_83c0b557ed93489dbdb6616e91e5a6fb",
       "style": "IPY_MODEL_912f646acb4046e093733a4a815c736f"
      }
     },
     "37942b761f50493480be4bb7063b356c": {
      "model_module": "@jupyter-widgets/base",
      "model_module_version": "1.2.0",
      "model_name": "LayoutModel",
      "state": {}
     },
     "37ac62accdf645fe8f20405f3f67f01b": {
      "model_module": "@jupyter-widgets/controls",
      "model_module_version": "1.5.0",
      "model_name": "SelectMultipleModel",
      "state": {
       "_options_labels": [
        "Anaheim Angels",
        "Arizona Diamondbacks",
        "Atlanta Braves",
        "Baltimore Orioles",
        "Boston Red Sox",
        "California Angels",
        "Chicago Cubs",
        "Chicago White Sox",
        "Cincinnati Reds",
        "Cleveland Indians",
        "Colorado Rockies",
        "Detroit Tigers",
        "Florida Marlins",
        "Houston Astros",
        "Kansas City Royals",
        "Los Angeles Angels",
        "Los Angeles Dodgers",
        "Miami Marlins",
        "Milwaukee Brewers",
        "Minnesota Twins",
        "Montreal Expos",
        "New York Mets",
        "New York Yankees",
        "Oakland Athletics",
        "Philadelphia Phillies",
        "Pittsburgh Pirates",
        "San Diego Padres",
        "San Francisco Giants",
        "Seattle Mariners",
        "St. Louis Cardinals",
        "Tampa Bay Rays",
        "Texas Rangers",
        "Toronto Blue Jays",
        "Washington Nationals",
        "Washington Senators"
       ],
       "description": "MLB",
       "index": [],
       "layout": "IPY_MODEL_697c7535bd624b85a36bf5e68a9de190",
       "rows": 5,
       "style": "IPY_MODEL_4daaf7b9935f494c8dbb87b0770c2df6"
      }
     },
     "396f3da886e644469739f44cb3d0b5c8": {
      "model_module": "@jupyter-widgets/base",
      "model_module_version": "1.2.0",
      "model_name": "LayoutModel",
      "state": {}
     },
     "3a49334fdde2496fa21f63cc47231fc8": {
      "model_module": "@jupyter-widgets/base",
      "model_module_version": "1.2.0",
      "model_name": "LayoutModel",
      "state": {}
     },
     "3bd12c9b38d34de097368f8fbf5759cd": {
      "model_module": "@jupyter-widgets/base",
      "model_module_version": "1.2.0",
      "model_name": "LayoutModel",
      "state": {}
     },
     "3cb8ca0e2d9f4aae95b7872682d787f3": {
      "model_module": "@jupyter-widgets/base",
      "model_module_version": "1.2.0",
      "model_name": "LayoutModel",
      "state": {}
     },
     "3d67870156914d4b899b6889f7a12898": {
      "model_module": "@jupyter-widgets/controls",
      "model_module_version": "1.5.0",
      "model_name": "HBoxModel",
      "state": {
       "children": [
        "IPY_MODEL_37ac62accdf645fe8f20405f3f67f01b",
        "IPY_MODEL_ff3462d2ff234051b8c261b0648863ff"
       ],
       "layout": "IPY_MODEL_067a5794852840ada43c00ad34971d68"
      }
     },
     "3de9f331282e4368b9974e1ccc8f7a2c": {
      "model_module": "@jupyter-widgets/base",
      "model_module_version": "1.2.0",
      "model_name": "LayoutModel",
      "state": {}
     },
     "3f55c5d652c74e97b02844f3c38c31ce": {
      "model_module": "@jupyter-widgets/base",
      "model_module_version": "1.2.0",
      "model_name": "LayoutModel",
      "state": {}
     },
     "3f599fe901154025a173c9623ddec097": {
      "model_module": "@jupyter-widgets/output",
      "model_module_version": "1.0.0",
      "model_name": "OutputModel",
      "state": {
       "layout": "IPY_MODEL_98523d7e2a6643eb8a01b825fc4c4e9f"
      }
     },
     "4031467f25bf4a9a81d1bf64d105e245": {
      "model_module": "@jupyter-widgets/base",
      "model_module_version": "1.2.0",
      "model_name": "LayoutModel",
      "state": {}
     },
     "42889ca6453943edb5a6aff1857e5173": {
      "model_module": "@jupyter-widgets/base",
      "model_module_version": "1.2.0",
      "model_name": "LayoutModel",
      "state": {}
     },
     "42dc0454c171400ab0d67bd11ddd6e2b": {
      "model_module": "@jupyter-widgets/output",
      "model_module_version": "1.0.0",
      "model_name": "OutputModel",
      "state": {
       "layout": "IPY_MODEL_1d451a375c6a47efb0c0b8670e7b8910"
      }
     },
     "441835e8140c46a1a65e1d99d6e2c157": {
      "model_module": "@jupyter-widgets/controls",
      "model_module_version": "1.5.0",
      "model_name": "HTMLModel",
      "state": {
       "layout": "IPY_MODEL_82c0692400c741149ac0653e22b2c3a2",
       "placeholder": "",
       "style": "IPY_MODEL_be1e843b32a74588b0e43bd7969d6788",
       "value": "<b><u>Choose desired teams to compare in NFL, NFL, MLB, or NCAA Football (only select values in one sport)</u></b><br><ul><li>For comparing specific individual teams, select at least 2 teams (hold down Control to select/deselect)</li><li>To run for a conference (or league) instead of specific individual teams, select a single value in the League/conf list</li><li><b>Note: </b>The 'League/conf' list overrides selected values in the team lists. To run for individual teams, ensure 'None' is selected in 'League/conf' list</li></ul>"
      }
     },
     "44a6a0a14da0492e9e782961f84a6120": {
      "model_module": "@jupyter-widgets/base",
      "model_module_version": "1.2.0",
      "model_name": "LayoutModel",
      "state": {}
     },
     "45974f7046c54d01b2bbbd5d4f285585": {
      "model_module": "@jupyter-widgets/controls",
      "model_module_version": "1.5.0",
      "model_name": "DescriptionStyleModel",
      "state": {
       "description_width": ""
      }
     },
     "4599db900ddd42a0b297174955611553": {
      "model_module": "@jupyter-widgets/controls",
      "model_module_version": "1.5.0",
      "model_name": "HBoxModel",
      "state": {
       "children": [
        "IPY_MODEL_800293945c204ac2a6369d63f0e85d49"
       ],
       "layout": "IPY_MODEL_5b6c7b79c41049b1ab46b4f5b6b7af68"
      }
     },
     "45ffedddff5c4adab07c8657b7a2d4e7": {
      "model_module": "@jupyter-widgets/controls",
      "model_module_version": "1.5.0",
      "model_name": "HBoxModel",
      "state": {
       "children": [
        "IPY_MODEL_7ad905e85ab44dcdb569fe4af04ac633",
        "IPY_MODEL_b3f49aa0b4b549228e75b5d596aad501"
       ],
       "layout": "IPY_MODEL_1619a38e9ede4ec288e422c21f74cc73"
      }
     },
     "4634ccf9063a4978b6cb48fefc26286b": {
      "model_module": "@jupyter-widgets/controls",
      "model_module_version": "1.5.0",
      "model_name": "DescriptionStyleModel",
      "state": {
       "description_width": ""
      }
     },
     "4785eeb666a94d0095666d81590ab595": {
      "model_module": "@jupyter-widgets/controls",
      "model_module_version": "1.5.0",
      "model_name": "DescriptionStyleModel",
      "state": {
       "description_width": ""
      }
     },
     "49a0045d679745e38603598d88baf7c2": {
      "model_module": "@jupyter-widgets/controls",
      "model_module_version": "1.5.0",
      "model_name": "CheckboxModel",
      "state": {
       "description": "No animation (show only final result)",
       "disabled": false,
       "layout": "IPY_MODEL_7968e94eb16049b8be461e73b5582a95",
       "style": "IPY_MODEL_daff8e1b591d4e6d863a013bc1f82169",
       "value": false
      }
     },
     "4a68609919e34bb1802b3c10cfef0832": {
      "model_module": "@jupyter-widgets/output",
      "model_module_version": "1.0.0",
      "model_name": "OutputModel",
      "state": {
       "layout": "IPY_MODEL_3bd12c9b38d34de097368f8fbf5759cd"
      }
     },
     "4aa0491863c14a1e9ce557d99913cd4c": {
      "model_module": "@jupyter-widgets/output",
      "model_module_version": "1.0.0",
      "model_name": "OutputModel",
      "state": {
       "layout": "IPY_MODEL_e696ada470bf454093269af5fe1ef986"
      }
     },
     "4af842d57b7a479db132cab2dfa64007": {
      "model_module": "@jupyter-widgets/controls",
      "model_module_version": "1.5.0",
      "model_name": "HTMLModel",
      "state": {
       "layout": "IPY_MODEL_73acf967ca844218988911d4685167e7",
       "placeholder": "",
       "style": "IPY_MODEL_ebdd2ff1b1654be2a8c3f5ed326ed4c4",
       "value": "<h4><center><b><u>Submit Input Values to Generate Team Win/Loss Records Over Time</u></b></center></h4><b><u>Select date range for results</u></b><br><ul><li>Select <b>Start Year</b> for the year data is to start. Select <b>End Year</b> for the year data is to end</li></ul>"
      }
     },
     "4c9f49bf441844deb3040216972e2b05": {
      "model_module": "jupyter-matplotlib",
      "model_module_version": "^0.7.2",
      "model_name": "MPLCanvasModel",
      "state": {
       "_cursor": "default",
       "_figure_label": "Figure 2",
       "_height": 400,
       "_image_mode": "diff",
       "_width": 800,
       "header_visible": false,
       "layout": "IPY_MODEL_9593cd3a9def42f88017a082a8d338e0",
       "toolbar": "IPY_MODEL_94733b88b9ad4f299c80cd4a83873af3",
       "toolbar_position": "left",
       "toolbar_visible": false
      }
     },
     "4cf9979160074dab8bb8523191da3b80": {
      "model_module": "@jupyter-widgets/controls",
      "model_module_version": "1.5.0",
      "model_name": "VBoxModel",
      "state": {
       "_dom_classes": [
        "widget-interact"
       ],
       "children": [
        "IPY_MODEL_563b1865d82e489f91113adad0550c09",
        "IPY_MODEL_acc36e85187b4e2fb6f137f95340ddec"
       ],
       "layout": "IPY_MODEL_4031467f25bf4a9a81d1bf64d105e245"
      }
     },
     "4daaf7b9935f494c8dbb87b0770c2df6": {
      "model_module": "@jupyter-widgets/controls",
      "model_module_version": "1.5.0",
      "model_name": "DescriptionStyleModel",
      "state": {
       "description_width": ""
      }
     },
     "4ee9a9282a3c45e7992f1dcbf985d304": {
      "model_module": "@jupyter-widgets/base",
      "model_module_version": "1.2.0",
      "model_name": "LayoutModel",
      "state": {}
     },
     "51a99f033afa4585a2cf5f32d23c2bb6": {
      "model_module": "@jupyter-widgets/controls",
      "model_module_version": "1.5.0",
      "model_name": "DescriptionStyleModel",
      "state": {
       "description_width": ""
      }
     },
     "52a67a8decfa4a49afb5b124a15c8b60": {
      "model_module": "@jupyter-widgets/controls",
      "model_module_version": "1.5.0",
      "model_name": "DescriptionStyleModel",
      "state": {
       "description_width": ""
      }
     },
     "5383489bfdd845df9965cfee727f7c11": {
      "model_module": "@jupyter-widgets/base",
      "model_module_version": "1.2.0",
      "model_name": "LayoutModel",
      "state": {
       "height": "100px",
       "width": "350px"
      }
     },
     "53f96068ac5c46d180a1de751b68ce8a": {
      "model_module": "@jupyter-widgets/base",
      "model_module_version": "1.2.0",
      "model_name": "LayoutModel",
      "state": {}
     },
     "5518e60d4e4040c0a7bd73f8a8aadee3": {
      "model_module": "@jupyter-widgets/base",
      "model_module_version": "1.2.0",
      "model_name": "LayoutModel",
      "state": {}
     },
     "55c990a71c7f4e9babdd06cb477b89cd": {
      "model_module": "@jupyter-widgets/base",
      "model_module_version": "1.2.0",
      "model_name": "LayoutModel",
      "state": {}
     },
     "55d67ca967f242b7a9784cd70b300452": {
      "model_module": "@jupyter-widgets/controls",
      "model_module_version": "1.5.0",
      "model_name": "HBoxModel",
      "state": {
       "children": [
        "IPY_MODEL_04c7f94fa9f94092ab96e6cf7b741acf",
        "IPY_MODEL_129cb0f4afee4fee8d8e6d6274d4bdf6"
       ],
       "layout": "IPY_MODEL_3cb8ca0e2d9f4aae95b7872682d787f3"
      }
     },
     "563b1865d82e489f91113adad0550c09": {
      "model_module": "@jupyter-widgets/controls",
      "model_module_version": "1.5.0",
      "model_name": "RadioButtonsModel",
      "state": {
       "_options_labels": [
        "Slow",
        "Medium",
        "Fast",
        "Very Fast"
       ],
       "description": "AnimSpeed:",
       "index": 1,
       "layout": "IPY_MODEL_20357d7394004c72b237a6de7965ba50",
       "style": "IPY_MODEL_4634ccf9063a4978b6cb48fefc26286b"
      }
     },
     "58389e6ae0724b9da0ea1590e85fe1d6": {
      "model_module": "@jupyter-widgets/base",
      "model_module_version": "1.2.0",
      "model_name": "LayoutModel",
      "state": {}
     },
     "5a0c0e0bceef452cb46f382d21be596c": {
      "model_module": "@jupyter-widgets/controls",
      "model_module_version": "1.5.0",
      "model_name": "VBoxModel",
      "state": {
       "_dom_classes": [
        "widget-interact"
       ],
       "children": [
        "IPY_MODEL_25309d909dd04c049d1289d45e726a63",
        "IPY_MODEL_88446d2e23de40dead0cc3d8da49f5b6"
       ],
       "layout": "IPY_MODEL_b45cdd4334eb472a875c41e5386a5ce0"
      }
     },
     "5a658df994504c79bf7823649ad1bdab": {
      "model_module": "@jupyter-widgets/controls",
      "model_module_version": "1.5.0",
      "model_name": "HTMLModel",
      "state": {
       "layout": "IPY_MODEL_117ecca5e5364ba6b2cf6929336f5f80",
       "placeholder": "",
       "style": "IPY_MODEL_3483f340d5db4f638f416e5d6d2e1cc9",
       "value": "<h4><center><b><u>Submit Input Values to Generate Team Win/Loss Records Over Time</u></b></center></h4><b><u>Select date range for results</u></b><br><ul><li>Select <b>Start Year</b> for the year data is to start. Select <b>End Year</b> for the year data is to end</li></ul>"
      }
     },
     "5a70a419e68f4a0ba0d70162ff4e6c1c": {
      "model_module": "@jupyter-widgets/controls",
      "model_module_version": "1.5.0",
      "model_name": "HTMLModel",
      "state": {
       "layout": "IPY_MODEL_ce93a3c8e79c4e7899616074fbcec67b",
       "placeholder": "",
       "style": "IPY_MODEL_0b1be77997c9451899b74a9b18d72d70",
       "value": "<b><u>Select animation speed to control how fast the year frames advance in the animation.</u></b> (To see just the final result chart without seeing the year by year animation, check the 'No animation' box.)"
      }
     },
     "5b6c7b79c41049b1ab46b4f5b6b7af68": {
      "model_module": "@jupyter-widgets/base",
      "model_module_version": "1.2.0",
      "model_name": "LayoutModel",
      "state": {}
     },
     "5d78df394b3840709716a84c247b3473": {
      "model_module": "@jupyter-widgets/controls",
      "model_module_version": "1.5.0",
      "model_name": "VBoxModel",
      "state": {
       "_dom_classes": [
        "widget-interact"
       ],
       "children": [
        "IPY_MODEL_37ac62accdf645fe8f20405f3f67f01b",
        "IPY_MODEL_128be6605b1847fdb72ce17e128c2646"
       ],
       "layout": "IPY_MODEL_125ae63a434040eaa3e75454b45c81db"
      }
     },
     "5df6af6662c9477cba81d25002018609": {
      "model_module": "@jupyter-widgets/controls",
      "model_module_version": "1.5.0",
      "model_name": "VBoxModel",
      "state": {
       "_dom_classes": [
        "widget-interact"
       ],
       "children": [
        "IPY_MODEL_001593496db44d25a18cb3a9e5080efb",
        "IPY_MODEL_2d75f2b7710547e18f1e962d74086438"
       ],
       "layout": "IPY_MODEL_762b422d55e34e20b9bd06444674e8aa"
      }
     },
     "5ec4ca81b3d045669570051b25d74097": {
      "model_module": "@jupyter-widgets/base",
      "model_module_version": "1.2.0",
      "model_name": "LayoutModel",
      "state": {}
     },
     "60760f38ec904668a188d9b3caa52c77": {
      "model_module": "@jupyter-widgets/base",
      "model_module_version": "1.2.0",
      "model_name": "LayoutModel",
      "state": {}
     },
     "60e863b5f2154327a3470fca41d77fa4": {
      "model_module": "@jupyter-widgets/controls",
      "model_module_version": "1.5.0",
      "model_name": "SelectMultipleModel",
      "state": {
       "_options_labels": [
        "Air Force Falcons",
        "Alabama Crimson Tide",
        "Arizona State Sun Devils",
        "Arizona Wildcats",
        "Arkansas Razorbacks",
        "Army Black Knights",
        "Auburn Tigers",
        "Baylor Bears",
        "Boise State Broncos",
        "Boston College Eagles",
        "B Y U Cougars",
        "California Golden Bears",
        "Central Florida Knights",
        "Cincinnati Bearkats",
        "Clemson Tigers",
        "Colorado Buffaloes",
        "Colorado State Rams",
        "Connecticut Huskies",
        "Duke Blue Devils",
        "East Carolina",
        "Florida Gators",
        "Florida State Seminoles",
        "Fresno State Bulldogs",
        "Georgia Bulldogs",
        "Georgia Tech Yellow Jackets",
        "Hawaii Rainbow Warriors",
        "Houston Cougars",
        "Illinois Fighing Illini",
        "Indiana Hoosiers",
        "Iowa Hawkeyes",
        "Iowa State Cyclones",
        "Kansas Jayhawks",
        "Kansas State Wildcats",
        "Kentucky Wildcats",
        "Louisville Cardinals",
        "LSU Tigers",
        "Maryland Terrapins",
        "Memphis Tigers",
        "Miami Hurricanes",
        "Michigan State Spartans",
        "Michigan Wolverines",
        "Minnesota Golden Gophers",
        "Mississippi State Bulldogs",
        "Missouri Tigers",
        "Navy Midshipmen",
        "NC State",
        "Nebraska Cornhuskers",
        "Nevada Wolf Pack",
        "New Mexico Lobos",
        "New Mexico State Aggies",
        "North Carolina Tarheels",
        "Northwestern Wildcats",
        "Notre Dame Fighting Irish",
        "Ohio State Buckeyes",
        "Oklahoma Sooners",
        "Oklahoma State Cowboys",
        "Ole Miss Rebels",
        "Oregon Ducks",
        "Oregon State Beavers",
        "Penn State Nittany Lions",
        "Pittsburgh Panthers",
        "Purdue Boilermakers",
        "Rutgers Scarlet Knights",
        "San Diego State Aztecs",
        "San Jose State Spartans",
        "SMU Mustangs",
        "South Carolina Gamecocks",
        "South Florida Bulls",
        "Stanford Cardinal",
        "Syracuse Orange",
        "TCU Horned Frogs",
        "Temple Owls",
        "Tennessee Volunteers",
        "Texas A&M Aggies",
        "Texas Longhorns",
        "Texas Tech Red Raiders",
        "Tulane Green Wave",
        "Tulsa Golden Hurricane",
        "UCLA Bruins",
        "UNLV Rebels",
        "USC Trojans",
        "Utah State Aggies",
        "Utah Utes",
        "Vanderbilt Commodores",
        "Virginia Cavaliers",
        "Virginia Tech Hokies",
        "Wake Forest Demon Deacons",
        "Washington Huskies",
        "Washington State Cougars",
        "West Virginia Mountaineers",
        "Wisconsin Badgers",
        "Wyoming Cowboys"
       ],
       "description": "NCAAF",
       "index": [],
       "layout": "IPY_MODEL_c8bda34d134e456298d98d97e5e09e72",
       "rows": 5,
       "style": "IPY_MODEL_9011ef9ff01e4c5aa841a744875f01ad"
      }
     },
     "61bc471084ca42c4a99eea7e1ebf7a33": {
      "model_module": "@jupyter-widgets/output",
      "model_module_version": "1.0.0",
      "model_name": "OutputModel",
      "state": {
       "layout": "IPY_MODEL_c747d08fa6e04e319a934ebeefeefc4a"
      }
     },
     "631a89826a034a378a466c1bea8359af": {
      "model_module": "@jupyter-widgets/controls",
      "model_module_version": "1.5.0",
      "model_name": "HTMLModel",
      "state": {
       "layout": "IPY_MODEL_e9cf726c10ac47bcabc81b43559f1af1",
       "placeholder": "",
       "style": "IPY_MODEL_76d4d15fa97248cdbbb1dbfe2474b634",
       "value": "<b><u>Click 'Run Chart' button to display result!</u></b><ul><li>Animation will play in the <b>next</b> cell. (Hit 'Play' button to start after first frame loads)</li><li>If no animation was chosen, static chart will show in this cell.</li></ul>"
      }
     },
     "653fa23bb32f4bcc97948bac287c4b8d": {
      "model_module": "@jupyter-widgets/base",
      "model_module_version": "1.2.0",
      "model_name": "LayoutModel",
      "state": {}
     },
     "65416c631fd34e7ba83adaf21155c0ff": {
      "model_module": "@jupyter-widgets/base",
      "model_module_version": "1.2.0",
      "model_name": "LayoutModel",
      "state": {}
     },
     "66a86a82c59b4861bc21375f9ea0737e": {
      "model_module": "@jupyter-widgets/output",
      "model_module_version": "1.0.0",
      "model_name": "OutputModel",
      "state": {
       "layout": "IPY_MODEL_8eb3830213ed47eb8420c92b87560e8a",
       "outputs": [
        {
         "name": "stdout",
         "output_type": "stream",
         "text": "hola\n"
        },
        {
         "data": {
          "application/vnd.jupyter.widget-view+json": {
           "model_id": "",
           "version_major": 2,
           "version_minor": 0
          },
          "text/plain": "Canvas(toolbar=Toolbar(toolitems=[('Home', 'Reset original view', 'home', 'home'), ('Back', 'Back to previous …"
         },
         "metadata": {},
         "output_type": "display_data"
        },
        {
         "name": "stdout",
         "output_type": "stream",
         "text": "huh\naaa\n"
        }
       ]
      }
     },
     "66e21f78c040411a9003cad945db65d6": {
      "model_module": "@jupyter-widgets/base",
      "model_module_version": "1.2.0",
      "model_name": "LayoutModel",
      "state": {
       "height": "100px",
       "width": "350px"
      }
     },
     "67430b8cfcac487e9a2cb80aed434703": {
      "model_module": "@jupyter-widgets/controls",
      "model_module_version": "1.5.0",
      "model_name": "HTMLModel",
      "state": {
       "layout": "IPY_MODEL_c1c3a1fd1fb24ce4946ec3c7ccbfd24f",
       "placeholder": "",
       "style": "IPY_MODEL_0740ddbf2b404356b3bf256beae20242",
       "value": "<b><u>Choose desired teams to compare in NFL, NFL, MLB, or NCAA Football (only select values in one sport)</u></b><br><ul><li>For comparing specific individual teams, select at least 2 teams (hold down Control to select/deselect)</li><li>To run for a conference (or league) instead of specific individual teams, select a single value in the League/conf list</li><li><b>Note: </b>The 'League/conf' list overrides selected values in the team lists. To run for individual teams, ensure 'None' is selected in 'League/conf' list</li></ul>"
      }
     },
     "682a47d1f15f4a0e9c8c55a7517c915c": {
      "model_module": "@jupyter-widgets/base",
      "model_module_version": "1.2.0",
      "model_name": "LayoutModel",
      "state": {}
     },
     "685b455a2cfb429f8b3c7706a699189f": {
      "model_module": "@jupyter-widgets/base",
      "model_module_version": "1.2.0",
      "model_name": "LayoutModel",
      "state": {}
     },
     "697c7535bd624b85a36bf5e68a9de190": {
      "model_module": "@jupyter-widgets/base",
      "model_module_version": "1.2.0",
      "model_name": "LayoutModel",
      "state": {
       "height": "100px",
       "width": "350px"
      }
     },
     "698fc267941448d1bd5584b50d1c95b3": {
      "model_module": "@jupyter-widgets/base",
      "model_module_version": "1.2.0",
      "model_name": "LayoutModel",
      "state": {
       "height": "30px",
       "width": "500px"
      }
     },
     "6a1e405c02dd4c37adaaccb69d1d8d4a": {
      "model_module": "@jupyter-widgets/base",
      "model_module_version": "1.2.0",
      "model_name": "LayoutModel",
      "state": {
       "height": "100px",
       "width": "350px"
      }
     },
     "6a9412b1792846ec874717b229bd4168": {
      "model_module": "@jupyter-widgets/controls",
      "model_module_version": "1.5.0",
      "model_name": "VBoxModel",
      "state": {
       "_dom_classes": [
        "widget-interact"
       ],
       "children": [
        "IPY_MODEL_34b582b2fcc94f94a11ace5c441daa0a",
        "IPY_MODEL_038ad756d34c467c8088e4a2f47d12b1"
       ],
       "layout": "IPY_MODEL_44a6a0a14da0492e9e782961f84a6120"
      }
     },
     "6bacb041b9b04042a090ff51c54d494c": {
      "model_module": "@jupyter-widgets/base",
      "model_module_version": "1.2.0",
      "model_name": "LayoutModel",
      "state": {}
     },
     "6bdfedbe898b48d686041bb84696d4c0": {
      "model_module": "jupyter-matplotlib",
      "model_module_version": "^0.7.2",
      "model_name": "ToolbarModel",
      "state": {
       "layout": "IPY_MODEL_a34acd6603044bed999ce0262ec5e984",
       "toolitems": [
        [
         "Home",
         "Reset original view",
         "home",
         "home"
        ],
        [
         "Back",
         "Back to previous view",
         "arrow-left",
         "back"
        ],
        [
         "Forward",
         "Forward to next view",
         "arrow-right",
         "forward"
        ],
        [
         "Pan",
         "Pan axes with left mouse, zoom with right",
         "arrows",
         "pan"
        ],
        [
         "Zoom",
         "Zoom to rectangle",
         "square-o",
         "zoom"
        ],
        [
         "Download",
         "Download plot",
         "floppy-o",
         "save_figure"
        ]
       ]
      }
     },
     "6ca6385ff7c24f438c6d9b361880b3cf": {
      "model_module": "@jupyter-widgets/base",
      "model_module_version": "1.2.0",
      "model_name": "LayoutModel",
      "state": {}
     },
     "7115ebb6eba545abb3d66641bc02e25f": {
      "model_module": "@jupyter-widgets/output",
      "model_module_version": "1.0.0",
      "model_name": "OutputModel",
      "state": {
       "layout": "IPY_MODEL_5ec4ca81b3d045669570051b25d74097"
      }
     },
     "715c95e474784ec8ae93891b81345886": {
      "model_module": "@jupyter-widgets/controls",
      "model_module_version": "1.5.0",
      "model_name": "HBoxModel",
      "state": {
       "children": [
        "IPY_MODEL_25309d909dd04c049d1289d45e726a63"
       ],
       "layout": "IPY_MODEL_7b17c1b4d1ad437db7b22c8dfd961e86"
      }
     },
     "71fcc1dca6d84e27aab7c56deeec229c": {
      "model_module": "@jupyter-widgets/base",
      "model_module_version": "1.2.0",
      "model_name": "LayoutModel",
      "state": {}
     },
     "73acf967ca844218988911d4685167e7": {
      "model_module": "@jupyter-widgets/base",
      "model_module_version": "1.2.0",
      "model_name": "LayoutModel",
      "state": {}
     },
     "73b7d8dcaae74c219b2f27c62271517e": {
      "model_module": "@jupyter-widgets/base",
      "model_module_version": "1.2.0",
      "model_name": "LayoutModel",
      "state": {}
     },
     "73cc8072a8d545be9c503ec2330584b7": {
      "model_module": "@jupyter-widgets/base",
      "model_module_version": "1.2.0",
      "model_name": "LayoutModel",
      "state": {}
     },
     "74b3262da2c94eb3a68ca57dbe22ec0b": {
      "model_module": "@jupyter-widgets/base",
      "model_module_version": "1.2.0",
      "model_name": "LayoutModel",
      "state": {}
     },
     "74c0eedbc1af408a87e949a864bdd0e8": {
      "model_module": "@jupyter-widgets/controls",
      "model_module_version": "1.5.0",
      "model_name": "VBoxModel",
      "state": {
       "_dom_classes": [
        "widget-interact"
       ],
       "children": [
        "IPY_MODEL_10d54f2bba0247b5bb75e46b5772a3ea",
        "IPY_MODEL_051e3d8ef697494686170faffb200615"
       ],
       "layout": "IPY_MODEL_b8344c06802e445fa82c0c8a35652653"
      }
     },
     "75ed2c4471b8441ba22e0ec29557e808": {
      "model_module": "jupyter-matplotlib",
      "model_module_version": "^0.7.2",
      "model_name": "MPLCanvasModel",
      "state": {
       "_cursor": "default",
       "_figure_label": "Figure 1",
       "_height": 400,
       "_image_mode": "diff",
       "_width": 800,
       "header_visible": false,
       "layout": "IPY_MODEL_73b7d8dcaae74c219b2f27c62271517e",
       "toolbar": "IPY_MODEL_6bdfedbe898b48d686041bb84696d4c0",
       "toolbar_position": "left",
       "toolbar_visible": false
      }
     },
     "762b422d55e34e20b9bd06444674e8aa": {
      "model_module": "@jupyter-widgets/base",
      "model_module_version": "1.2.0",
      "model_name": "LayoutModel",
      "state": {}
     },
     "76d4d15fa97248cdbbb1dbfe2474b634": {
      "model_module": "@jupyter-widgets/controls",
      "model_module_version": "1.5.0",
      "model_name": "DescriptionStyleModel",
      "state": {
       "description_width": ""
      }
     },
     "7753351c085a4a3e8659d5a8f25ae9cf": {
      "model_module": "@jupyter-widgets/controls",
      "model_module_version": "1.5.0",
      "model_name": "VBoxModel",
      "state": {
       "_dom_classes": [
        "widget-interact"
       ],
       "children": [
        "IPY_MODEL_a28162b793754aa38e26ce1f88eea7ad",
        "IPY_MODEL_42dc0454c171400ab0d67bd11ddd6e2b"
       ],
       "layout": "IPY_MODEL_53f96068ac5c46d180a1de751b68ce8a"
      }
     },
     "7776748b3a074774ae310dc8289944c3": {
      "model_module": "@jupyter-widgets/controls",
      "model_module_version": "1.5.0",
      "model_name": "VBoxModel",
      "state": {
       "_dom_classes": [
        "widget-interact"
       ],
       "children": [
        "IPY_MODEL_f708cbc4537c4b2dac644462f9431267",
        "IPY_MODEL_b5dd5ffc52564262abf42c8238306f7d"
       ],
       "layout": "IPY_MODEL_8243125e70834521a3ecf0fe99cb4091"
      }
     },
     "77f5cf22fc4e45aca901a82783b393a7": {
      "model_module": "@jupyter-widgets/base",
      "model_module_version": "1.2.0",
      "model_name": "LayoutModel",
      "state": {}
     },
     "7868d36d244746999fbb11fed1b60483": {
      "model_module": "@jupyter-widgets/output",
      "model_module_version": "1.0.0",
      "model_name": "OutputModel",
      "state": {
       "layout": "IPY_MODEL_55c990a71c7f4e9babdd06cb477b89cd"
      }
     },
     "7968e94eb16049b8be461e73b5582a95": {
      "model_module": "@jupyter-widgets/base",
      "model_module_version": "1.2.0",
      "model_name": "LayoutModel",
      "state": {
       "height": "30px",
       "width": "500px"
      }
     },
     "7a4228430f6a4f129ff55d14b6cf173f": {
      "model_module": "@jupyter-widgets/base",
      "model_module_version": "1.2.0",
      "model_name": "LayoutModel",
      "state": {
       "height": "30px",
       "width": "500px"
      }
     },
     "7acd4b75aa3647f59ab763def4b70880": {
      "model_module": "@jupyter-widgets/controls",
      "model_module_version": "1.5.0",
      "model_name": "DescriptionStyleModel",
      "state": {
       "description_width": ""
      }
     },
     "7ad905e85ab44dcdb569fe4af04ac633": {
      "model_module": "@jupyter-widgets/controls",
      "model_module_version": "1.5.0",
      "model_name": "DropdownModel",
      "state": {
       "_options_labels": [
        "Choose",
        "1960",
        "1961",
        "1962",
        "1963",
        "1964",
        "1965",
        "1966",
        "1967",
        "1968",
        "1969",
        "1970",
        "1971",
        "1972",
        "1973",
        "1974",
        "1975",
        "1976",
        "1977",
        "1978",
        "1979",
        "1980",
        "1981",
        "1982",
        "1983",
        "1984",
        "1985",
        "1986",
        "1987",
        "1988",
        "1989",
        "1990",
        "1991",
        "1992",
        "1993",
        "1994",
        "1995",
        "1996",
        "1997",
        "1998",
        "1999",
        "2000",
        "2001",
        "2002",
        "2003",
        "2004",
        "2005",
        "2006",
        "2007",
        "2008",
        "2009",
        "2010",
        "2011",
        "2012",
        "2013",
        "2014",
        "2015",
        "2016",
        "2017",
        "2018",
        "2019"
       ],
       "description": "Start Year:",
       "index": 21,
       "layout": "IPY_MODEL_c74485bd30174669a6c4a83c87aa9338",
       "style": "IPY_MODEL_cb9fe751d1f4423fbb6ac11767955f63"
      }
     },
     "7b17c1b4d1ad437db7b22c8dfd961e86": {
      "model_module": "@jupyter-widgets/base",
      "model_module_version": "1.2.0",
      "model_name": "LayoutModel",
      "state": {}
     },
     "7d004c3baef042cb8e4a0c5921b5ffe1": {
      "model_module": "@jupyter-widgets/controls",
      "model_module_version": "1.5.0",
      "model_name": "SelectMultipleModel",
      "state": {
       "_options_labels": [
        "Anaheim Angels",
        "Arizona Diamondbacks",
        "Atlanta Braves",
        "Baltimore Orioles",
        "Boston Red Sox",
        "California Angels",
        "Chicago Cubs",
        "Chicago White Sox",
        "Cincinnati Reds",
        "Cleveland Indians",
        "Colorado Rockies",
        "Detroit Tigers",
        "Florida Marlins",
        "Houston Astros",
        "Kansas City Royals",
        "Los Angeles Angels",
        "Los Angeles Dodgers",
        "Miami Marlins",
        "Milwaukee Brewers",
        "Minnesota Twins",
        "Montreal Expos",
        "New York Mets",
        "New York Yankees",
        "Oakland Athletics",
        "Philadelphia Phillies",
        "Pittsburgh Pirates",
        "San Diego Padres",
        "San Francisco Giants",
        "Seattle Mariners",
        "St. Louis Cardinals",
        "Tampa Bay Rays",
        "Texas Rangers",
        "Toronto Blue Jays",
        "Washington Nationals",
        "Washington Senators"
       ],
       "description": "MLB",
       "index": [],
       "layout": "IPY_MODEL_6a1e405c02dd4c37adaaccb69d1d8d4a",
       "rows": 5,
       "style": "IPY_MODEL_0a0826f482ce45dc9abadd9934332dc8"
      }
     },
     "800293945c204ac2a6369d63f0e85d49": {
      "model_module": "@jupyter-widgets/controls",
      "model_module_version": "1.5.0",
      "model_name": "DropdownModel",
      "state": {
       "_options_labels": [
        "None",
        "All NFL",
        "NFL NFC",
        "NFL AFC",
        "All NBA",
        "NBA Eastern",
        "NBA Western",
        "All MLB",
        "MLB American",
        "MLB National"
       ],
       "description": "League/Conf",
       "index": 0,
       "layout": "IPY_MODEL_94c35ca12a2f420abecf7a77b6c00509",
       "style": "IPY_MODEL_b47961d825794dfcab6a16f758a3b67a"
      }
     },
     "804d49c18b684f3bbc9f3f72801c2e07": {
      "model_module": "@jupyter-widgets/base",
      "model_module_version": "1.2.0",
      "model_name": "LayoutModel",
      "state": {}
     },
     "805cb10528af4a03b3fd27ed9a057e07": {
      "model_module": "@jupyter-widgets/controls",
      "model_module_version": "1.5.0",
      "model_name": "VBoxModel",
      "state": {
       "_dom_classes": [
        "widget-interact"
       ],
       "children": [
        "IPY_MODEL_f888e4a2038e40768aee34cd39506181",
        "IPY_MODEL_d9807bd066204bf6870823b6fd919a94"
       ],
       "layout": "IPY_MODEL_4ee9a9282a3c45e7992f1dcbf985d304"
      }
     },
     "80af32c30bf841b4932c796429123b55": {
      "model_module": "@jupyter-widgets/controls",
      "model_module_version": "1.5.0",
      "model_name": "DescriptionStyleModel",
      "state": {
       "description_width": ""
      }
     },
     "8243125e70834521a3ecf0fe99cb4091": {
      "model_module": "@jupyter-widgets/base",
      "model_module_version": "1.2.0",
      "model_name": "LayoutModel",
      "state": {}
     },
     "82c0692400c741149ac0653e22b2c3a2": {
      "model_module": "@jupyter-widgets/base",
      "model_module_version": "1.2.0",
      "model_name": "LayoutModel",
      "state": {}
     },
     "8396ce2cead74e2fb2f5f7c9314a02ca": {
      "model_module": "@jupyter-widgets/controls",
      "model_module_version": "1.5.0",
      "model_name": "DescriptionStyleModel",
      "state": {
       "description_width": ""
      }
     },
     "83c0b557ed93489dbdb6616e91e5a6fb": {
      "model_module": "@jupyter-widgets/base",
      "model_module_version": "1.2.0",
      "model_name": "LayoutModel",
      "state": {}
     },
     "83cc8ff452604c5ba1d92efc680a0058": {
      "model_module": "@jupyter-widgets/base",
      "model_module_version": "1.2.0",
      "model_name": "LayoutModel",
      "state": {
       "height": "100px",
       "width": "350px"
      }
     },
     "844da48fd79148e487053ac91d2c97df": {
      "model_module": "@jupyter-widgets/controls",
      "model_module_version": "1.5.0",
      "model_name": "DescriptionStyleModel",
      "state": {
       "description_width": ""
      }
     },
     "88446d2e23de40dead0cc3d8da49f5b6": {
      "model_module": "@jupyter-widgets/output",
      "model_module_version": "1.0.0",
      "model_name": "OutputModel",
      "state": {
       "layout": "IPY_MODEL_10c15cfa8c53412a96b6a6b9d6cf9763"
      }
     },
     "8c523ae9fabb444689cb783fa13dd7e7": {
      "model_module": "@jupyter-widgets/controls",
      "model_module_version": "1.5.0",
      "model_name": "HTMLModel",
      "state": {
       "layout": "IPY_MODEL_301da0a087914c049fd499f1f781d38d",
       "placeholder": "",
       "style": "IPY_MODEL_a5747c5a477e452c81bdf14ab6988825",
       "value": "<b><u>Click 'Run Chart' button to display result!</u></b><ul><li>Animation will play in the <b>next</b> cell. (Hit 'Play' button to start after first frame loads)</li><li>If no animation was chosen, static chart will show in this cell.</li></ul>"
      }
     },
     "8c6f377aa78b4a1b80c7faec70fd0004": {
      "model_module": "@jupyter-widgets/base",
      "model_module_version": "1.2.0",
      "model_name": "LayoutModel",
      "state": {}
     },
     "8df8366490f04cbb84e343645907f080": {
      "model_module": "@jupyter-widgets/base",
      "model_module_version": "1.2.0",
      "model_name": "LayoutModel",
      "state": {}
     },
     "8eb3830213ed47eb8420c92b87560e8a": {
      "model_module": "@jupyter-widgets/base",
      "model_module_version": "1.2.0",
      "model_name": "LayoutModel",
      "state": {}
     },
     "8f18883f1f2541d48a5617ee3b0a826f": {
      "model_module": "@jupyter-widgets/controls",
      "model_module_version": "1.5.0",
      "model_name": "DescriptionStyleModel",
      "state": {
       "description_width": ""
      }
     },
     "9011ef9ff01e4c5aa841a744875f01ad": {
      "model_module": "@jupyter-widgets/controls",
      "model_module_version": "1.5.0",
      "model_name": "DescriptionStyleModel",
      "state": {
       "description_width": ""
      }
     },
     "90bf774fb10642f281dde0b06bbabdd7": {
      "model_module": "@jupyter-widgets/controls",
      "model_module_version": "1.5.0",
      "model_name": "VBoxModel",
      "state": {
       "_dom_classes": [
        "widget-interact"
       ],
       "children": [
        "IPY_MODEL_094d936f705d47bc994d5916fa18de65",
        "IPY_MODEL_4a68609919e34bb1802b3c10cfef0832"
       ],
       "layout": "IPY_MODEL_e12de55f199c4e269bd499bbeab4b14b"
      }
     },
     "912f646acb4046e093733a4a815c736f": {
      "model_module": "@jupyter-widgets/controls",
      "model_module_version": "1.5.0",
      "model_name": "DescriptionStyleModel",
      "state": {
       "description_width": ""
      }
     },
     "917e8184c85949b49bedfc34d8408265": {
      "model_module": "@jupyter-widgets/controls",
      "model_module_version": "1.5.0",
      "model_name": "DescriptionStyleModel",
      "state": {
       "description_width": ""
      }
     },
     "932a9cb059664ee3915d21c911a6afcc": {
      "model_module": "@jupyter-widgets/base",
      "model_module_version": "1.2.0",
      "model_name": "LayoutModel",
      "state": {}
     },
     "94733b88b9ad4f299c80cd4a83873af3": {
      "model_module": "jupyter-matplotlib",
      "model_module_version": "^0.7.2",
      "model_name": "ToolbarModel",
      "state": {
       "layout": "IPY_MODEL_f64d8415ca7f47ffa266ba160b4b2425",
       "toolitems": [
        [
         "Home",
         "Reset original view",
         "home",
         "home"
        ],
        [
         "Back",
         "Back to previous view",
         "arrow-left",
         "back"
        ],
        [
         "Forward",
         "Forward to next view",
         "arrow-right",
         "forward"
        ],
        [
         "Pan",
         "Pan axes with left mouse, zoom with right",
         "arrows",
         "pan"
        ],
        [
         "Zoom",
         "Zoom to rectangle",
         "square-o",
         "zoom"
        ],
        [
         "Download",
         "Download plot",
         "floppy-o",
         "save_figure"
        ]
       ]
      }
     },
     "94c35ca12a2f420abecf7a77b6c00509": {
      "model_module": "@jupyter-widgets/base",
      "model_module_version": "1.2.0",
      "model_name": "LayoutModel",
      "state": {
       "width": "220px"
      }
     },
     "9593cd3a9def42f88017a082a8d338e0": {
      "model_module": "@jupyter-widgets/base",
      "model_module_version": "1.2.0",
      "model_name": "LayoutModel",
      "state": {}
     },
     "979a80e10b454c8a99c07d2f3a8a78d5": {
      "model_module": "@jupyter-widgets/controls",
      "model_module_version": "1.5.0",
      "model_name": "DescriptionStyleModel",
      "state": {
       "description_width": ""
      }
     },
     "98523d7e2a6643eb8a01b825fc4c4e9f": {
      "model_module": "@jupyter-widgets/base",
      "model_module_version": "1.2.0",
      "model_name": "LayoutModel",
      "state": {}
     },
     "986255bcc86046c98e8e30a193db0b3c": {
      "model_module": "@jupyter-widgets/output",
      "model_module_version": "1.0.0",
      "model_name": "OutputModel",
      "state": {
       "layout": "IPY_MODEL_d6cad87c6bcb42b38960280af9458316"
      }
     },
     "9a68aabf07fc4a5eb5d17c40d42fc7b7": {
      "model_module": "@jupyter-widgets/controls",
      "model_module_version": "1.5.0",
      "model_name": "HBoxModel",
      "state": {
       "children": [
        "IPY_MODEL_34b582b2fcc94f94a11ace5c441daa0a",
        "IPY_MODEL_60e863b5f2154327a3470fca41d77fa4"
       ],
       "layout": "IPY_MODEL_daee9d0da7fe418eb3ce6a114f51ab74"
      }
     },
     "9bea3b20a159458fba10d1c1213d175c": {
      "model_module": "@jupyter-widgets/controls",
      "model_module_version": "1.5.0",
      "model_name": "HBoxModel",
      "state": {
       "children": [
        "IPY_MODEL_7d004c3baef042cb8e4a0c5921b5ffe1",
        "IPY_MODEL_094d936f705d47bc994d5916fa18de65"
       ],
       "layout": "IPY_MODEL_3de9f331282e4368b9974e1ccc8f7a2c"
      }
     },
     "9d6535bdc6f14b46a89e9ba8d325165f": {
      "model_module": "@jupyter-widgets/controls",
      "model_module_version": "1.5.0",
      "model_name": "HBoxModel",
      "state": {
       "children": [
        "IPY_MODEL_c3619d8c95fb45c999651bfaeac21a1b",
        "IPY_MODEL_de1194a5b3974ff2ad8d314a893582d4"
       ],
       "layout": "IPY_MODEL_653fa23bb32f4bcc97948bac287c4b8d"
      }
     },
     "9e86aafb83e343bcacf8e56b8b5464e3": {
      "model_module": "@jupyter-widgets/controls",
      "model_module_version": "1.5.0",
      "model_name": "HTMLModel",
      "state": {
       "layout": "IPY_MODEL_b7fe5cec3c98455683355b0039daf91f",
       "placeholder": "",
       "style": "IPY_MODEL_c7ec982875974c149e4f6476ebf53357",
       "value": "<b><u>Select animation speed to control how fast the year frames advance in the animation.</u></b> (To see just the final result chart without seeing the year by year animation, check the 'No animation' box.)"
      }
     },
     "9eb25e3651f84d50babc5777cdf24ad7": {
      "model_module": "@jupyter-widgets/controls",
      "model_module_version": "1.5.0",
      "model_name": "CheckboxModel",
      "state": {
       "description": "Show Result",
       "disabled": false,
       "indent": false,
       "layout": "IPY_MODEL_21933833065f487f88ac354cadd7bc51",
       "style": "IPY_MODEL_a476e2584f5043088bd0c705dbcf7093",
       "value": true
      }
     },
     "a1a92a4988244341bdb7f4b9c9b1114c": {
      "model_module": "@jupyter-widgets/controls",
      "model_module_version": "1.5.0",
      "model_name": "DescriptionStyleModel",
      "state": {
       "description_width": ""
      }
     },
     "a28162b793754aa38e26ce1f88eea7ad": {
      "model_module": "@jupyter-widgets/controls",
      "model_module_version": "1.5.0",
      "model_name": "SelectMultipleModel",
      "state": {
       "_options_labels": [
        "Arizona Cardinals",
        "Atlanta Falcons",
        "Baltimore Colts",
        "Baltimore Ravens",
        "Boston Patriots",
        "Buffalo Bills",
        "Carolina Panthers",
        "Chicago Bears",
        "Cincinnati Bengals",
        "Cleveland Browns",
        "Dallas Cowboys",
        "Detroit Lions",
        "Green Bay Packers",
        "Houston Oilers",
        "Houston Texans",
        "Indianapolis Colts",
        "Jacksonville Jaguars",
        "Kansas City Chiefs",
        "Los Angeles Chargers",
        "Los Angeles Raiders",
        "Los Angeles Rams",
        "Miami Dolphins",
        "Minnesota Vikings",
        "New England Patriots",
        "New Orleans Saints",
        "New York Giants",
        "New York Jets",
        "Oakland Raiders",
        "Philadelphia Eagles",
        "Phoenix Cardinals",
        "Pittsburgh Steelers",
        "San Diego Chargers",
        "San Francisco 49ers",
        "Seattle Seahawks",
        "St. Louis Cardinals",
        "St. Louis Rams",
        "Tampa Bay Buccaneers",
        "Tennessee Oilers",
        "Tennessee Titans",
        "Washington Redskins"
       ],
       "description": "NFL",
       "index": [
        1,
        5
       ],
       "layout": "IPY_MODEL_049cbdf779004bf7ac4485fb8cf4ce28",
       "rows": 5,
       "style": "IPY_MODEL_8f18883f1f2541d48a5617ee3b0a826f"
      }
     },
     "a2dcc30c176a44b0b7524cadaf37be09": {
      "model_module": "@jupyter-widgets/output",
      "model_module_version": "1.0.0",
      "model_name": "OutputModel",
      "state": {
       "layout": "IPY_MODEL_f8aeda892dac4476a62d4c012e486eb9"
      }
     },
     "a34acd6603044bed999ce0262ec5e984": {
      "model_module": "@jupyter-widgets/base",
      "model_module_version": "1.2.0",
      "model_name": "LayoutModel",
      "state": {}
     },
     "a476e2584f5043088bd0c705dbcf7093": {
      "model_module": "@jupyter-widgets/controls",
      "model_module_version": "1.5.0",
      "model_name": "DescriptionStyleModel",
      "state": {
       "description_width": ""
      }
     },
     "a519a9125292439981426b965d5f85ab": {
      "model_module": "@jupyter-widgets/base",
      "model_module_version": "1.2.0",
      "model_name": "LayoutModel",
      "state": {}
     },
     "a5747c5a477e452c81bdf14ab6988825": {
      "model_module": "@jupyter-widgets/controls",
      "model_module_version": "1.5.0",
      "model_name": "DescriptionStyleModel",
      "state": {
       "description_width": ""
      }
     },
     "a5da9dea43dd4c798bd966fbf8c08a59": {
      "model_module": "@jupyter-widgets/base",
      "model_module_version": "1.2.0",
      "model_name": "LayoutModel",
      "state": {}
     },
     "a63c2b048d6d479aba4fc3fb5fc9238f": {
      "model_module": "@jupyter-widgets/controls",
      "model_module_version": "1.5.0",
      "model_name": "DescriptionStyleModel",
      "state": {
       "description_width": ""
      }
     },
     "a75f4df2628147b7b1a6daf46e64059c": {
      "model_module": "@jupyter-widgets/controls",
      "model_module_version": "1.5.0",
      "model_name": "HTMLModel",
      "state": {
       "layout": "IPY_MODEL_b2f31a6972f04730b49659245a644b5d",
       "placeholder": "",
       "style": "IPY_MODEL_f12903b611614e37a36d71883b4e946d",
       "value": "<h4><center><b><u>Submit Input Values to Generate Team Win/Loss Records Over Time</u></b></center></h4><b><u>Select date range for results</u></b><br><ul><li>Select <b>Start Year</b> for the year data is to start. Select <b>End Year</b> for the year data is to end</li></ul>"
      }
     },
     "aad48434f6b9487b8e668e2f7ea3a6c9": {
      "model_module": "@jupyter-widgets/controls",
      "model_module_version": "1.5.0",
      "model_name": "VBoxModel",
      "state": {
       "_dom_classes": [
        "widget-interact"
       ],
       "children": [
        "IPY_MODEL_e2c24071e3c54b338ea61122ad759015",
        "IPY_MODEL_acbbdc42b15e45d18faa7556c6a374a4"
       ],
       "layout": "IPY_MODEL_334139c56e8b46ac9437a431301d37ae"
      }
     },
     "acbbdc42b15e45d18faa7556c6a374a4": {
      "model_module": "@jupyter-widgets/output",
      "model_module_version": "1.0.0",
      "model_name": "OutputModel",
      "state": {
       "layout": "IPY_MODEL_3f55c5d652c74e97b02844f3c38c31ce"
      }
     },
     "acc36e85187b4e2fb6f137f95340ddec": {
      "model_module": "@jupyter-widgets/output",
      "model_module_version": "1.0.0",
      "model_name": "OutputModel",
      "state": {
       "layout": "IPY_MODEL_234db7a567fd4aa399c463b3986f4fd1"
      }
     },
     "ad295525a1bb4210b6336ad678bed7a3": {
      "model_module": "@jupyter-widgets/output",
      "model_module_version": "1.0.0",
      "model_name": "OutputModel",
      "state": {
       "layout": "IPY_MODEL_08efd71560b54e95a193ec9fd9daad70",
       "outputs": [
        {
         "name": "stdout",
         "output_type": "stream",
         "text": "hola\n"
        },
        {
         "data": {
          "application/vnd.jupyter.widget-view+json": {
           "model_id": "",
           "version_major": 2,
           "version_minor": 0
          },
          "text/plain": "Canvas(toolbar=Toolbar(toolitems=[('Home', 'Reset original view', 'home', 'home'), ('Back', 'Back to previous …"
         },
         "metadata": {},
         "output_type": "display_data"
        },
        {
         "name": "stdout",
         "output_type": "stream",
         "text": "huh\naaa\n"
        }
       ]
      }
     },
     "ad43ed15d75b455fa42fdf1c8d44da6f": {
      "model_module": "@jupyter-widgets/controls",
      "model_module_version": "1.5.0",
      "model_name": "VBoxModel",
      "state": {
       "_dom_classes": [
        "widget-interact"
       ],
       "children": [
        "IPY_MODEL_7d004c3baef042cb8e4a0c5921b5ffe1",
        "IPY_MODEL_7868d36d244746999fbb11fed1b60483"
       ],
       "layout": "IPY_MODEL_16a4f136a46140f2a86a9e131ed29789"
      }
     },
     "ada52d9ad4e1471796b1df0da00a7e88": {
      "model_module": "@jupyter-widgets/controls",
      "model_module_version": "1.5.0",
      "model_name": "DescriptionStyleModel",
      "state": {
       "description_width": ""
      }
     },
     "b050e861e35041269cac5636090b2f9e": {
      "model_module": "@jupyter-widgets/controls",
      "model_module_version": "1.5.0",
      "model_name": "VBoxModel",
      "state": {
       "_dom_classes": [
        "widget-interact"
       ],
       "children": [
        "IPY_MODEL_49a0045d679745e38603598d88baf7c2",
        "IPY_MODEL_1792caabac5e4eeeaddff7a987943df5"
       ],
       "layout": "IPY_MODEL_a5da9dea43dd4c798bd966fbf8c08a59"
      }
     },
     "b2f31a6972f04730b49659245a644b5d": {
      "model_module": "@jupyter-widgets/base",
      "model_module_version": "1.2.0",
      "model_name": "LayoutModel",
      "state": {}
     },
     "b3e15073d4e84f5180c9830a23d10e2c": {
      "model_module": "@jupyter-widgets/controls",
      "model_module_version": "1.5.0",
      "model_name": "VBoxModel",
      "state": {
       "_dom_classes": [
        "widget-interact"
       ],
       "children": [
        "IPY_MODEL_f9998a0edd66431f8be3cbb09e53f01f",
        "IPY_MODEL_c7d971fe3dc2448ba08acaf23f834c7e"
       ],
       "layout": "IPY_MODEL_73cc8072a8d545be9c503ec2330584b7"
      }
     },
     "b3f49aa0b4b549228e75b5d596aad501": {
      "model_module": "@jupyter-widgets/controls",
      "model_module_version": "1.5.0",
      "model_name": "DropdownModel",
      "state": {
       "_options_labels": [
        "Choose",
        "1960",
        "1961",
        "1962",
        "1963",
        "1964",
        "1965",
        "1966",
        "1967",
        "1968",
        "1969",
        "1970",
        "1971",
        "1972",
        "1973",
        "1974",
        "1975",
        "1976",
        "1977",
        "1978",
        "1979",
        "1980",
        "1981",
        "1982",
        "1983",
        "1984",
        "1985",
        "1986",
        "1987",
        "1988",
        "1989",
        "1990",
        "1991",
        "1992",
        "1993",
        "1994",
        "1995",
        "1996",
        "1997",
        "1998",
        "1999",
        "2000",
        "2001",
        "2002",
        "2003",
        "2004",
        "2005",
        "2006",
        "2007",
        "2008",
        "2009",
        "2010",
        "2011",
        "2012",
        "2013",
        "2014",
        "2015",
        "2016",
        "2017",
        "2018",
        "2019"
       ],
       "description": "End Year:",
       "index": 30,
       "layout": "IPY_MODEL_f3b3342265c54f43b77b01ceec3a3ed3",
       "style": "IPY_MODEL_7acd4b75aa3647f59ab763def4b70880"
      }
     },
     "b45cdd4334eb472a875c41e5386a5ce0": {
      "model_module": "@jupyter-widgets/base",
      "model_module_version": "1.2.0",
      "model_name": "LayoutModel",
      "state": {}
     },
     "b47961d825794dfcab6a16f758a3b67a": {
      "model_module": "@jupyter-widgets/controls",
      "model_module_version": "1.5.0",
      "model_name": "DescriptionStyleModel",
      "state": {
       "description_width": ""
      }
     },
     "b516cb1e64cf47ddb053567099c8fd16": {
      "model_module": "@jupyter-widgets/base",
      "model_module_version": "1.2.0",
      "model_name": "LayoutModel",
      "state": {
       "height": "30px",
       "width": "500px"
      }
     },
     "b5dd5ffc52564262abf42c8238306f7d": {
      "model_module": "@jupyter-widgets/output",
      "model_module_version": "1.0.0",
      "model_name": "OutputModel",
      "state": {
       "layout": "IPY_MODEL_65416c631fd34e7ba83adaf21155c0ff"
      }
     },
     "b70d13fc65cf4bd98d8dee1e14d1b55c": {
      "model_module": "@jupyter-widgets/base",
      "model_module_version": "1.2.0",
      "model_name": "LayoutModel",
      "state": {}
     },
     "b7fe5cec3c98455683355b0039daf91f": {
      "model_module": "@jupyter-widgets/base",
      "model_module_version": "1.2.0",
      "model_name": "LayoutModel",
      "state": {}
     },
     "b8344c06802e445fa82c0c8a35652653": {
      "model_module": "@jupyter-widgets/base",
      "model_module_version": "1.2.0",
      "model_name": "LayoutModel",
      "state": {}
     },
     "b96a725fbd43470e93f67387c7e013de": {
      "model_module": "@jupyter-widgets/controls",
      "model_module_version": "1.5.0",
      "model_name": "HBoxModel",
      "state": {
       "children": [
        "IPY_MODEL_f708cbc4537c4b2dac644462f9431267",
        "IPY_MODEL_365838b08636448ca7077a20d397ef2e"
       ],
       "layout": "IPY_MODEL_396f3da886e644469739f44cb3d0b5c8"
      }
     },
     "bae25848a7194c63afd8e98e07e23d5c": {
      "model_module": "@jupyter-widgets/controls",
      "model_module_version": "1.5.0",
      "model_name": "VBoxModel",
      "state": {
       "_dom_classes": [
        "widget-interact"
       ],
       "children": [
        "IPY_MODEL_d9252dcaf57e412db91274522d135355",
        "IPY_MODEL_7115ebb6eba545abb3d66641bc02e25f"
       ],
       "layout": "IPY_MODEL_c5ac635ffb014d19baf9f57193d44741"
      }
     },
     "bcc0d321e93d4eed909eff7f52271d33": {
      "model_module": "@jupyter-widgets/controls",
      "model_module_version": "1.5.0",
      "model_name": "HBoxModel",
      "state": {
       "children": [
        "IPY_MODEL_f9998a0edd66431f8be3cbb09e53f01f",
        "IPY_MODEL_ff828b63ae0f45c8b8d529b4c0a841e8"
       ],
       "layout": "IPY_MODEL_f07ad50d0e7548b6b80ed1cc0211d984"
      }
     },
     "be1e843b32a74588b0e43bd7969d6788": {
      "model_module": "@jupyter-widgets/controls",
      "model_module_version": "1.5.0",
      "model_name": "DescriptionStyleModel",
      "state": {
       "description_width": ""
      }
     },
     "bf6fcdecfda14bb096487bba0d4a8f0b": {
      "model_module": "@jupyter-widgets/base",
      "model_module_version": "1.2.0",
      "model_name": "LayoutModel",
      "state": {}
     },
     "c03bf106b5794eada88e78a951a1ddf7": {
      "model_module": "@jupyter-widgets/output",
      "model_module_version": "1.0.0",
      "model_name": "OutputModel",
      "state": {
       "layout": "IPY_MODEL_edfcf35458ac447b923721faee82c439"
      }
     },
     "c1c3a1fd1fb24ce4946ec3c7ccbfd24f": {
      "model_module": "@jupyter-widgets/base",
      "model_module_version": "1.2.0",
      "model_name": "LayoutModel",
      "state": {}
     },
     "c3619d8c95fb45c999651bfaeac21a1b": {
      "model_module": "@jupyter-widgets/controls",
      "model_module_version": "1.5.0",
      "model_name": "SelectMultipleModel",
      "state": {
       "_options_labels": [
        "Arizona Cardinals",
        "Atlanta Falcons",
        "Baltimore Colts",
        "Baltimore Ravens",
        "Boston Patriots",
        "Buffalo Bills",
        "Carolina Panthers",
        "Chicago Bears",
        "Cincinnati Bengals",
        "Cleveland Browns",
        "Dallas Cowboys",
        "Detroit Lions",
        "Green Bay Packers",
        "Houston Oilers",
        "Houston Texans",
        "Indianapolis Colts",
        "Jacksonville Jaguars",
        "Kansas City Chiefs",
        "Los Angeles Chargers",
        "Los Angeles Raiders",
        "Los Angeles Rams",
        "Miami Dolphins",
        "Minnesota Vikings",
        "New England Patriots",
        "New Orleans Saints",
        "New York Giants",
        "New York Jets",
        "Oakland Raiders",
        "Philadelphia Eagles",
        "Phoenix Cardinals",
        "Pittsburgh Steelers",
        "San Diego Chargers",
        "San Francisco 49ers",
        "Seattle Seahawks",
        "St. Louis Cardinals",
        "St. Louis Rams",
        "Tampa Bay Buccaneers",
        "Tennessee Oilers",
        "Tennessee Titans",
        "Washington Redskins"
       ],
       "description": "NFL",
       "index": [
        0,
        5
       ],
       "layout": "IPY_MODEL_83cc8ff452604c5ba1d92efc680a0058",
       "rows": 5,
       "style": "IPY_MODEL_51a99f033afa4585a2cf5f32d23c2bb6"
      }
     },
     "c468cecdaaa04fcf9248871f738f3570": {
      "model_module": "@jupyter-widgets/base",
      "model_module_version": "1.2.0",
      "model_name": "LayoutModel",
      "state": {}
     },
     "c507abd4f4c94d35ad0177cd4e940bfc": {
      "model_module": "@jupyter-widgets/base",
      "model_module_version": "1.2.0",
      "model_name": "LayoutModel",
      "state": {}
     },
     "c5ac635ffb014d19baf9f57193d44741": {
      "model_module": "@jupyter-widgets/base",
      "model_module_version": "1.2.0",
      "model_name": "LayoutModel",
      "state": {}
     },
     "c6e610336f444a819d20ba113b39e19f": {
      "model_module": "@jupyter-widgets/controls",
      "model_module_version": "1.5.0",
      "model_name": "VBoxModel",
      "state": {
       "_dom_classes": [
        "widget-interact"
       ],
       "children": [
        "IPY_MODEL_129cb0f4afee4fee8d8e6d6274d4bdf6",
        "IPY_MODEL_c90951f6ff314772afe0f6eb23f6595e"
       ],
       "layout": "IPY_MODEL_b70d13fc65cf4bd98d8dee1e14d1b55c"
      }
     },
     "c6fda97ec06242cea27d8e2371eedbb5": {
      "model_module": "@jupyter-widgets/controls",
      "model_module_version": "1.5.0",
      "model_name": "VBoxModel",
      "state": {
       "_dom_classes": [
        "widget-interact"
       ],
       "children": [
        "IPY_MODEL_c3619d8c95fb45c999651bfaeac21a1b",
        "IPY_MODEL_224023c287ad4d35b24dfb5bb7b7d082"
       ],
       "layout": "IPY_MODEL_cbeb74d46b814fe69d9859622fd81bd7"
      }
     },
     "c74485bd30174669a6c4a83c87aa9338": {
      "model_module": "@jupyter-widgets/base",
      "model_module_version": "1.2.0",
      "model_name": "LayoutModel",
      "state": {}
     },
     "c747d08fa6e04e319a934ebeefeefc4a": {
      "model_module": "@jupyter-widgets/base",
      "model_module_version": "1.2.0",
      "model_name": "LayoutModel",
      "state": {}
     },
     "c7812670efdd4cf78d42227e4c86f700": {
      "model_module": "@jupyter-widgets/controls",
      "model_module_version": "1.5.0",
      "model_name": "HTMLModel",
      "state": {
       "layout": "IPY_MODEL_8c6f377aa78b4a1b80c7faec70fd0004",
       "placeholder": "",
       "style": "IPY_MODEL_52a67a8decfa4a49afb5b124a15c8b60",
       "value": "<b><u>Click 'Run Chart' button to display result!</u></b><ul><li>Animation will play in the <b>next</b> cell. (Hit 'Play' button to start after first frame loads)</li><li>If no animation was chosen, static chart will show in this cell.</li></ul>"
      }
     },
     "c7d971fe3dc2448ba08acaf23f834c7e": {
      "model_module": "@jupyter-widgets/output",
      "model_module_version": "1.0.0",
      "model_name": "OutputModel",
      "state": {
       "layout": "IPY_MODEL_e4aa8bcdf0834dabaa736980f30071d8"
      }
     },
     "c7ec982875974c149e4f6476ebf53357": {
      "model_module": "@jupyter-widgets/controls",
      "model_module_version": "1.5.0",
      "model_name": "DescriptionStyleModel",
      "state": {
       "description_width": ""
      }
     },
     "c89abb8e5c0e4591aba83ecc837b9be3": {
      "model_module": "@jupyter-widgets/controls",
      "model_module_version": "1.5.0",
      "model_name": "VBoxModel",
      "state": {
       "_dom_classes": [
        "widget-interact"
       ],
       "children": [
        "IPY_MODEL_2710ffa2d08e4e1790138c068a4a9ed1",
        "IPY_MODEL_ffbb68c7777f467988bb30255f514e69"
       ],
       "layout": "IPY_MODEL_1fac98d4629641ac9e85d953383c3839"
      }
     },
     "c8bda34d134e456298d98d97e5e09e72": {
      "model_module": "@jupyter-widgets/base",
      "model_module_version": "1.2.0",
      "model_name": "LayoutModel",
      "state": {
       "height": "100px",
       "width": "350px"
      }
     },
     "c90951f6ff314772afe0f6eb23f6595e": {
      "model_module": "@jupyter-widgets/output",
      "model_module_version": "1.0.0",
      "model_name": "OutputModel",
      "state": {
       "layout": "IPY_MODEL_8df8366490f04cbb84e343645907f080"
      }
     },
     "cb16b1b80ac440e4a236a93ae81a7229": {
      "model_module": "@jupyter-widgets/base",
      "model_module_version": "1.2.0",
      "model_name": "LayoutModel",
      "state": {}
     },
     "cb9fe751d1f4423fbb6ac11767955f63": {
      "model_module": "@jupyter-widgets/controls",
      "model_module_version": "1.5.0",
      "model_name": "DescriptionStyleModel",
      "state": {
       "description_width": ""
      }
     },
     "cbeb74d46b814fe69d9859622fd81bd7": {
      "model_module": "@jupyter-widgets/base",
      "model_module_version": "1.2.0",
      "model_name": "LayoutModel",
      "state": {}
     },
     "ce93a3c8e79c4e7899616074fbcec67b": {
      "model_module": "@jupyter-widgets/base",
      "model_module_version": "1.2.0",
      "model_name": "LayoutModel",
      "state": {}
     },
     "cfeb5fb184734d6a8796b1a62197d383": {
      "model_module": "@jupyter-widgets/base",
      "model_module_version": "1.2.0",
      "model_name": "LayoutModel",
      "state": {}
     },
     "d0766df1952f4745bf3f2f5a78c28a4b": {
      "model_module": "@jupyter-widgets/controls",
      "model_module_version": "1.5.0",
      "model_name": "CheckboxModel",
      "state": {
       "description": "Show Result",
       "disabled": false,
       "indent": false,
       "layout": "IPY_MODEL_b516cb1e64cf47ddb053567099c8fd16",
       "style": "IPY_MODEL_f1033df4bb8b404f8f6ab717d49e6b08",
       "value": true
      }
     },
     "d2ade4325d50493e9b3e34cfccf4ce54": {
      "model_module": "@jupyter-widgets/output",
      "model_module_version": "1.0.0",
      "model_name": "OutputModel",
      "state": {
       "layout": "IPY_MODEL_6ca6385ff7c24f438c6d9b361880b3cf"
      }
     },
     "d52ee9fe3924490f8fa0a2a05757e4ec": {
      "model_module": "@jupyter-widgets/controls",
      "model_module_version": "1.5.0",
      "model_name": "VBoxModel",
      "state": {
       "_dom_classes": [
        "widget-interact"
       ],
       "children": [
        "IPY_MODEL_ff3462d2ff234051b8c261b0648863ff",
        "IPY_MODEL_986255bcc86046c98e8e30a193db0b3c"
       ],
       "layout": "IPY_MODEL_932a9cb059664ee3915d21c911a6afcc"
      }
     },
     "d5323bb8794e426aa2724906ba320bdf": {
      "model_module": "@jupyter-widgets/controls",
      "model_module_version": "1.5.0",
      "model_name": "DescriptionStyleModel",
      "state": {
       "description_width": ""
      }
     },
     "d6cad87c6bcb42b38960280af9458316": {
      "model_module": "@jupyter-widgets/base",
      "model_module_version": "1.2.0",
      "model_name": "LayoutModel",
      "state": {}
     },
     "d9252dcaf57e412db91274522d135355": {
      "model_module": "@jupyter-widgets/controls",
      "model_module_version": "1.5.0",
      "model_name": "RadioButtonsModel",
      "state": {
       "_options_labels": [
        "Slow",
        "Medium",
        "Fast",
        "Very Fast"
       ],
       "description": "AnimSpeed:",
       "index": 1,
       "layout": "IPY_MODEL_e52d60f7553642c585bcb11bd99b0434",
       "style": "IPY_MODEL_844da48fd79148e487053ac91d2c97df"
      }
     },
     "d9807bd066204bf6870823b6fd919a94": {
      "model_module": "@jupyter-widgets/output",
      "model_module_version": "1.0.0",
      "model_name": "OutputModel",
      "state": {
       "layout": "IPY_MODEL_1bba46be05c14778b6c3af30e3d5a32e"
      }
     },
     "daee9d0da7fe418eb3ce6a114f51ab74": {
      "model_module": "@jupyter-widgets/base",
      "model_module_version": "1.2.0",
      "model_name": "LayoutModel",
      "state": {}
     },
     "daff8e1b591d4e6d863a013bc1f82169": {
      "model_module": "@jupyter-widgets/controls",
      "model_module_version": "1.5.0",
      "model_name": "DescriptionStyleModel",
      "state": {
       "description_width": ""
      }
     },
     "dbf857cbf4f64a238896bb0084244d8b": {
      "model_module": "@jupyter-widgets/controls",
      "model_module_version": "1.5.0",
      "model_name": "VBoxModel",
      "state": {
       "_dom_classes": [
        "widget-interact"
       ],
       "children": [
        "IPY_MODEL_800293945c204ac2a6369d63f0e85d49",
        "IPY_MODEL_c03bf106b5794eada88e78a951a1ddf7"
       ],
       "layout": "IPY_MODEL_34f6ea174bf84d6f8ad11cad653ecf06"
      }
     },
     "dccd1099cca148bab7eeac1a6e8b3f73": {
      "model_module": "@jupyter-widgets/base",
      "model_module_version": "1.2.0",
      "model_name": "LayoutModel",
      "state": {
       "width": "220px"
      }
     },
     "de1194a5b3974ff2ad8d314a893582d4": {
      "model_module": "@jupyter-widgets/controls",
      "model_module_version": "1.5.0",
      "model_name": "SelectMultipleModel",
      "state": {
       "_options_labels": [
        "Atlanta Hawks",
        "Boston Celtics",
        "Brooklyn Nets",
        "Charlotte Bobcats",
        "Charlotte Hornets",
        "Chicago Bulls",
        "Cleveland Cavaliers",
        "Dallas Mavericks",
        "Denver Nuggets",
        "Detroit Pistons",
        "Golden State Warriors",
        "Houston Rockets",
        "Indiana Pacers",
        "Los Angeles Clippers",
        "Los Angeles Lakers",
        "Memphis Grizzlies",
        "Miami Heat",
        "Milwaukee Bucks",
        "Minnesota Timberwolves",
        "New Jersey Nets",
        "New Orleans Hornets",
        "New Orleans Jazz",
        "New Orleans Pelicans",
        "New Orleans/Oklahoma City Hornets",
        "New York Knicks",
        "New York Nets",
        "Oklahoma City Thunder",
        "Orlando Magic",
        "Philadelphia 76ers",
        "Phoenix Suns",
        "Portland Trail Blazers",
        "Sacramento Kings",
        "San Antonio Spurs",
        "Seattle SuperSonics",
        "Toronto Raptors",
        "Utah Jazz",
        "Vancouver Grizzlies",
        "Washington Bullets",
        "Washington Wizards"
       ],
       "description": "NBA",
       "index": [],
       "layout": "IPY_MODEL_66e21f78c040411a9003cad945db65d6",
       "rows": 5,
       "style": "IPY_MODEL_80af32c30bf841b4932c796429123b55"
      }
     },
     "e05fb8f64b52453fb16223cde754d1cf": {
      "model_module": "@jupyter-widgets/controls",
      "model_module_version": "1.5.0",
      "model_name": "DescriptionStyleModel",
      "state": {
       "description_width": ""
      }
     },
     "e12de55f199c4e269bd499bbeab4b14b": {
      "model_module": "@jupyter-widgets/base",
      "model_module_version": "1.2.0",
      "model_name": "LayoutModel",
      "state": {}
     },
     "e229ead4ce864afe98a99ad286f3e16a": {
      "model_module": "@jupyter-widgets/controls",
      "model_module_version": "1.5.0",
      "model_name": "VBoxModel",
      "state": {
       "_dom_classes": [
        "widget-interact"
       ],
       "children": [
        "IPY_MODEL_60e863b5f2154327a3470fca41d77fa4",
        "IPY_MODEL_61bc471084ca42c4a99eea7e1ebf7a33"
       ],
       "layout": "IPY_MODEL_1379c44bbec14de7bb3335d44e9e8763"
      }
     },
     "e2c24071e3c54b338ea61122ad759015": {
      "model_module": "@jupyter-widgets/controls",
      "model_module_version": "1.5.0",
      "model_name": "CheckboxModel",
      "state": {
       "description": "No animation (show only final result)",
       "disabled": false,
       "layout": "IPY_MODEL_7a4228430f6a4f129ff55d14b6cf173f",
       "style": "IPY_MODEL_4785eeb666a94d0095666d81590ab595",
       "value": false
      }
     },
     "e4aa8bcdf0834dabaa736980f30071d8": {
      "model_module": "@jupyter-widgets/base",
      "model_module_version": "1.2.0",
      "model_name": "LayoutModel",
      "state": {}
     },
     "e52d60f7553642c585bcb11bd99b0434": {
      "model_module": "@jupyter-widgets/base",
      "model_module_version": "1.2.0",
      "model_name": "LayoutModel",
      "state": {}
     },
     "e5544b2785d14ac5a927aba7b23f2ddc": {
      "model_module": "@jupyter-widgets/base",
      "model_module_version": "1.2.0",
      "model_name": "LayoutModel",
      "state": {}
     },
     "e58b61ffbebf48b7b70f9777647c0016": {
      "model_module": "@jupyter-widgets/base",
      "model_module_version": "1.2.0",
      "model_name": "LayoutModel",
      "state": {}
     },
     "e5f136c3594f4cf5afb03b1600285f3c": {
      "model_module": "@jupyter-widgets/controls",
      "model_module_version": "1.5.0",
      "model_name": "DescriptionStyleModel",
      "state": {
       "description_width": ""
      }
     },
     "e62cb93121454eaf9f4d0c270f678829": {
      "model_module": "@jupyter-widgets/base",
      "model_module_version": "1.2.0",
      "model_name": "LayoutModel",
      "state": {
       "height": "30px",
       "width": "500px"
      }
     },
     "e664cb950ee0493da4c893255bebee40": {
      "model_module": "@jupyter-widgets/base",
      "model_module_version": "1.2.0",
      "model_name": "LayoutModel",
      "state": {
       "height": "100px",
       "width": "350px"
      }
     },
     "e696ada470bf454093269af5fe1ef986": {
      "model_module": "@jupyter-widgets/base",
      "model_module_version": "1.2.0",
      "model_name": "LayoutModel",
      "state": {}
     },
     "e742aa2dab094915a8bdc611d347820f": {
      "model_module": "@jupyter-widgets/base",
      "model_module_version": "1.2.0",
      "model_name": "LayoutModel",
      "state": {}
     },
     "e7c64d3980db42b0a12fe618bbe237f0": {
      "model_module": "@jupyter-widgets/output",
      "model_module_version": "1.0.0",
      "model_name": "OutputModel",
      "state": {
       "layout": "IPY_MODEL_e5544b2785d14ac5a927aba7b23f2ddc"
      }
     },
     "e9cf726c10ac47bcabc81b43559f1af1": {
      "model_module": "@jupyter-widgets/base",
      "model_module_version": "1.2.0",
      "model_name": "LayoutModel",
      "state": {}
     },
     "ebdd2ff1b1654be2a8c3f5ed326ed4c4": {
      "model_module": "@jupyter-widgets/controls",
      "model_module_version": "1.5.0",
      "model_name": "DescriptionStyleModel",
      "state": {
       "description_width": ""
      }
     },
     "ecde6f44502b447baa27628d67ab1475": {
      "model_module": "@jupyter-widgets/controls",
      "model_module_version": "1.5.0",
      "model_name": "VBoxModel",
      "state": {
       "_dom_classes": [
        "widget-interact"
       ],
       "children": [
        "IPY_MODEL_13e88af6ace1446d914cbc1516f50638",
        "IPY_MODEL_d2ade4325d50493e9b3e34cfccf4ce54"
       ],
       "layout": "IPY_MODEL_bf6fcdecfda14bb096487bba0d4a8f0b"
      }
     },
     "ede7350707d243979b3d87ab5e95420c": {
      "model_module": "@jupyter-widgets/controls",
      "model_module_version": "1.5.0",
      "model_name": "HTMLModel",
      "state": {
       "layout": "IPY_MODEL_154bbf03c76d4762acf1fb64c995d546",
       "placeholder": "",
       "style": "IPY_MODEL_a1a92a4988244341bdb7f4b9c9b1114c",
       "value": "<b><u>Choose desired teams to compare in NFL, NFL, MLB, or NCAA Football (only select values in one sport)</u></b><br><ul><li>For comparing specific individual teams, select at least 2 teams (hold down Control to select/deselect)</li><li>To run for a conference (or league) instead of specific individual teams, select a single value in the League/conf list</li><li><b>Note: </b>The 'League/conf' list overrides selected values in the team lists. To run for individual teams, ensure 'None' is selected in 'League/conf' list</li></ul>"
      }
     },
     "edfcf35458ac447b923721faee82c439": {
      "model_module": "@jupyter-widgets/base",
      "model_module_version": "1.2.0",
      "model_name": "LayoutModel",
      "state": {}
     },
     "ef499f73ac304067b590c8f3c52c1954": {
      "model_module": "@jupyter-widgets/controls",
      "model_module_version": "1.5.0",
      "model_name": "DescriptionStyleModel",
      "state": {
       "description_width": ""
      }
     },
     "f07ad50d0e7548b6b80ed1cc0211d984": {
      "model_module": "@jupyter-widgets/base",
      "model_module_version": "1.2.0",
      "model_name": "LayoutModel",
      "state": {}
     },
     "f1033df4bb8b404f8f6ab717d49e6b08": {
      "model_module": "@jupyter-widgets/controls",
      "model_module_version": "1.5.0",
      "model_name": "DescriptionStyleModel",
      "state": {
       "description_width": ""
      }
     },
     "f12903b611614e37a36d71883b4e946d": {
      "model_module": "@jupyter-widgets/controls",
      "model_module_version": "1.5.0",
      "model_name": "DescriptionStyleModel",
      "state": {
       "description_width": ""
      }
     },
     "f3b3342265c54f43b77b01ceec3a3ed3": {
      "model_module": "@jupyter-widgets/base",
      "model_module_version": "1.2.0",
      "model_name": "LayoutModel",
      "state": {}
     },
     "f5717702c8ea4b2c9b15dcebd3a90ed4": {
      "model_module": "@jupyter-widgets/controls",
      "model_module_version": "1.5.0",
      "model_name": "DescriptionStyleModel",
      "state": {
       "description_width": ""
      }
     },
     "f5f776de8a274505920788e7a3e03644": {
      "model_module": "@jupyter-widgets/controls",
      "model_module_version": "1.5.0",
      "model_name": "VBoxModel",
      "state": {
       "_dom_classes": [
        "widget-interact"
       ],
       "children": [
        "IPY_MODEL_365838b08636448ca7077a20d397ef2e",
        "IPY_MODEL_105095f3cf0b483ab7130bf92f58619f"
       ],
       "layout": "IPY_MODEL_77f5cf22fc4e45aca901a82783b393a7"
      }
     },
     "f64d8415ca7f47ffa266ba160b4b2425": {
      "model_module": "@jupyter-widgets/base",
      "model_module_version": "1.2.0",
      "model_name": "LayoutModel",
      "state": {}
     },
     "f708cbc4537c4b2dac644462f9431267": {
      "model_module": "@jupyter-widgets/controls",
      "model_module_version": "1.5.0",
      "model_name": "DropdownModel",
      "state": {
       "_options_labels": [
        "Choose",
        "1960",
        "1961",
        "1962",
        "1963",
        "1964",
        "1965",
        "1966",
        "1967",
        "1968",
        "1969",
        "1970",
        "1971",
        "1972",
        "1973",
        "1974",
        "1975",
        "1976",
        "1977",
        "1978",
        "1979",
        "1980",
        "1981",
        "1982",
        "1983",
        "1984",
        "1985",
        "1986",
        "1987",
        "1988",
        "1989",
        "1990",
        "1991",
        "1992",
        "1993",
        "1994",
        "1995",
        "1996",
        "1997",
        "1998",
        "1999",
        "2000",
        "2001",
        "2002",
        "2003",
        "2004",
        "2005",
        "2006",
        "2007",
        "2008",
        "2009",
        "2010",
        "2011",
        "2012",
        "2013",
        "2014",
        "2015",
        "2016",
        "2017",
        "2018",
        "2019"
       ],
       "description": "Start Year:",
       "index": 33,
       "layout": "IPY_MODEL_c507abd4f4c94d35ad0177cd4e940bfc",
       "style": "IPY_MODEL_f5717702c8ea4b2c9b15dcebd3a90ed4"
      }
     },
     "f716bf23e789440d863513b2813922cd": {
      "model_module": "@jupyter-widgets/base",
      "model_module_version": "1.2.0",
      "model_name": "LayoutModel",
      "state": {}
     },
     "f770505e49f54782aabf5fc449f306f5": {
      "model_module": "@jupyter-widgets/base",
      "model_module_version": "1.2.0",
      "model_name": "LayoutModel",
      "state": {}
     },
     "f888e4a2038e40768aee34cd39506181": {
      "model_module": "@jupyter-widgets/controls",
      "model_module_version": "1.5.0",
      "model_name": "CheckboxModel",
      "state": {
       "description": "No animation (show only final result)",
       "disabled": false,
       "layout": "IPY_MODEL_e62cb93121454eaf9f4d0c270f678829",
       "style": "IPY_MODEL_d5323bb8794e426aa2724906ba320bdf",
       "value": false
      }
     },
     "f8aeda892dac4476a62d4c012e486eb9": {
      "model_module": "@jupyter-widgets/base",
      "model_module_version": "1.2.0",
      "model_name": "LayoutModel",
      "state": {}
     },
     "f94ea16ce1b942f28343a8ca244431ad": {
      "model_module": "@jupyter-widgets/controls",
      "model_module_version": "1.5.0",
      "model_name": "DescriptionStyleModel",
      "state": {
       "description_width": ""
      }
     },
     "f9998a0edd66431f8be3cbb09e53f01f": {
      "model_module": "@jupyter-widgets/controls",
      "model_module_version": "1.5.0",
      "model_name": "DropdownModel",
      "state": {
       "_options_labels": [
        "Choose",
        "1960",
        "1961",
        "1962",
        "1963",
        "1964",
        "1965",
        "1966",
        "1967",
        "1968",
        "1969",
        "1970",
        "1971",
        "1972",
        "1973",
        "1974",
        "1975",
        "1976",
        "1977",
        "1978",
        "1979",
        "1980",
        "1981",
        "1982",
        "1983",
        "1984",
        "1985",
        "1986",
        "1987",
        "1988",
        "1989",
        "1990",
        "1991",
        "1992",
        "1993",
        "1994",
        "1995",
        "1996",
        "1997",
        "1998",
        "1999",
        "2000",
        "2001",
        "2002",
        "2003",
        "2004",
        "2005",
        "2006",
        "2007",
        "2008",
        "2009",
        "2010",
        "2011",
        "2012",
        "2013",
        "2014",
        "2015",
        "2016",
        "2017",
        "2018",
        "2019"
       ],
       "description": "Start Year:",
       "index": 21,
       "layout": "IPY_MODEL_804d49c18b684f3bbc9f3f72801c2e07",
       "style": "IPY_MODEL_e5f136c3594f4cf5afb03b1600285f3c"
      }
     },
     "f9d8d2af20a746e7b8b2274984943c70": {
      "model_module": "@jupyter-widgets/base",
      "model_module_version": "1.2.0",
      "model_name": "LayoutModel",
      "state": {}
     },
     "fae5ae7403c2488baa792464ad2b164d": {
      "model_module": "@jupyter-widgets/base",
      "model_module_version": "1.2.0",
      "model_name": "LayoutModel",
      "state": {
       "height": "100px",
       "width": "350px"
      }
     },
     "feeb95f147f5461d979332a378187189": {
      "model_module": "@jupyter-widgets/controls",
      "model_module_version": "1.5.0",
      "model_name": "HBoxModel",
      "state": {
       "children": [
        "IPY_MODEL_a28162b793754aa38e26ce1f88eea7ad",
        "IPY_MODEL_2710ffa2d08e4e1790138c068a4a9ed1"
       ],
       "layout": "IPY_MODEL_74b3262da2c94eb3a68ca57dbe22ec0b"
      }
     },
     "fef90e19f3fb41189f087b583520b75d": {
      "model_module": "@jupyter-widgets/controls",
      "model_module_version": "1.5.0",
      "model_name": "DescriptionStyleModel",
      "state": {
       "description_width": ""
      }
     },
     "ff3462d2ff234051b8c261b0648863ff": {
      "model_module": "@jupyter-widgets/controls",
      "model_module_version": "1.5.0",
      "model_name": "SelectMultipleModel",
      "state": {
       "_options_labels": [
        "Air Force Falcons",
        "Alabama Crimson Tide",
        "Arizona State Sun Devils",
        "Arizona Wildcats",
        "Arkansas Razorbacks",
        "Army Black Knights",
        "Auburn Tigers",
        "Baylor Bears",
        "Boise State Broncos",
        "Boston College Eagles",
        "B Y U Cougars",
        "California Golden Bears",
        "Central Florida Knights",
        "Cincinnati Bearkats",
        "Clemson Tigers",
        "Colorado Buffaloes",
        "Colorado State Rams",
        "Connecticut Huskies",
        "Duke Blue Devils",
        "East Carolina",
        "Florida Gators",
        "Florida State Seminoles",
        "Fresno State Bulldogs",
        "Georgia Bulldogs",
        "Georgia Tech Yellow Jackets",
        "Hawaii Rainbow Warriors",
        "Houston Cougars",
        "Illinois Fighing Illini",
        "Indiana Hoosiers",
        "Iowa Hawkeyes",
        "Iowa State Cyclones",
        "Kansas Jayhawks",
        "Kansas State Wildcats",
        "Kentucky Wildcats",
        "Louisville Cardinals",
        "LSU Tigers",
        "Maryland Terrapins",
        "Memphis Tigers",
        "Miami Hurricanes",
        "Michigan State Spartans",
        "Michigan Wolverines",
        "Minnesota Golden Gophers",
        "Mississippi State Bulldogs",
        "Missouri Tigers",
        "Navy Midshipmen",
        "NC State",
        "Nebraska Cornhuskers",
        "Nevada Wolf Pack",
        "New Mexico Lobos",
        "New Mexico State Aggies",
        "North Carolina Tarheels",
        "Northwestern Wildcats",
        "Notre Dame Fighting Irish",
        "Ohio State Buckeyes",
        "Oklahoma Sooners",
        "Oklahoma State Cowboys",
        "Ole Miss Rebels",
        "Oregon Ducks",
        "Oregon State Beavers",
        "Penn State Nittany Lions",
        "Pittsburgh Panthers",
        "Purdue Boilermakers",
        "Rutgers Scarlet Knights",
        "San Diego State Aztecs",
        "San Jose State Spartans",
        "SMU Mustangs",
        "South Carolina Gamecocks",
        "South Florida Bulls",
        "Stanford Cardinal",
        "Syracuse Orange",
        "TCU Horned Frogs",
        "Temple Owls",
        "Tennessee Volunteers",
        "Texas A&M Aggies",
        "Texas Longhorns",
        "Texas Tech Red Raiders",
        "Tulane Green Wave",
        "Tulsa Golden Hurricane",
        "UCLA Bruins",
        "UNLV Rebels",
        "USC Trojans",
        "Utah State Aggies",
        "Utah Utes",
        "Vanderbilt Commodores",
        "Virginia Cavaliers",
        "Virginia Tech Hokies",
        "Wake Forest Demon Deacons",
        "Washington Huskies",
        "Washington State Cougars",
        "West Virginia Mountaineers",
        "Wisconsin Badgers",
        "Wyoming Cowboys"
       ],
       "description": "NCAAF",
       "index": [],
       "layout": "IPY_MODEL_021dbfec8ff24c6a8c3270e8ba6545b1",
       "rows": 5,
       "style": "IPY_MODEL_ada52d9ad4e1471796b1df0da00a7e88"
      }
     },
     "ff646abe09e14a208991fed1366180e0": {
      "model_module": "@jupyter-widgets/base",
      "model_module_version": "1.2.0",
      "model_name": "LayoutModel",
      "state": {}
     },
     "ff828b63ae0f45c8b8d529b4c0a841e8": {
      "model_module": "@jupyter-widgets/controls",
      "model_module_version": "1.5.0",
      "model_name": "DropdownModel",
      "state": {
       "_options_labels": [
        "Choose",
        "1960",
        "1961",
        "1962",
        "1963",
        "1964",
        "1965",
        "1966",
        "1967",
        "1968",
        "1969",
        "1970",
        "1971",
        "1972",
        "1973",
        "1974",
        "1975",
        "1976",
        "1977",
        "1978",
        "1979",
        "1980",
        "1981",
        "1982",
        "1983",
        "1984",
        "1985",
        "1986",
        "1987",
        "1988",
        "1989",
        "1990",
        "1991",
        "1992",
        "1993",
        "1994",
        "1995",
        "1996",
        "1997",
        "1998",
        "1999",
        "2000",
        "2001",
        "2002",
        "2003",
        "2004",
        "2005",
        "2006",
        "2007",
        "2008",
        "2009",
        "2010",
        "2011",
        "2012",
        "2013",
        "2014",
        "2015",
        "2016",
        "2017",
        "2018",
        "2019"
       ],
       "description": "End Year:",
       "index": 31,
       "layout": "IPY_MODEL_cfeb5fb184734d6a8796b1a62197d383",
       "style": "IPY_MODEL_8396ce2cead74e2fb2f5f7c9314a02ca"
      }
     },
     "ffbb68c7777f467988bb30255f514e69": {
      "model_module": "@jupyter-widgets/output",
      "model_module_version": "1.0.0",
      "model_name": "OutputModel",
      "state": {
       "layout": "IPY_MODEL_37942b761f50493480be4bb7063b356c"
      }
     }
    },
    "version_major": 2,
    "version_minor": 0
   }
  }
 },
 "nbformat": 4,
 "nbformat_minor": 4
}
