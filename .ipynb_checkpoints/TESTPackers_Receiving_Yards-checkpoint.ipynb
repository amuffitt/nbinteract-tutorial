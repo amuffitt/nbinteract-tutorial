{
 "cells": [
  {
   "cell_type": "markdown",
   "metadata": {},
   "source": [
    "# Green Bay Packers Career Receiving Yards Leaders by Year\n",
    "<img src=\"Packerlogo.png\" align='left' width=\"200\" length=\"200\" />"
   ]
  },
  {
   "cell_type": "code",
   "execution_count": null,
   "metadata": {},
   "outputs": [],
   "source": [
    "#import libraries\n",
    "import pandas as pd\n",
    "import numpy as np\n",
    "import matplotlib as mpl\n",
    "import matplotlib.pyplot as plt\n",
    "import matplotlib.animation as animation\n",
    "from IPython.display import HTML\n",
    "import matplotlib.colors as mc\n",
    "import colorsys\n",
    "from random import randint\n",
    "import re\n",
    "%matplotlib inline"
   ]
  },
  {
   "cell_type": "code",
   "execution_count": null,
   "metadata": {},
   "outputs": [],
   "source": [
    "#import the file into Python \n",
    "rec_yds=pd.read_excel('Packers_Top_ReceivingYds.xlsx')"
   ]
  },
  {
   "cell_type": "code",
   "execution_count": null,
   "metadata": {},
   "outputs": [],
   "source": [
    "rec_yds"
   ]
  },
  {
   "cell_type": "code",
   "execution_count": null,
   "metadata": {},
   "outputs": [],
   "source": [
    "rec_yds.info()"
   ]
  },
  {
   "cell_type": "code",
   "execution_count": null,
   "metadata": {},
   "outputs": [],
   "source": [
    "#sort values in desc order by year and yards\n",
    "rec_yds=rec_yds.sort_values(by=['Year','Receiving Yards'], ascending=False)"
   ]
  },
  {
   "cell_type": "code",
   "execution_count": null,
   "metadata": {},
   "outputs": [],
   "source": [
    "#variable to set the desired year to show\n",
    "year=2019"
   ]
  },
  {
   "cell_type": "code",
   "execution_count": null,
   "metadata": {},
   "outputs": [],
   "source": [
    "#create new dataframe containing single year as indicated by 'year' variable\n",
    "rec_yds_year=rec_yds[rec_yds['Year'].eq(year)]"
   ]
  },
  {
   "cell_type": "code",
   "execution_count": null,
   "metadata": {},
   "outputs": [],
   "source": [
    "rec_yds_year"
   ]
  },
  {
   "cell_type": "code",
   "execution_count": null,
   "metadata": {},
   "outputs": [],
   "source": [
    "fig, ax = plt.subplots(figsize=(25, 15))\n",
    "#horizontal bar graph of player and yards\n",
    "ax.barh(rec_yds_year['Player'], rec_yds_year['Receiving Yards'])\n",
    "#loop to put text of yards total after the bar\n",
    "for i, (total, Player) in enumerate(zip(rec_yds_year['Receiving Yards'], rec_yds_year['Player'])):\n",
    "    ax.text(total, i,   total, ha='left', color = 'black', size = 12)\n",
    "#Putting a bigger year label on the right of graph to make it more obvious what year the data is showing\n",
    "ax.text(1, 0.4, year, transform=ax.transAxes, size=50, ha='right')\n",
    "ax.set_title('Top 10 Career Packers Receiving Yards Leaders in' + ' ' + str(year))"
   ]
  },
  {
   "cell_type": "code",
   "execution_count": null,
   "metadata": {},
   "outputs": [],
   "source": [
    "fig, ax = plt.subplots(figsize=(25, 15))\n",
    "#create function to draw bar chart and pass year variable as argument\n",
    "def draw_barchart(year):\n",
    "    rec_yds_year=rec_yds[rec_yds['Year'].eq(year)]\n",
    "    rec_yds_year = rec_yds_year[::-1]\n",
    "    ax.clear()\n",
    "    #horizontal bar graph of player and yards\n",
    "    ax.barh(rec_yds_year['Player'], rec_yds_year['Receiving Yards'])\n",
    "    #loop to put text of player after bar and yards in bar\n",
    "    for i, (total,Player) in enumerate(zip(rec_yds_year['Receiving Yards'], rec_yds_year['Player'])):\n",
    "        ax.text(total, i,   total, ha='right', color = 'black', size = 33)\n",
    "        ax.text(total, i,   Player, ha='left', color = 'black', size = 27)\n",
    "    #Putting a bigger year label on the right of graph to make it more obvious what year the data is showing\n",
    "    ax.text(1, 0.4, year, transform=ax.transAxes, size=70, ha='right')\n",
    "    ax.set_title('Top 10 Career Packers Receiving Yards Leaders in' + ' ' + str(year))\n",
    "     #don't include y axis lables\n",
    "    ax.set_yticklabels([])\n",
    "    plt.box(False)\n",
    "    \n",
    "#calling function with the year 1967    \n",
    "draw_barchart(1967)    "
   ]
  },
  {
   "cell_type": "code",
   "execution_count": null,
   "metadata": {},
   "outputs": [],
   "source": [
    "#Code to assign each player a different color and keep them consistent if the years are changed\n",
    "def transform_color(color, amount = 0.5):\n",
    "    try:\n",
    "        c = mc.cnames[color]\n",
    "    except:\n",
    "        c = color\n",
    "        c = colorsys.rgb_to_hls(*mc.to_rgb(c))\n",
    "    return colorsys.hls_to_rgb(c[0], 1 - amount * (1 - c[1]), c[2])\n",
    "\n",
    "all_names = rec_yds['Player'].unique().tolist()\n",
    "random_hex_colors = []\n",
    "for i in range(len(all_names)):\n",
    "    random_hex_colors.append('#' + '%06X' % randint(0, 0xFFFFFF))\n",
    "    \n",
    "    \n",
    "\n",
    "rgb_colors = [transform_color(i, 1) for i in random_hex_colors]\n",
    "\n",
    "#Create figure and call the draw_barchart function\n",
    "fig, ax = plt.subplots(figsize=(35, 20))\n",
    "def draw_barchart(year):\n",
    "    rec_yds_year=rec_yds[rec_yds['Year'].eq(year)]\n",
    "    rec_yds_year = rec_yds_year[::-1]\n",
    "    ax.clear()\n",
    "    \n",
    "    bar_colors = dict(zip(rec_yds['Player'].unique(), rgb_colors))\n",
    "    \n",
    "    ax.barh(rec_yds_year['Player'], rec_yds_year['Receiving Yards'], color = [bar_colors[i] for i in rec_yds_year['Player']])\n",
    "    #loop to put text of yards after bar and player/years played inside bar\n",
    "    for i, (total,Player, YearsPlayed) in enumerate(zip(rec_yds_year['Receiving Yards'], rec_yds_year['Player'], rec_yds_year['Years Played'])):\n",
    "         ax.text(total, i,   total, ha='right', color = 'black', weight=600, size = 38)\n",
    "         ax.text(total, i,   Player, ha='left', color = 'black', size = 31, va='bottom')\n",
    "         ax.text(total, i,   YearsPlayed, ha='left', color = 'black', size = 26, va='top')\n",
    "    #Putting a bigger year label on the right of graph to make it more obvious what year the data is showing\n",
    "    ax.text(1, 0.4, year, transform=ax.transAxes, size=70, ha='right')\n",
    "    \n",
    "    ax.xaxis.set_ticks_position('top')\n",
    "    \n",
    "    plt.tick_params(labelsize = 24)\n",
    "    \n",
    "    ax.set_title('Career Packers Receiving Yards Leaders in' + ' ' + str(year), size = 40, weight=600)\n",
    "    ax.set_yticklabels([])\n",
    "    plt.box(False)\n",
    "    ax.grid(which='major', axis='x', linestyle='-')\n",
    "    \n",
    "#calling function with the year 1967   \n",
    "draw_barchart(1967)   "
   ]
  },
  {
   "cell_type": "code",
   "execution_count": null,
   "metadata": {},
   "outputs": [],
   "source": [
    "#Code to run for animation launch and control - Replacing with a recorded animated gif for ease of visualizing in notebook\n",
    "\n",
    "fig, ax = plt.subplots(figsize=(35, 25)) \n",
    "#using animation library to call function at regular intervals (speed) controlled by interval amount and selected range(years)\n",
    "animator = animation.FuncAnimation(fig, draw_barchart, frames=range(2000, 2020), interval = 1200)\n",
    "HTML(animator.to_jshtml()) \n",
    "#<img src=\"Packers_Top_ReceivingYds.gif\" align='left' width=900  height=600 />"
   ]
  },
  {
   "cell_type": "code",
   "execution_count": null,
   "metadata": {},
   "outputs": [],
   "source": []
  }
 ],
 "metadata": {
  "kernelspec": {
   "display_name": "Python 3",
   "language": "python",
   "name": "python3"
  },
  "language_info": {
   "codemirror_mode": {
    "name": "ipython",
    "version": 3
   },
   "file_extension": ".py",
   "mimetype": "text/x-python",
   "name": "python",
   "nbconvert_exporter": "python",
   "pygments_lexer": "ipython3",
   "version": "3.7.6"
  }
 },
 "nbformat": 4,
 "nbformat_minor": 2
}
