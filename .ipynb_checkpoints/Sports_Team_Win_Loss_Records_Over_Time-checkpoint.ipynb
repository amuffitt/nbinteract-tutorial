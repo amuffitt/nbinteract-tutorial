{
 "cells": [
  {
   "cell_type": "markdown",
   "metadata": {},
   "source": [
    "# Compare Sports Team Win/Loss Records Over Time\n",
    "<img src=\"sportslogo.jpg\" align='left' width=\"300\" length=\"230\" />"
   ]
  },
  {
   "cell_type": "markdown",
   "metadata": {},
   "source": [
    "<img src=\"NBA Western Winner 2000s.JPG\" align='left' width=\"700\" length=\"700\" />"
   ]
  },
  {
   "cell_type": "code",
   "execution_count": 2,
   "metadata": {},
   "outputs": [],
   "source": [
    "#import libraries\n",
    "import pandas as pd\n",
    "import numpy as np\n",
    "import matplotlib as mpl\n",
    "import matplotlib.pyplot as plt\n",
    "import matplotlib.animation as animation\n",
    "from IPython.display import HTML\n",
    "from collections import defaultdict\n",
    "import matplotlib.colors as mc\n",
    "import ipywidgets as wg\n",
    "import re\n",
    "%matplotlib inline\n"
   ]
  },
  {
   "cell_type": "code",
   "execution_count": 4,
   "metadata": {},
   "outputs": [],
   "source": [
    "#import the file into Python \n",
    "records=pd.read_excel('Sports Records by Year.xlsx')"
   ]
  },
  {
   "cell_type": "code",
   "execution_count": 5,
   "metadata": {},
   "outputs": [
    {
     "data": {
      "text/html": [
       "<div>\n",
       "<style scoped>\n",
       "    .dataframe tbody tr th:only-of-type {\n",
       "        vertical-align: middle;\n",
       "    }\n",
       "\n",
       "    .dataframe tbody tr th {\n",
       "        vertical-align: top;\n",
       "    }\n",
       "\n",
       "    .dataframe thead th {\n",
       "        text-align: right;\n",
       "    }\n",
       "</style>\n",
       "<table border=\"1\" class=\"dataframe\">\n",
       "  <thead>\n",
       "    <tr style=\"text-align: right;\">\n",
       "      <th></th>\n",
       "      <th>Year</th>\n",
       "      <th>Team</th>\n",
       "      <th>Wins</th>\n",
       "      <th>Losses</th>\n",
       "      <th>Ties</th>\n",
       "      <th>Sport</th>\n",
       "      <th>Conf</th>\n",
       "    </tr>\n",
       "  </thead>\n",
       "  <tbody>\n",
       "    <tr>\n",
       "      <th>0</th>\n",
       "      <td>1960</td>\n",
       "      <td>Air Force Falcons</td>\n",
       "      <td>4.0</td>\n",
       "      <td>6.0</td>\n",
       "      <td>0.0</td>\n",
       "      <td>NCAA Football</td>\n",
       "      <td>NCAAF Indep</td>\n",
       "    </tr>\n",
       "    <tr>\n",
       "      <th>1</th>\n",
       "      <td>1961</td>\n",
       "      <td>Air Force Falcons</td>\n",
       "      <td>3.0</td>\n",
       "      <td>7.0</td>\n",
       "      <td>0.0</td>\n",
       "      <td>NCAA Football</td>\n",
       "      <td>NCAAF Indep</td>\n",
       "    </tr>\n",
       "    <tr>\n",
       "      <th>2</th>\n",
       "      <td>1962</td>\n",
       "      <td>Air Force Falcons</td>\n",
       "      <td>5.0</td>\n",
       "      <td>5.0</td>\n",
       "      <td>0.0</td>\n",
       "      <td>NCAA Football</td>\n",
       "      <td>NCAAF Indep</td>\n",
       "    </tr>\n",
       "    <tr>\n",
       "      <th>3</th>\n",
       "      <td>1963</td>\n",
       "      <td>Air Force Falcons</td>\n",
       "      <td>7.0</td>\n",
       "      <td>4.0</td>\n",
       "      <td>0.0</td>\n",
       "      <td>NCAA Football</td>\n",
       "      <td>NCAAF Indep</td>\n",
       "    </tr>\n",
       "    <tr>\n",
       "      <th>4</th>\n",
       "      <td>1964</td>\n",
       "      <td>Air Force Falcons</td>\n",
       "      <td>4.0</td>\n",
       "      <td>5.0</td>\n",
       "      <td>1.0</td>\n",
       "      <td>NCAA Football</td>\n",
       "      <td>NCAAF Indep</td>\n",
       "    </tr>\n",
       "    <tr>\n",
       "      <th>...</th>\n",
       "      <td>...</td>\n",
       "      <td>...</td>\n",
       "      <td>...</td>\n",
       "      <td>...</td>\n",
       "      <td>...</td>\n",
       "      <td>...</td>\n",
       "      <td>...</td>\n",
       "    </tr>\n",
       "    <tr>\n",
       "      <th>10519</th>\n",
       "      <td>2015</td>\n",
       "      <td>Wyoming Cowboys</td>\n",
       "      <td>2.0</td>\n",
       "      <td>10.0</td>\n",
       "      <td>0.0</td>\n",
       "      <td>NCAA Football</td>\n",
       "      <td>NCAAF MWC</td>\n",
       "    </tr>\n",
       "    <tr>\n",
       "      <th>10520</th>\n",
       "      <td>2016</td>\n",
       "      <td>Wyoming Cowboys</td>\n",
       "      <td>8.0</td>\n",
       "      <td>6.0</td>\n",
       "      <td>0.0</td>\n",
       "      <td>NCAA Football</td>\n",
       "      <td>NCAAF MWC</td>\n",
       "    </tr>\n",
       "    <tr>\n",
       "      <th>10521</th>\n",
       "      <td>2017</td>\n",
       "      <td>Wyoming Cowboys</td>\n",
       "      <td>8.0</td>\n",
       "      <td>5.0</td>\n",
       "      <td>0.0</td>\n",
       "      <td>NCAA Football</td>\n",
       "      <td>NCAAF MWC</td>\n",
       "    </tr>\n",
       "    <tr>\n",
       "      <th>10522</th>\n",
       "      <td>2018</td>\n",
       "      <td>Wyoming Cowboys</td>\n",
       "      <td>6.0</td>\n",
       "      <td>6.0</td>\n",
       "      <td>0.0</td>\n",
       "      <td>NCAA Football</td>\n",
       "      <td>NCAAF MWC</td>\n",
       "    </tr>\n",
       "    <tr>\n",
       "      <th>10523</th>\n",
       "      <td>2019</td>\n",
       "      <td>Wyoming Cowboys</td>\n",
       "      <td>8.0</td>\n",
       "      <td>5.0</td>\n",
       "      <td>0.0</td>\n",
       "      <td>NCAA Football</td>\n",
       "      <td>NCAAF MWC</td>\n",
       "    </tr>\n",
       "  </tbody>\n",
       "</table>\n",
       "<p>10524 rows × 7 columns</p>\n",
       "</div>"
      ],
      "text/plain": [
       "       Year               Team  Wins  Losses  Ties          Sport         Conf\n",
       "0      1960  Air Force Falcons   4.0     6.0   0.0  NCAA Football  NCAAF Indep\n",
       "1      1961  Air Force Falcons   3.0     7.0   0.0  NCAA Football  NCAAF Indep\n",
       "2      1962  Air Force Falcons   5.0     5.0   0.0  NCAA Football  NCAAF Indep\n",
       "3      1963  Air Force Falcons   7.0     4.0   0.0  NCAA Football  NCAAF Indep\n",
       "4      1964  Air Force Falcons   4.0     5.0   1.0  NCAA Football  NCAAF Indep\n",
       "...     ...                ...   ...     ...   ...            ...          ...\n",
       "10519  2015    Wyoming Cowboys   2.0    10.0   0.0  NCAA Football    NCAAF MWC\n",
       "10520  2016    Wyoming Cowboys   8.0     6.0   0.0  NCAA Football    NCAAF MWC\n",
       "10521  2017    Wyoming Cowboys   8.0     5.0   0.0  NCAA Football    NCAAF MWC\n",
       "10522  2018    Wyoming Cowboys   6.0     6.0   0.0  NCAA Football    NCAAF MWC\n",
       "10523  2019    Wyoming Cowboys   8.0     5.0   0.0  NCAA Football    NCAAF MWC\n",
       "\n",
       "[10524 rows x 7 columns]"
      ]
     },
     "execution_count": 5,
     "metadata": {},
     "output_type": "execute_result"
    }
   ],
   "source": [
    "records"
   ]
  },
  {
   "cell_type": "code",
   "execution_count": 6,
   "metadata": {},
   "outputs": [
    {
     "name": "stdout",
     "output_type": "stream",
     "text": [
      "<class 'pandas.core.frame.DataFrame'>\n",
      "RangeIndex: 10524 entries, 0 to 10523\n",
      "Data columns (total 7 columns):\n",
      " #   Column  Non-Null Count  Dtype  \n",
      "---  ------  --------------  -----  \n",
      " 0   Year    10524 non-null  int64  \n",
      " 1   Team    10524 non-null  object \n",
      " 2   Wins    10522 non-null  float64\n",
      " 3   Losses  10522 non-null  float64\n",
      " 4   Ties    7458 non-null   float64\n",
      " 5   Sport   10524 non-null  object \n",
      " 6   Conf    10524 non-null  object \n",
      "dtypes: float64(3), int64(1), object(3)\n",
      "memory usage: 575.7+ KB\n"
     ]
    }
   ],
   "source": [
    "records.info()"
   ]
  },
  {
   "cell_type": "code",
   "execution_count": 7,
   "metadata": {},
   "outputs": [],
   "source": [
    "records= records.astype({'Wins': 'Int32', 'Losses': 'Int32', 'Ties': 'Int32' })"
   ]
  },
  {
   "cell_type": "code",
   "execution_count": 8,
   "metadata": {},
   "outputs": [],
   "source": [
    "#assigning a related bar color for each team\n",
    "colorarray={'Arizona Cardinals': '#97233F','Atlanta Falcons':'Black','Baltimore Colts': '#002C5F','Baltimore Ravens':'Rebeccapurple','Boston Patriots':'#002244','Buffalo Bills':'Royalblue','Carolina Panthers':'#0085CA','Cincinnati Bengals':'#fb4f14','Chicago Bears':'#0B162A','Cleveland Browns':'Sienna','Dallas Cowboys':'Silver','Denver Broncos':'#002244','Detroit Lions':'#B0B7BC','Green Bay Packers': '#203731','Houston Oilers':'lightblue','Houston Texans':'#A71930','Indianapolis Colts':'#002C5F','Jacksonville Jaguars':'#006778','Kansas City Chiefs':'#E31837','Los Angeles Chargers':'#0080C6','Los Angeles Raiders':'#000000','Los Angeles Rams':'#866D4B','Miami Dolphins':'#008E97','Minnesota Vikings': '#4F2683','New England Patriots':'#002244','New Orleans Saints':'#D3BC8D','New York Giants':'#0B2265','New York Jets':'#125740','Oakland Raiders':'#000000', 'Philadelphia Eagles':'#004C54','Phoenix Cardinals':'#97233F','Pittsburgh Steelers':'#FFB612','San Diego Chargers':'#0080C6','San Francisco 49ers':'#AA0000','Seattle Seahawks': '#69BE28','St. Louis Rams': '#866D4B','Tampa Bay Buccaneers':'orangered','Tennessee Oilers':'lightblue','Tennessee Titans':'#4B92DB','Washington Redskins':'#773141','Atlanta Hawks': '#E03A3E','Baltimore Bullets': 'orange','Boston Celtics': '#007A33','Brooklyn Nets': '#000000','Buffalo Braves': 'orange','Charlotte Bobcats': 'lightblue','Charlotte Hornets': '#00788C','Chicago Bulls': '#CE1141','Cincinnati Royals': 'royalblue','Cleveland Cavaliers': '#FDBB30','Dallas Mavericks': '#00538C','Denver Nuggets': '#0E2240','Detroit Pistons': '#1D42BA','Golden State Warriors': '#FFC72C','Houston Rockets': '#CE1141','Indiana Pacers': '#FDBB30','Kansas City Kings':'blue','Los Angeles Clippers': '#1D428A','Los Angeles Lakers': '#552583','Memphis Grizzlies': '#5D76A9','Miami Heat': '#000000','Milwaukee Bucks': '#00471B','Minneapolis Lakers': '#FFC72C','Minnesota Timberwolves': '#78BE20','New Jersey Nets': '#C8102E','New Orleans Hornets': '#00788C','New Orleans Pelicans': '#0C2340','New Orleans Jazz': '#1D1160','New York Knicks': '#006BB6','Oklahoma City Thunder': '#EF3B24','Orlando Magic': '#0077C0','Philadelphia 76ers': '#006BB6','Phoenix Suns': '#1D1160','Portland Trail Blazers': '#000000','Sacramento Kings': '#5A2D81','San Antonio Spurs': '#C4CED4','San Diego Rockets':'Green','San Francisco Warriors': '#FFC72C','Seattle SuperSonics': '#00653A','Toronto Raptors': '#CE1141','Utah Jazz': '#002B5C','Vancouver Grizzlies': '#00788C','Washington Bullets': '#E31837','Washington Wizards': '#E31837','Arizona Diamondbacks': '#A71930','Atlanta Braves': '#13274F','Baltimore Orioles': '#DF4601','Boston Red Sox': '#BD3039','Boston Red Sox': '#BD3039','California Angels':'#BA0021','Chicago Cubs': '#0E3386','Chicago White Sox': '#27251F','Cincinnati Reds': '#C6011F','Cleveland Indians': '#E31937','Colorado Rockies': '#33006F','Detroit Tigers': '#0C2340','Detroit Tigers': '#0C2340','Houston Astros': '#EB6E1F','Florida Marlins':'Teal','Kansas City Royals': '#004687','Los Angeles Angels': '#BA0021','Los Angeles Dodgers': '#005A9C','Miami Marlins': '#00A3E0','Milwaukee Brewers': '#0A2351','Minnesota Twins': '#002B5C','Montreal Expos': '#003087','New York Mets': '#002D72','New York Yankees': '#0C2340','Oakland Athletics': '#003831','Philadelphia Phillies': '#E81828','Pittsburgh Pirates': '#FDB827','St. Louis Cardinals': '#C41E3A','San Diego Padres': '#2F241D','San Francisco Giants': '#FD5A1E','Seattle Mariners': '#005C5C','Tampa Bay Rays': '#8FBCE6','Texas Rangers': '#003278','Toronto Blue Jays': '#134A8E','Washington Nationals': '#AB0003','Air Force Falcons': '#003087','Alabama Crimson Tide': '#9E1B32','Arizona State Sun Devils': '#8C1D40','Arizona Wildcats': '#CC0033','Arkansas Razorbacks': '#9D2235','Army Black Knights': '#97233F','Auburn Tigers': '#0C2340','Baylor Bears': '#003015','Boise State Broncos': '#0033A0','Boston College Eagles': '#98002E','B Y U Cougars': '#002E5D','California Golden Bears': '#FDB515','Central Florida Knights': '#BA9B37','Cincinnati Bearkats': '#E00122','Clemson Tigers': '#F56600','Colorado Buffaloes': '#000000','Colorado State Rams': '#1E4D2B','Connecticut Huskies': '#002E5D','Duke Blue Devils': '#003087','East Carolina Pirates': '#592A8A','Florida Gators': '#0021A5','Florida State Seminoles': '#782F40','Fresno State Bulldogs': '#DB0032','Georgia Bulldogs': '#BA0C2F','Georgia Tech Yellow Jackets': '#B3A369','Hawaii Rainbow Warriors': '#024731','Houston Cougars': '#C8102E','Illinois Fighing Illini': '#E84A27','Indiana Hoosiers': '#990000','Iowa Hawkeyes': '#FFCD00','Iowa State Cyclones': '#C8102E','Kansas Jayhawks': '#0051BA','Kansas State Wildcats': '#512888','Kentucky Wildcats': '#0033A0','Louisville Cardinals': '#AD0000','LSU Tigers': '#461D7C','Maryland Terrapins': '#E03A3E','Memphis Tigers': '#003087','Miami Hurricanes': '#F47321','Michigan State Spartans': '#18453B','Michigan Wolverines': '#FFCB05','Minnesota Golden Gophers': '#7A0019','Mississippi State Bulldogs': '#660000','Missouri Tigers': '#F1B82D','Navy Midshipmen': '#00205B','NC State Wolfpack': '#CC0000','Nebraska Cornhuskers': '#E41C38','Nevada Wolf Pack': '#003366','New Mexico Lobos': '#BA0C2F','New Mexico State Aggies': '#861F41','North Carolina Tarheels': '#7BAFD4','Northwestern Wildcats': '#4E2A84','Notre Dame Fighting Irish': '#0C2340','Ohio State Buckeyes': '#BB0000','Oklahoma Sooners': '#841617','Oklahoma State Cowboys': '#FF7300','Ole Miss Rebels': '#CE1126','Oregon Ducks': '#154733','Oregon State Beavers': '#DC4405','Penn State Nittany Lions': '#041E42','Pittsburgh Panthers': '#FFB81C','Purdue Boilermakers': '#CEB888','Rutgers Scarlet Knights': '#CC0033','San Diego State Aztecs': '#000000','San Jose State Spartans': '#0055A2','SMU Mustangs': '#0033A0','South Carolina Gamecocks': '#73000A','South Florida Bulls': '#006747','Stanford Cardinal': '#8C1515','Syracuse Orange': '#D44500','TCU Horned Frogs': '#4D1979','Temple Owls': '#9D2235','Tennessee Volunteers': '#FF8200','Texas A&M Aggies': '#500000','Texas Longhorns': '#BF5700','Texas Tech Red Raiders': '#CC0000','Tulane Green Wave': '#006747','Tulsa Golden Hurricane': '#002D72','UCLA Bruins': '#2D68C4','UNLV Rebels': '#CF0A2C','USC Trojans': '#990000','Utah State Aggies': '#0F2439','Utah Utes': '#CC0000','Vanderbilt Commodores': '#866D4B','Virginia Cavaliers': '#F84C1E','Virginia Tech Hokies': '#630031','Wake Forest Demon Deacons': '#9E7E38','Washington Huskies': '#4B2E83','Washington State Cougars': '#981E32','West Virginia Mountaineers': '#EAAA00','Wisconsin Badgers': '#C5050C','Wyoming Cowboys': '#492F24'}"
   ]
  },
  {
   "cell_type": "code",
   "execution_count": 9,
   "metadata": {},
   "outputs": [],
   "source": [
    "#assigning a default color for any team not in the main color assignment dictionary\n",
    "colorarray = defaultdict(lambda: 'lightblue', colorarray)"
   ]
  },
  {
   "cell_type": "code",
   "execution_count": 10,
   "metadata": {},
   "outputs": [],
   "source": [
    "#Create figure and call the draw_barchart function\n",
    "\n",
    "#Commenting out initial variables unless testing without widget selectors in next cell\n",
    "\n",
    "#fig, ax = plt.subplots(figsize=(40, 20))\n",
    "#yearstart=2017\n",
    "#yearshow=2017\n",
    "#yearstop=2018\n",
    "#conf='NBA Eastern'\n",
    "\n",
    "#useconf=False\n",
    "\n",
    "#team_list=['Green Bay Packers','Minnesota Vikings','Detroit Lions','Chicago Bears','Seattle Seahawks','Arizona Cardinals','Buffalo Bills','Cincinnati Bengals']\n",
    "#team_list=['Green Bay Packers']\n",
    "\n",
    "#creating a function to produce the chart for a specified year\n",
    "\n",
    "def draw_barchart(yearshow):\n",
    "    \n",
    "    \n",
    "    if((useconf==True) & ((conf!='All NFL') & (conf!='All NBA')  & (conf!='All MLB'))):\n",
    "        records_selected=records[(records['Year']>=yearstart) & (records['Conf'] == conf)]\n",
    "    elif((useconf==True) & (conf=='All NFL')):\n",
    "        records_selected=records[(records['Year']>=yearstart) & (records['Sport'] == 'Football')]\n",
    "    elif((useconf==True) & (conf=='All NBA')):\n",
    "        records_selected=records[(records['Year']>=yearstart) & (records['Sport'] == 'Basketball')]\n",
    "    elif((useconf==True) & (conf=='All MLB')):\n",
    "        records_selected=records[(records['Year']>=yearstart) & (records['Sport'] == 'Baseball')]\n",
    "    else:\n",
    "        records_selected=records[(records['Year']>=yearstart) & (records['Team'].isin(team_list))]\n",
    "    #print(records_selected)\n",
    "    records_selected.index = range(len(records_selected))\n",
    "    runningsum=records_selected.groupby(['Team','Year']).sum().groupby(['Team']).transform('cumsum').reset_index()\n",
    "    runningsum = runningsum.rename(columns={'Wins': 'TotalWins', 'Losses': 'TotalLosses', 'Ties': 'TotalTies'})\n",
    "    runningsum=runningsum.drop(['Team','Year'],axis=1)\n",
    "    records_selected=records_selected.join(runningsum)\n",
    "\n",
    "    \n",
    "    records_currentyear=records_selected[records_selected['Year'].eq(yearshow)].sort_values(by=['TotalWins'], ascending=False)\n",
    "\n",
    "    #show leading bars top to bottom\n",
    "    records_currentyear = records_currentyear[::-1]\n",
    "    ax.clear()\n",
    "                       \n",
    "    ax.barh(records_currentyear['Team'], records_currentyear['TotalWins'], color = [colorarray[i] for i in records_currentyear['Team']])\n",
    "\n",
    "    #loop to put text of team after bar and win loss record/season record inside bar\n",
    "    for i, (totalwins,Team,totallosses, totalties,win,loss,tie,sport) in enumerate(zip(records_currentyear['TotalWins'], records_currentyear['Team'], records_currentyear['TotalLosses'], records_currentyear['TotalTies'], records_currentyear['Wins'],records_currentyear['Losses'],records_currentyear['Ties'],records_currentyear['Sport'])):\n",
    "        if(sport=='Football' or sport=='NCAA Football'): \n",
    "             if(len(records_currentyear['Team'])<9):\n",
    "\n",
    "                 ax.text(totalwins, i,   str(totalwins) + ' - ' + str(totallosses) + ' - ' + str(totalties), ha='right', color = 'white', weight=600, size = 50, va='center')\n",
    "                 ax.text(totalwins, i,   '(' + str(yearshow) +': '+ str(win) + ' - ' + str(loss) + ' - ' + str(tie) + ')', ha='left', color = 'red', size = 33, va='top')   \n",
    "                 ax.text(totalwins, i,   Team, ha='left', color = 'black', size = 33, weight=600, va='bottom')\n",
    "             elif(9<=len(records_currentyear['Team'])<18):\n",
    "\n",
    "                 ax.text(totalwins, i,   str(totalwins) + ' - ' + str(totallosses) + ' - ' + str(totalties), ha='right', color = 'white', weight=600, size = 40, va='center')\n",
    "                 ax.text(totalwins, i,   '(' + str(yearshow) +': '+ str(win) + ' - ' + str(loss) + ' - ' + str(tie) + ')', ha='left', color = 'red', size = 31, va='top')   \n",
    "                 ax.text(totalwins, i,   Team, ha='left', color = 'black', size = 31, weight=600, va='bottom')\n",
    "             else:\n",
    "                 ax.text(totalwins, i,   str(totalwins) + ' - ' + str(totallosses) + ' - ' + str(totalties), ha='right', color = 'white', weight=600, size = 35, va='center')\n",
    "                 ax.text(totalwins, i,   '(' + str(yearshow) +': '+ str(win) + ' - ' + str(loss) + ' - ' + str(tie) + ')', ha='left', color = 'red', size = 26, va='top')    \n",
    "                 ax.text(totalwins, i,   Team, ha='left', color = 'black', size = 28, weight=600, va='bottom')\n",
    "        else:\n",
    "            if(len(records_currentyear['Team'])<9):\n",
    "                    \n",
    "                 \n",
    "                 ax.text(totalwins, i,   str(totalwins) + ' - ' + str(totallosses), ha='right', color = 'white', weight=600, size = 50, va='center')\n",
    "                 ax.text(totalwins, i,   '(' + str(yearshow) +': '+ str(win) + ' - ' + str(loss) + ')', ha='left', color = 'red', size = 33, va='top')   \n",
    "                 ax.text(totalwins, i,   Team, ha='left', color = 'black', size = 33, weight=600, va='bottom')\n",
    "            elif(9<=len(records_currentyear['Team'])<18):\n",
    "                 \n",
    "                 ax.text(totalwins, i,   str(totalwins) + ' - ' + str(totallosses), ha='right', color = 'white', weight=600, size = 40, va='center')\n",
    "                 ax.text(totalwins, i,   '(' + str(yearshow) +': '+ str(win) + ' - ' + str(loss) + ')', ha='left', color = 'red', size = 31, va='top')  \n",
    "                 ax.text(totalwins, i,   Team, ha='left', color = 'black', size = 31, weight=600, va='bottom')\n",
    "            \n",
    "            else:\n",
    "                 \n",
    "                 ax.text(totalwins, i,   str(totalwins) + ' - ' + str(totallosses), ha='right', color = 'white', weight=600, size = 30, va='center')\n",
    "                 ax.text(totalwins, i,   '(' + str(yearshow) +': '+ str(win) + ' - ' + str(loss) + ')', ha='left', color = 'red', size = 23, va='top')  \n",
    "                 ax.text(totalwins, i,   Team, ha='left', color = 'black', size = 28, weight=600, va='bottom')\n",
    "            \n",
    "    #Putting a bigger year label on the right of graph to make it more obvious what year the data is showing\n",
    "    ax.text(1.1, 0.3, yearshow, transform=ax.transAxes, size=80, weight=600, ha='right', color='Red')\n",
    "    \n",
    "    ax.xaxis.set_ticks_position('top')\n",
    "    \n",
    "    plt.tick_params(labelsize = 28)\n",
    "    if(yearshow==yearstop):\n",
    "        if (records_currentyear['TotalWins'].iloc[-1] != records_currentyear['TotalWins'].iloc[-2]): \n",
    "            ax.set_title(str(yearstart) + ' - ' + str(yearstop) + ' ' + 'WINNER' + ' : ' +  records_currentyear['Team'].iloc[-1].upper(),color = 'Red',size = 55, weight=600)\n",
    "        else: ax.set_title('TIE:' + ' ' +  records_currentyear['Team'].iloc[-1].upper() + ' AND ' + records_currentyear['Team'].iloc[-2].upper(),color = 'Red',size = 35, weight=600)\n",
    "    else:\n",
    "        ax.set_title('Total Wins and Losses ' + ' ' + str(yearstart) + ' - ' + str(yearstop) + '   ' +'('+ str(yearshow) + ')', size = 50, weight=600)    \n",
    "    \n",
    "    ax.set_yticklabels([])\n",
    "    plt.box(False)\n",
    "    ax.grid(which='major', axis='x', linestyle='-')\n",
    "    ax.text(0, 1.06, 'Total Wins Since ' +  str(yearstart) +  ' (Reg Season)', transform=ax.transAxes, size=26, color='red')\n",
    "         \n",
    "#draw_barchart(yearstart)   "
   ]
  },
  {
   "cell_type": "code",
   "execution_count": 11,
   "metadata": {
    "scrolled": false
   },
   "outputs": [
    {
     "data": {
      "application/vnd.jupyter.widget-view+json": {
       "model_id": "227fe258f8164d18bf8760d0815d296e",
       "version_major": 2,
       "version_minor": 0
      },
      "text/plain": [
       "HTML(value='<h4><center><b><u>Submit Input Values to Generate Team Win/Loss Records Over Time</u></b></center>…"
      ]
     },
     "metadata": {},
     "output_type": "display_data"
    },
    {
     "data": {
      "application/vnd.jupyter.widget-view+json": {
       "model_id": "ca98b4a742bf421898cfc85bbd16ce68",
       "version_major": 2,
       "version_minor": 0
      },
      "text/plain": [
       "interactive(children=(Dropdown(description='Start Year:', options=('Choose', 1960, 1961, 1962, 1963, 1964, 196…"
      ]
     },
     "metadata": {},
     "output_type": "display_data"
    },
    {
     "data": {
      "application/vnd.jupyter.widget-view+json": {
       "model_id": "9d2fabdfa2744c5eb40f26b3cf090513",
       "version_major": 2,
       "version_minor": 0
      },
      "text/plain": [
       "interactive(children=(Dropdown(description='End Year:', options=('Choose', 1960, 1961, 1962, 1963, 1964, 1965,…"
      ]
     },
     "metadata": {},
     "output_type": "display_data"
    },
    {
     "data": {
      "application/vnd.jupyter.widget-view+json": {
       "model_id": "68415d00af054518836e1bbe1b992b9a",
       "version_major": 2,
       "version_minor": 0
      },
      "text/plain": [
       "HBox(children=(Dropdown(description='Start Year:', options=('Choose', 1960, 1961, 1962, 1963, 1964, 1965, 1966…"
      ]
     },
     "metadata": {},
     "output_type": "display_data"
    },
    {
     "data": {
      "application/vnd.jupyter.widget-view+json": {
       "model_id": "d7cc543fae064ea4826f1a5db4593ca8",
       "version_major": 2,
       "version_minor": 0
      },
      "text/plain": [
       "HTML(value=\"<b><u>Choose desired teams to compare in NFL, NFL, MLB, or NCAA Football (only select values in on…"
      ]
     },
     "metadata": {},
     "output_type": "display_data"
    },
    {
     "data": {
      "application/vnd.jupyter.widget-view+json": {
       "model_id": "d3cbddac3da140c2badfd00c6e769a5a",
       "version_major": 2,
       "version_minor": 0
      },
      "text/plain": [
       "interactive(children=(SelectMultiple(description='NFL', layout=Layout(height='100px', width='350px'), options=…"
      ]
     },
     "metadata": {},
     "output_type": "display_data"
    },
    {
     "data": {
      "application/vnd.jupyter.widget-view+json": {
       "model_id": "090891c37bfa4cbb827044010f426f87",
       "version_major": 2,
       "version_minor": 0
      },
      "text/plain": [
       "interactive(children=(SelectMultiple(description='NBA', layout=Layout(height='100px', width='350px'), options=…"
      ]
     },
     "metadata": {},
     "output_type": "display_data"
    },
    {
     "data": {
      "application/vnd.jupyter.widget-view+json": {
       "model_id": "0d11c12eeeff4103b57b4db1248d5c0f",
       "version_major": 2,
       "version_minor": 0
      },
      "text/plain": [
       "interactive(children=(SelectMultiple(description='MLB', layout=Layout(height='100px', width='350px'), options=…"
      ]
     },
     "metadata": {},
     "output_type": "display_data"
    },
    {
     "data": {
      "application/vnd.jupyter.widget-view+json": {
       "model_id": "50dc9344385448358875e6df72dbfb79",
       "version_major": 2,
       "version_minor": 0
      },
      "text/plain": [
       "interactive(children=(Dropdown(description='League/Conf', layout=Layout(width='220px'), options=('None', 'All …"
      ]
     },
     "metadata": {},
     "output_type": "display_data"
    },
    {
     "data": {
      "application/vnd.jupyter.widget-view+json": {
       "model_id": "765a3c10b0794ccb9bb453bb8b4292a2",
       "version_major": 2,
       "version_minor": 0
      },
      "text/plain": [
       "interactive(children=(SelectMultiple(description='NCAAF', layout=Layout(height='100px', width='350px'), option…"
      ]
     },
     "metadata": {},
     "output_type": "display_data"
    },
    {
     "data": {
      "application/vnd.jupyter.widget-view+json": {
       "model_id": "81d103a060314571b7392c3e650dadaf",
       "version_major": 2,
       "version_minor": 0
      },
      "text/plain": [
       "HBox(children=(SelectMultiple(description='NFL', layout=Layout(height='100px', width='350px'), options=('Arizo…"
      ]
     },
     "metadata": {},
     "output_type": "display_data"
    },
    {
     "data": {
      "application/vnd.jupyter.widget-view+json": {
       "model_id": "c8cc60d475084551b915928c97450369",
       "version_major": 2,
       "version_minor": 0
      },
      "text/plain": [
       "HBox(children=(SelectMultiple(description='MLB', layout=Layout(height='100px', width='350px'), options=('Anahe…"
      ]
     },
     "metadata": {},
     "output_type": "display_data"
    },
    {
     "data": {
      "application/vnd.jupyter.widget-view+json": {
       "model_id": "4592fb9768264451ad62151c1cd2a811",
       "version_major": 2,
       "version_minor": 0
      },
      "text/plain": [
       "HBox(children=(Dropdown(description='League/Conf', layout=Layout(width='220px'), options=('None', 'All NFL', '…"
      ]
     },
     "metadata": {},
     "output_type": "display_data"
    },
    {
     "data": {
      "application/vnd.jupyter.widget-view+json": {
       "model_id": "1855c4ca6f6149b99b1eee324a39ea0d",
       "version_major": 2,
       "version_minor": 0
      },
      "text/plain": [
       "HTML(value=\"<b><u>Select animation speed to control how fast the year frames advance in the animation.</u></b>…"
      ]
     },
     "metadata": {},
     "output_type": "display_data"
    },
    {
     "data": {
      "application/vnd.jupyter.widget-view+json": {
       "model_id": "ca520312d79a492489e203996f069abd",
       "version_major": 2,
       "version_minor": 0
      },
      "text/plain": [
       "interactive(children=(RadioButtons(description='AnimSpeed:', index=1, options=(('Slow', 5000), ('Medium', 3000…"
      ]
     },
     "metadata": {},
     "output_type": "display_data"
    },
    {
     "data": {
      "application/vnd.jupyter.widget-view+json": {
       "model_id": "e0a40d0ca5174319b2f8130ff7f22497",
       "version_major": 2,
       "version_minor": 0
      },
      "text/plain": [
       "interactive(children=(Checkbox(value=False, description='No animation (show only final result)', layout=Layout…"
      ]
     },
     "metadata": {},
     "output_type": "display_data"
    },
    {
     "data": {
      "application/vnd.jupyter.widget-view+json": {
       "model_id": "d706ac056d0d4e59b1feef2b6ee181c6",
       "version_major": 2,
       "version_minor": 0
      },
      "text/plain": [
       "HBox(children=(RadioButtons(description='AnimSpeed:', index=1, options=(('Slow', 5000), ('Medium', 3000), ('Fa…"
      ]
     },
     "metadata": {},
     "output_type": "display_data"
    },
    {
     "data": {
      "application/vnd.jupyter.widget-view+json": {
       "model_id": "bf9beacf17a44073afb4340227173731",
       "version_major": 2,
       "version_minor": 0
      },
      "text/plain": [
       "HTML(value=\"<b><u>Click 'Run Chart' button to display result!</u></b><ul><li>Animation will play in the <b>nex…"
      ]
     },
     "metadata": {},
     "output_type": "display_data"
    },
    {
     "data": {
      "application/vnd.jupyter.widget-view+json": {
       "model_id": "eaa2ff5e3297495eab45e96c4d7ec1c0",
       "version_major": 2,
       "version_minor": 0
      },
      "text/plain": [
       "Button(description='Run Chart', icon='check', layout=Layout(margin='20px'), style=ButtonStyle(), tooltip='Clic…"
      ]
     },
     "metadata": {},
     "output_type": "display_data"
    },
    {
     "data": {
      "image/png": "[encoded data removed]",
      "text/plain": [
       "<Figure size 2880x1800 with 1 Axes>"
      ]
     },
     "metadata": {
      "needs_background": "light"
     },
     "output_type": "display_data"
    }
   ],
   "source": [
    "#use ipywidgets to select and submit info\n",
    "from ipywidgets import Text, HBox, VBox, Box, Layout\n",
    "from IPython.display import Javascript, display\n",
    "\n",
    "#Set initial variables\n",
    "#Signals when conference is selected rather than individual teams\n",
    "useconf=False\n",
    "\n",
    "#animation speed variables\n",
    "slow=5000\n",
    "medium=3000\n",
    "fast=1500\n",
    "reallyfast=800\n",
    "\n",
    "#default to medium\n",
    "speed=medium\n",
    "\n",
    "#Default to no conferene/leagues being selected\n",
    "conf='None'  \n",
    "\n",
    "team_list=[]\n",
    "\n",
    "\n",
    "#Display title and instructions on selecting date range\n",
    "instructions=wg.HTML(\n",
    "    value=\"<h4><center><b><u>Submit Input Values to Generate Team Win/Loss Records Over Time</u></b></center></h4><b><u>Select date range for results</u></b><br><ul><li>Select <b>Start Year</b> for the year data is to start. Select <b>End Year</b> for the year data is to end</li></ul>\",\n",
    "    placeholder='',\n",
    "    description='',\n",
    ")\n",
    "\n",
    "display(instructions)\n",
    "\n",
    "#Start date widget dropdown from 1970 to last year (Initial 'Choose' forces user to select date)\n",
    "startdateselect=wg.Dropdown(\n",
    "    options=['Choose',1960, 1961, 1962,1963,1964,1965,1966,1967,1968,1969,1970, 1971, 1972,1973,1974,1975,1976,1977,1978,1979,1980,1981,1982,1983,1984,1985,1986,1987,1988,1989,1990,1991,1992,1993,1994,1995,1996,1997,1998,1999,2000,2001,2002,2003,2004,2005,2006,2007,2008,2009,2010,2011,2012,2013,2014,2015,2016,2017,2018,2019],\n",
    "    #value='',\n",
    "    description='Start Year:',\n",
    "    disabled=False,\n",
    ")\n",
    "\n",
    "#function to set year start variable\n",
    "def createyearstart(y):\n",
    "    global yearstart\n",
    "    yearstart=y\n",
    "\n",
    "#pass dropdown value to set variable    \n",
    "#wg.interactive(createyearstart,y=startdateselect)\n",
    "wg.interact(createyearstart,y=startdateselect)\n",
    "\n",
    "#End date widget dropdown from 1970 to last year\n",
    "enddateselect=wg.Dropdown(\n",
    "    options=['Choose',1960, 1961, 1962,1963,1964,1965,1966,1967,1968,1969,1970, 1971, 1972,1973,1974,1975,1976,1977,1978,1979,1980,1981,1982,1983,1984,1985,1986,1987,1988,1989,1990,1991,1992,1993,1994,1995,1996,1997,1998,1999,2000,2001,2002,2003,2004,2005,2006,2007,2008,2009,2010,2011,2012,2013,2014,2015,2016,2017,2018,2019],\n",
    "    #value='',\n",
    "    description='End Year:',\n",
    "    disabled=False,\n",
    ")\n",
    "\n",
    "#function to set year start variable\n",
    "def createyearstop(z):\n",
    "    global yearstop\n",
    "    yearstop=z\n",
    "\n",
    "#pass dropdown value to set variable        \n",
    "#wg.interactive(createyearstop,z=enddateselect)\n",
    "wg.interact(createyearstop,z=enddateselect)\n",
    "\n",
    "#Align date dropdown boxes in horizontal row\n",
    "display(HBox([startdateselect, enddateselect]))\n",
    "\n",
    "#Display instructions on selecting teams/conferences\n",
    "instructions2=wg.HTML(\n",
    "    value=\"<b><u>Choose desired teams to compare in NFL, NFL, MLB, or NCAA Football (only select values in one sport)</u></b><br><ul><li>For comparing specific individual teams, select at least 2 teams (hold down Control to select/deselect)</li><li>To run for a conference (or league) instead of specific individual teams, select a single value in the League/conf list</li><li><b>Note: </b>The 'League/conf' list overrides selected values in the team lists. To run for individual teams, ensure 'None' is selected in 'League/conf' list</li></ul>\",\n",
    "    placeholder='',\n",
    "    description='',\n",
    ")\n",
    "\n",
    "display(instructions2)\n",
    "\n",
    "\n",
    "#create select multiple dropdown for NFL team list\n",
    "football=wg.SelectMultiple(\n",
    "    options=['Arizona Cardinals',\n",
    " 'Atlanta Falcons',\n",
    " 'Baltimore Colts',\n",
    " 'Baltimore Ravens',\n",
    " 'Boston Patriots',\n",
    " 'Buffalo Bills',\n",
    " 'Carolina Panthers',\n",
    " 'Chicago Bears',\n",
    " 'Cincinnati Bengals',\n",
    " 'Cleveland Browns',\n",
    " 'Dallas Cowboys',\n",
    " 'Detroit Lions',\n",
    " 'Green Bay Packers',\n",
    " 'Houston Oilers',\n",
    " 'Houston Texans',\n",
    " 'Indianapolis Colts',\n",
    " 'Jacksonville Jaguars',\n",
    " 'Kansas City Chiefs',\n",
    " 'Los Angeles Chargers',\n",
    " 'Los Angeles Raiders',\n",
    " 'Los Angeles Rams',\n",
    " 'Miami Dolphins',\n",
    " 'Minnesota Vikings',\n",
    " 'New England Patriots',\n",
    " 'New Orleans Saints',\n",
    " 'New York Giants',\n",
    " 'New York Jets',\n",
    " 'Oakland Raiders',\n",
    " 'Philadelphia Eagles',\n",
    " 'Phoenix Cardinals',\n",
    " 'Pittsburgh Steelers',\n",
    " 'San Diego Chargers',\n",
    " 'San Francisco 49ers',\n",
    " 'Seattle Seahawks',\n",
    " 'St. Louis Cardinals',\n",
    " 'St. Louis Rams',\n",
    " 'Tampa Bay Buccaneers',\n",
    " 'Tennessee Oilers',\n",
    " 'Tennessee Titans',\n",
    " 'Washington Redskins'],\n",
    "    value=[],\n",
    "    #rows=10,\n",
    "    description='NFL',\n",
    "    disabled=False,\n",
    "    layout=Layout(width='350px',height='100px')\n",
    ")\n",
    "\n",
    "#function to create team_list variable\n",
    "def createteamlist(a):\n",
    "    global team_list\n",
    "    team_list=a\n",
    "    \n",
    "#pass dropdown value to set variable\n",
    "wg.interact(createteamlist,a=football)\n",
    "#wg.interactive(createteamlist,a=football)\n",
    "\n",
    "#create select multiple dropdown for NBA team list\n",
    "basket=wg.SelectMultiple(\n",
    "    options=['Atlanta Hawks',\n",
    " 'Boston Celtics',\n",
    " 'Brooklyn Nets',\n",
    " 'Charlotte Bobcats',\n",
    " 'Charlotte Hornets',\n",
    " 'Chicago Bulls',\n",
    " 'Cleveland Cavaliers',\n",
    " 'Dallas Mavericks',\n",
    " 'Denver Nuggets',\n",
    " 'Detroit Pistons',\n",
    " 'Golden State Warriors',\n",
    " 'Houston Rockets',\n",
    " 'Indiana Pacers',\n",
    " 'Los Angeles Clippers',\n",
    " 'Los Angeles Lakers',\n",
    " 'Memphis Grizzlies',\n",
    " 'Miami Heat',\n",
    " 'Milwaukee Bucks',\n",
    " 'Minnesota Timberwolves',\n",
    " 'New Jersey Nets',\n",
    " 'New Orleans Hornets',\n",
    " 'New Orleans Jazz',\n",
    " 'New Orleans Pelicans',\n",
    " 'New Orleans/Oklahoma City Hornets',\n",
    " 'New York Knicks',\n",
    " 'New York Nets',\n",
    " 'Oklahoma City Thunder',\n",
    " 'Orlando Magic',\n",
    " 'Philadelphia 76ers',\n",
    " 'Phoenix Suns',\n",
    " 'Portland Trail Blazers',\n",
    " 'Sacramento Kings',\n",
    " 'San Antonio Spurs',\n",
    " 'Seattle SuperSonics',\n",
    " 'Toronto Raptors',\n",
    " 'Utah Jazz',\n",
    " 'Vancouver Grizzlies',\n",
    " 'Washington Bullets',\n",
    " 'Washington Wizards'],\n",
    "    value=[],\n",
    "    #rows=10,\n",
    "    description='NBA',\n",
    "    disabled=False,\n",
    "    layout=Layout(width='350px',height='100px')\n",
    ")\n",
    "\n",
    "\n",
    "#pass dropdown value to set variable    \n",
    "wg.interact(createteamlist,a=basket)\n",
    "#wg.interactive(createteamlist,a=basket)\n",
    "\n",
    "\n",
    "base=wg.SelectMultiple(\n",
    "    options=['Anaheim Angels',\n",
    " 'Arizona Diamondbacks',\n",
    " 'Atlanta Braves',\n",
    " 'Baltimore Orioles',\n",
    " 'Boston Red Sox',\n",
    " 'California Angels',\n",
    " 'Chicago Cubs',\n",
    " 'Chicago White Sox',\n",
    " 'Cincinnati Reds',\n",
    " 'Cleveland Indians',\n",
    " 'Colorado Rockies',\n",
    " 'Detroit Tigers',\n",
    " 'Florida Marlins',\n",
    " 'Houston Astros',\n",
    " 'Kansas City Royals',\n",
    " 'Los Angeles Angels',\n",
    " 'Los Angeles Dodgers',\n",
    " 'Miami Marlins',\n",
    " 'Milwaukee Brewers',\n",
    " 'Minnesota Twins',\n",
    " 'Montreal Expos',\n",
    " 'New York Mets',\n",
    " 'New York Yankees',\n",
    " 'Oakland Athletics',\n",
    " 'Philadelphia Phillies',\n",
    " 'Pittsburgh Pirates',\n",
    " 'San Diego Padres',\n",
    " 'San Francisco Giants',\n",
    " 'Seattle Mariners',\n",
    " 'St. Louis Cardinals',\n",
    " 'Tampa Bay Rays',\n",
    " 'Texas Rangers',\n",
    " 'Toronto Blue Jays',\n",
    " 'Washington Nationals',\n",
    " 'Washington Senators'],\n",
    "    value=[],\n",
    "    #rows=10,\n",
    "    description='MLB',\n",
    "    disabled=False,\n",
    "    layout=Layout(width='350px',height='100px')\n",
    ")\n",
    "\n",
    "#pass dropdown value to set variable    \n",
    "wg.interact(createteamlist,a=base)\n",
    "\n",
    "#wg.interactive(createteamlist,a=base)\n",
    "\n",
    "\n",
    "\n",
    "conference=wg.Dropdown(\n",
    "    options=['None','All NFL','NFL NFC','NFL AFC','All NBA','NBA Eastern','NBA Western','All MLB','MLB American','MLB National'],\n",
    "    value='None',\n",
    "    description='League/Conf',\n",
    "    disabled=False,\n",
    "    layout=Layout(width='220px')\n",
    ")\n",
    "\n",
    "def createconferencelist(d):\n",
    "    global conf\n",
    "    conf=d\n",
    "    \n",
    "#pass dropdown value to set variable    \n",
    "wg.interact(createconferencelist,d=conference)\n",
    "#wg.interactive(createconferencelist,d=conference)\n",
    "\n",
    "\n",
    "ncaaf=wg.SelectMultiple(\n",
    "    options=['Air Force Falcons',\n",
    "'Alabama Crimson Tide',\n",
    "'Arizona State Sun Devils',\n",
    "'Arizona Wildcats',\n",
    "'Arkansas Razorbacks',\n",
    "'Army Black Knights',\n",
    "'Auburn Tigers',\n",
    "'Baylor Bears',\n",
    "'Boise State Broncos',\n",
    "'Boston College Eagles',\n",
    "'B Y U Cougars',\n",
    "'California Golden Bears',\n",
    "'Central Florida Knights',\n",
    "'Cincinnati Bearkats',\n",
    "'Clemson Tigers',\n",
    "'Colorado Buffaloes',\n",
    "'Colorado State Rams',\n",
    "'Connecticut Huskies',\n",
    "'Duke Blue Devils',\n",
    "'East Carolina',\n",
    "'Florida Gators',\n",
    "'Florida State Seminoles',\n",
    "'Fresno State Bulldogs',\n",
    "'Georgia Bulldogs',\n",
    "'Georgia Tech Yellow Jackets',\n",
    "'Hawaii Rainbow Warriors',\n",
    "'Houston Cougars',\n",
    "'Illinois Fighing Illini',\n",
    "'Indiana Hoosiers',\n",
    "'Iowa Hawkeyes',\n",
    "'Iowa State Cyclones',\n",
    "'Kansas Jayhawks',\n",
    "'Kansas State Wildcats',\n",
    "'Kentucky Wildcats',\n",
    "'Louisville Cardinals',\n",
    "'LSU Tigers',\n",
    "'Maryland Terrapins',\n",
    "'Memphis Tigers',\n",
    "'Miami Hurricanes',\n",
    "'Michigan State Spartans',\n",
    "'Michigan Wolverines',\n",
    "'Minnesota Golden Gophers',\n",
    "'Mississippi State Bulldogs',\n",
    "'Missouri Tigers',\n",
    "'Navy Midshipmen',\n",
    "'NC State',\n",
    "'Nebraska Cornhuskers',\n",
    "'Nevada Wolf Pack',\n",
    "'New Mexico Lobos',\n",
    "'New Mexico State Aggies',\n",
    "'North Carolina Tarheels',\n",
    "'Northwestern Wildcats',\n",
    "'Notre Dame Fighting Irish',\n",
    "'Ohio State Buckeyes',\n",
    "'Oklahoma Sooners',\n",
    "'Oklahoma State Cowboys',\n",
    "'Ole Miss Rebels',\n",
    "'Oregon Ducks',\n",
    "'Oregon State Beavers',\n",
    "'Penn State Nittany Lions',\n",
    "'Pittsburgh Panthers',\n",
    "'Purdue Boilermakers',\n",
    "'Rutgers Scarlet Knights',\n",
    "'San Diego State Aztecs',\n",
    "'San Jose State Spartans',\n",
    "'SMU Mustangs',\n",
    "'South Carolina Gamecocks',\n",
    "'South Florida Bulls',\n",
    "'Stanford Cardinal',\n",
    "'Syracuse Orange',\n",
    "'TCU Horned Frogs',\n",
    "'Temple Owls',\n",
    "'Tennessee Volunteers',\n",
    "'Texas A&M Aggies',\n",
    "'Texas Longhorns',\n",
    "'Texas Tech Red Raiders',\n",
    "'Tulane Green Wave',\n",
    "'Tulsa Golden Hurricane',\n",
    "'UCLA Bruins',\n",
    "'UNLV Rebels',\n",
    "'USC Trojans',\n",
    "'Utah State Aggies',\n",
    "'Utah Utes',\n",
    "'Vanderbilt Commodores',\n",
    "'Virginia Cavaliers',\n",
    "'Virginia Tech Hokies',\n",
    "'Wake Forest Demon Deacons',\n",
    "'Washington Huskies',\n",
    "'Washington State Cougars',\n",
    "'West Virginia Mountaineers',\n",
    "'Wisconsin Badgers',\n",
    "'Wyoming Cowboys'],\n",
    "    value=[],\n",
    "    #rows=10,\n",
    "    description='NCAAF',\n",
    "    disabled=False,\n",
    "    layout=Layout(width='350px',height='100px')\n",
    ")\n",
    "\n",
    "#pass dropdown value to set variable    \n",
    "#wg.interactive(createteamlist,a=ncaaf)\n",
    "wg.interact(createteamlist,a=ncaaf)\n",
    "\n",
    "#Display team lists in a horizontal row\n",
    "#display(HBox([football, basket, base, ncaaf]))\n",
    "display(HBox([football, basket]))\n",
    "display(HBox([base, ncaaf]))\n",
    "\n",
    "display(HBox([conference]))\n",
    "\n",
    "#Display instructions on selecting speed/animation settings\n",
    "instructions3=wg.HTML(\n",
    "    value=\"<b><u>Select animation speed to control how fast the year frames advance in the animation.</u></b> (To see just the final result chart without seeing the year by year animation, check the 'No animation' box.)\",\n",
    "    placeholder='',\n",
    "    description='',\n",
    ")\n",
    "\n",
    "display(instructions3)\n",
    "\n",
    "\n",
    "#Radio button selection to select animation speed\n",
    "speedcheck=wg.RadioButtons(\n",
    "    options=[('Slow', slow), ('Medium', medium), ('Fast', fast), ('Very Fast',reallyfast)],\n",
    "    value=medium,\n",
    "    description='AnimSpeed:',\n",
    "    disabled=False\n",
    ")\n",
    "\n",
    "#function to create speed variable\n",
    "def selectspeed(d):\n",
    "    global speed\n",
    "    speed=d\n",
    "    \n",
    "#pass dropdown value to set variable    \n",
    "#wg.interactive(selectspeed,d=speedcheck)\n",
    "wg.interact(selectspeed,d=speedcheck)\n",
    "\n",
    "\n",
    "#Checkbox for option not to show animation and just final result\n",
    "animcheck=wg.Checkbox(\n",
    "    value=False,\n",
    "    layout=Layout(height='30px',width='500px'),\n",
    "    description='No animation (show only final result)',\n",
    "    disabled=False,\n",
    "    indent=True\n",
    ")\n",
    "\n",
    "#function to create noanimate variable\n",
    "def animateflag(f):\n",
    "    global noanimate\n",
    "    noanimate=f\n",
    "    \n",
    "#Default to show animation\n",
    "animateflag(False)\n",
    "\n",
    "    \n",
    "#pass dropdown value to set variable      \n",
    "#wg.interactive(animateflag,f=animcheck)\n",
    "wg.interact(animateflag,f=animcheck)\n",
    "\n",
    "#function to display final result chart instead of showing animation\n",
    "def noanimation():\n",
    "        \n",
    "    global fig\n",
    "    global ax\n",
    "    if((len(team_list)<7) & (useconf==False)):\n",
    "        fig, ax = plt.subplots(figsize=(40, 25)) \n",
    "    elif((9<=len(team_list)<17) & (useconf==False)):\n",
    "        fig, ax = plt.subplots(figsize=(40, 45))\n",
    "    elif((useconf==True) & ((conf!='All NFL') & (conf!='All NBA')  & (conf!='All MLB'))):\n",
    "        fig, ax = plt.subplots(figsize=(40, 45)) \n",
    "    else:\n",
    "        fig, ax = plt.subplots(figsize=(45, 55))\n",
    "            \n",
    "    draw_barchart(yearstop)\n",
    "        \n",
    "#btn2=wg.Button(\n",
    " #  description='Clear',\n",
    "  # disabled=False,\n",
    "   #button_style='', # 'success', 'info', 'warning', 'danger' or ''\n",
    "   #tooltip='Click me',\n",
    "   #icon='check' # (FontAwesome names without the `fa-` prefix)#\n",
    "#)  \n",
    "\n",
    "\n",
    "    \n",
    "#display(btn2)\n",
    "\n",
    "#btn2.on_click(clr)\n",
    "\n",
    "#Display speed and animation selections in a horizontal row\n",
    "display(HBox([speedcheck,animcheck]))\n",
    "\n",
    "#Display instructions on selecting speed/animation settings\n",
    "instructions4=wg.HTML(\n",
    "    value=\"<b><u>Click 'Run Chart' button to display result!</u></b><ul><li>Animation will play in the <b>next</b> cell. (Hit 'Play' button to start after first frame loads)</li><li>If no animation was chosen, static chart will show in this cell.</li></ul>\",\n",
    "    placeholder='',\n",
    "    description='',\n",
    ")\n",
    "\n",
    "display(instructions4)\n",
    "\n",
    "\n",
    "#button widget to submit inputs to run chart\n",
    "btn=wg.Button(\n",
    "   description='Run Chart',\n",
    "   disabled=False,\n",
    "   button_style='', # 'success', 'info', 'warning', 'danger' or ''\n",
    "   tooltip='Click to Run Chart',\n",
    "   icon='check', # (FontAwesome names without the `fa-` prefix),\n",
    "   layout=Layout(margin='20px')\n",
    ")\n",
    "\n",
    "#function for submit button to run - Sends to next cell to run animation or runs final chart result in current cell    \n",
    "def run_all(ev):\n",
    "    if(conf != 'None'):\n",
    "            global useconf\n",
    "            useconf=True\n",
    "    else:\n",
    "            useconf=False\n",
    "            \n",
    "    if 'yearstart' not in globals():\n",
    "        print('Enter Start/Stop Years')\n",
    "    elif 'yearstop' not in globals():\n",
    "        print('Enter Start/Stop Years')\n",
    "    elif ((yearstart=='Choose' or yearstop=='Choose')):\n",
    "        print ('Enter Start/Stop Years')\n",
    "    elif(yearstart>yearstop):\n",
    "        print('End Year Cant Be Greater Than Start Year' )\n",
    "    elif(len(team_list) <=1 and useconf==False):\n",
    "        print('Select at least 2 teams of same sport(or de-select and re-select teams)')\n",
    "    elif(noanimate==False):\n",
    "        display(Javascript('IPython.notebook.execute_cell_range(IPython.notebook.get_selected_index()+1, IPython.notebook.ncells())'))\n",
    "    else:\n",
    "        noanimation()\n",
    "        \n",
    "display(btn)\n",
    "\n",
    "btn.on_click(run_all)\n",
    "\n"
   ]
  },
  {
   "cell_type": "code",
   "execution_count": 10,
   "metadata": {
    "scrolled": false
   },
   "outputs": [
    {
     "ename": "NameError",
     "evalue": "name 'yearstart' is not defined",
     "output_type": "error",
     "traceback": [
      "\u001b[0;31m---------------------------------------------------------------------------\u001b[0m",
      "\u001b[0;31mNameError\u001b[0m                                 Traceback (most recent call last)",
      "\u001b[0;32m<ipython-input-10-48dfd3af29b5>\u001b[0m in \u001b[0;36m<module>\u001b[0;34m\u001b[0m\n\u001b[1;32m     16\u001b[0m \u001b[0;34m\u001b[0m\u001b[0m\n\u001b[1;32m     17\u001b[0m \u001b[0;31m#Define funcanimation with appropriate variable inputs\u001b[0m\u001b[0;34m\u001b[0m\u001b[0;34m\u001b[0m\u001b[0;34m\u001b[0m\u001b[0m\n\u001b[0;32m---> 18\u001b[0;31m \u001b[0manimator\u001b[0m \u001b[0;34m=\u001b[0m \u001b[0manimation\u001b[0m\u001b[0;34m.\u001b[0m\u001b[0mFuncAnimation\u001b[0m\u001b[0;34m(\u001b[0m\u001b[0mfig\u001b[0m\u001b[0;34m,\u001b[0m \u001b[0mdraw_barchart\u001b[0m\u001b[0;34m,\u001b[0m \u001b[0mframes\u001b[0m\u001b[0;34m=\u001b[0m\u001b[0mrange\u001b[0m\u001b[0;34m(\u001b[0m\u001b[0myearstart\u001b[0m\u001b[0;34m,\u001b[0m \u001b[0myearstop\u001b[0m\u001b[0;34m+\u001b[0m\u001b[0;36m1\u001b[0m\u001b[0;34m)\u001b[0m\u001b[0;34m,\u001b[0m \u001b[0minterval\u001b[0m \u001b[0;34m=\u001b[0m \u001b[0mspeed\u001b[0m\u001b[0;34m,\u001b[0m \u001b[0mrepeat\u001b[0m \u001b[0;34m=\u001b[0m \u001b[0;32mFalse\u001b[0m\u001b[0;34m)\u001b[0m\u001b[0;34m\u001b[0m\u001b[0;34m\u001b[0m\u001b[0m\n\u001b[0m\u001b[1;32m     19\u001b[0m \u001b[0;31m#Call funcanimation with default 'jshtml' format which should launch a player in browser\u001b[0m\u001b[0;34m\u001b[0m\u001b[0;34m\u001b[0m\u001b[0;34m\u001b[0m\u001b[0m\n\u001b[1;32m     20\u001b[0m \u001b[0manimator\u001b[0m\u001b[0;34m\u001b[0m\u001b[0;34m\u001b[0m\u001b[0m\n",
      "\u001b[0;31mNameError\u001b[0m: name 'yearstart' is not defined"
     ]
    },
    {
     "data": {
      "image/png": "[encoded data removed]",
      "text/plain": [
       "<Figure size 2880x1800 with 1 Axes>"
      ]
     },
     "metadata": {
      "needs_background": "light"
     },
     "output_type": "display_data"
    }
   ],
   "source": [
    "#increasing size limit for large animations\n",
    "mpl.rcParams['animation.embed_limit'] = 2**128\n",
    "mpl.rcParams['animation.html'] = 'jshtml'\n",
    "\n",
    "#Code to run for animation launch and control - Replacing with a recorded animated gif for ease of visualizing in notebook\n",
    "\n",
    "#adjusting figure size based on # of teams to show in chart\n",
    "if((len(team_list)<7) & (useconf==False)):\n",
    "    fig, ax = plt.subplots(figsize=(40, 25)) \n",
    "elif((9<=len(team_list)<17) & ((useconf==False))):\n",
    "    fig, ax = plt.subplots(figsize=(40, 45))\n",
    "elif((useconf==True) & ((conf!='All NFL') & (conf!='All NBA')  & (conf!='All MLB'))):\n",
    "    fig, ax = plt.subplots(figsize=(40, 45)) \n",
    "else:\n",
    "    fig, ax = plt.subplots(figsize=(45, 60))    \n",
    "    \n",
    "#Define funcanimation with appropriate variable inputs\n",
    "animator = animation.FuncAnimation(fig, draw_barchart, frames=range(yearstart, yearstop+1), interval = speed, repeat = False)\n",
    "#Call funcanimation with default 'jshtml' format which should launch a player in browser\n",
    "animator"
   ]
  },
  {
   "cell_type": "code",
   "execution_count": null,
   "metadata": {},
   "outputs": [],
   "source": [
    "# Including recorded gif video example of NFC North record race over time"
   ]
  },
  {
   "cell_type": "markdown",
   "metadata": {},
   "source": [
    "<img src=\"NFCNorth_Records_1961_2019_new_fast_rev.gif\" align='left' width=\"920\" length=\"600\" />"
   ]
  },
  {
   "cell_type": "code",
   "execution_count": null,
   "metadata": {},
   "outputs": [],
   "source": [
    "# Including another recorded gif video example of NBA Eastern Conference records since 1990 (fastest speed)"
   ]
  },
  {
   "cell_type": "markdown",
   "metadata": {},
   "source": [
    "<img src=\"NBA_Eastern_1990_2019.gif\" align='left' width=\"900\" length=\"880\" />"
   ]
  },
  {
   "cell_type": "code",
   "execution_count": null,
   "metadata": {},
   "outputs": [],
   "source": []
  }
 ],
 "metadata": {
  "kernelspec": {
   "display_name": "Python 3",
   "language": "python",
   "name": "python3"
  },
  "language_info": {
   "codemirror_mode": {
    "name": "ipython",
    "version": 3
   },
   "file_extension": ".py",
   "mimetype": "text/x-python",
   "name": "python",
   "nbconvert_exporter": "python",
   "pygments_lexer": "ipython3",
   "version": "3.7.6"
  }
 },
 "nbformat": 4,
 "nbformat_minor": 2
}
